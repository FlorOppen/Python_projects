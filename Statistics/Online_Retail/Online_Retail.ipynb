{
 "cells": [
  {
   "cell_type": "markdown",
   "metadata": {},
   "source": [
    "# Online Retail\n",
    "\n",
    "This notebook aims to analyze the impact of a discount strategy on product sales using the \"Online Retail\" dataset. The dataset contains transactional data from an online retail company based in the United Kingdom, spanning from December 2010 to December 2011. The dataset includes information about the invoices, products, quantities, prices, and customer details.\n",
    "\n",
    "### Goal: apply Statistics to analyze Online Retail dataset.\n",
    "The primary goal of this analysis is to evaluate the effectiveness of a discount strategy on product sales.\n",
    "\n",
    "#### Dataset columns:\n",
    "- InvoiceNo: Invoice number. Nominal, a 6-digit integral number uniquely assigned to each transaction.\n",
    "- StockCode: Product (item) code. Nominal, a 5-digit integral number uniquely assigned to each distinct product.\n",
    "- Description: Product (item) name. Nominal.\n",
    "- Quantity: The quantities of each product (item) per transaction. Numeric.\n",
    "- InvoiceDate: Invoice date and time. Numeric, the day and time when a transaction was generated.\n",
    "- UnitPrice: Unit price. Numeric, Product price per unit in sterling.\n",
    "- CustomerID: Customer number. Nominal, a 5-digit integral number uniquely assigned to each customer.\n",
    "- Country: Country name. Nominal, the name of the country where each customer resides."
   ]
  },
  {
   "cell_type": "code",
   "execution_count": 97,
   "metadata": {},
   "outputs": [],
   "source": [
    "#Import common libraries \n",
    "import pandas as pd\n",
    "import numpy as np\n",
    "import matplotlib.pyplot as plt\n",
    "import seaborn as sns\n",
    "import warnings\n",
    "warnings.filterwarnings('ignore')"
   ]
  },
  {
   "cell_type": "markdown",
   "metadata": {},
   "source": [
    "## Data Exploration and Cleaning"
   ]
  },
  {
   "cell_type": "code",
   "execution_count": 98,
   "metadata": {},
   "outputs": [
    {
     "data": {
      "text/html": [
       "<div>\n",
       "<style scoped>\n",
       "    .dataframe tbody tr th:only-of-type {\n",
       "        vertical-align: middle;\n",
       "    }\n",
       "\n",
       "    .dataframe tbody tr th {\n",
       "        vertical-align: top;\n",
       "    }\n",
       "\n",
       "    .dataframe thead th {\n",
       "        text-align: right;\n",
       "    }\n",
       "</style>\n",
       "<table border=\"1\" class=\"dataframe\">\n",
       "  <thead>\n",
       "    <tr style=\"text-align: right;\">\n",
       "      <th></th>\n",
       "      <th>InvoiceNo</th>\n",
       "      <th>StockCode</th>\n",
       "      <th>Description</th>\n",
       "      <th>Quantity</th>\n",
       "      <th>InvoiceDate</th>\n",
       "      <th>UnitPrice</th>\n",
       "      <th>CustomerID</th>\n",
       "      <th>Country</th>\n",
       "    </tr>\n",
       "  </thead>\n",
       "  <tbody>\n",
       "    <tr>\n",
       "      <th>0</th>\n",
       "      <td>536365</td>\n",
       "      <td>85123A</td>\n",
       "      <td>WHITE HANGING HEART T-LIGHT HOLDER</td>\n",
       "      <td>6</td>\n",
       "      <td>12/1/2010 8:26</td>\n",
       "      <td>2.55</td>\n",
       "      <td>17850.0</td>\n",
       "      <td>United Kingdom</td>\n",
       "    </tr>\n",
       "    <tr>\n",
       "      <th>1</th>\n",
       "      <td>536365</td>\n",
       "      <td>71053</td>\n",
       "      <td>WHITE METAL LANTERN</td>\n",
       "      <td>6</td>\n",
       "      <td>12/1/2010 8:26</td>\n",
       "      <td>3.39</td>\n",
       "      <td>17850.0</td>\n",
       "      <td>United Kingdom</td>\n",
       "    </tr>\n",
       "    <tr>\n",
       "      <th>2</th>\n",
       "      <td>536365</td>\n",
       "      <td>84406B</td>\n",
       "      <td>CREAM CUPID HEARTS COAT HANGER</td>\n",
       "      <td>8</td>\n",
       "      <td>12/1/2010 8:26</td>\n",
       "      <td>2.75</td>\n",
       "      <td>17850.0</td>\n",
       "      <td>United Kingdom</td>\n",
       "    </tr>\n",
       "    <tr>\n",
       "      <th>3</th>\n",
       "      <td>536365</td>\n",
       "      <td>84029G</td>\n",
       "      <td>KNITTED UNION FLAG HOT WATER BOTTLE</td>\n",
       "      <td>6</td>\n",
       "      <td>12/1/2010 8:26</td>\n",
       "      <td>3.39</td>\n",
       "      <td>17850.0</td>\n",
       "      <td>United Kingdom</td>\n",
       "    </tr>\n",
       "    <tr>\n",
       "      <th>4</th>\n",
       "      <td>536365</td>\n",
       "      <td>84029E</td>\n",
       "      <td>RED WOOLLY HOTTIE WHITE HEART.</td>\n",
       "      <td>6</td>\n",
       "      <td>12/1/2010 8:26</td>\n",
       "      <td>3.39</td>\n",
       "      <td>17850.0</td>\n",
       "      <td>United Kingdom</td>\n",
       "    </tr>\n",
       "  </tbody>\n",
       "</table>\n",
       "</div>"
      ],
      "text/plain": [
       "  InvoiceNo StockCode                          Description  Quantity  \\\n",
       "0    536365    85123A   WHITE HANGING HEART T-LIGHT HOLDER         6   \n",
       "1    536365     71053                  WHITE METAL LANTERN         6   \n",
       "2    536365    84406B       CREAM CUPID HEARTS COAT HANGER         8   \n",
       "3    536365    84029G  KNITTED UNION FLAG HOT WATER BOTTLE         6   \n",
       "4    536365    84029E       RED WOOLLY HOTTIE WHITE HEART.         6   \n",
       "\n",
       "      InvoiceDate  UnitPrice  CustomerID         Country  \n",
       "0  12/1/2010 8:26       2.55     17850.0  United Kingdom  \n",
       "1  12/1/2010 8:26       3.39     17850.0  United Kingdom  \n",
       "2  12/1/2010 8:26       2.75     17850.0  United Kingdom  \n",
       "3  12/1/2010 8:26       3.39     17850.0  United Kingdom  \n",
       "4  12/1/2010 8:26       3.39     17850.0  United Kingdom  "
      ]
     },
     "execution_count": 98,
     "metadata": {},
     "output_type": "execute_result"
    }
   ],
   "source": [
    "#Read the dataset\n",
    "data = pd.read_csv('OnlineRetail.csv',encoding = \"ISO-8859-1\")\n",
    "data.head()"
   ]
  },
  {
   "cell_type": "code",
   "execution_count": 99,
   "metadata": {},
   "outputs": [
    {
     "name": "stdout",
     "output_type": "stream",
     "text": [
      "<class 'pandas.core.frame.DataFrame'>\n",
      "RangeIndex: 541909 entries, 0 to 541908\n",
      "Data columns (total 8 columns):\n",
      " #   Column       Non-Null Count   Dtype  \n",
      "---  ------       --------------   -----  \n",
      " 0   InvoiceNo    541909 non-null  object \n",
      " 1   StockCode    541909 non-null  object \n",
      " 2   Description  540455 non-null  object \n",
      " 3   Quantity     541909 non-null  int64  \n",
      " 4   InvoiceDate  541909 non-null  object \n",
      " 5   UnitPrice    541909 non-null  float64\n",
      " 6   CustomerID   406829 non-null  float64\n",
      " 7   Country      541909 non-null  object \n",
      "dtypes: float64(2), int64(1), object(5)\n",
      "memory usage: 33.1+ MB\n"
     ]
    }
   ],
   "source": [
    "data.info()"
   ]
  },
  {
   "cell_type": "code",
   "execution_count": 100,
   "metadata": {},
   "outputs": [
    {
     "data": {
      "text/html": [
       "<div>\n",
       "<style scoped>\n",
       "    .dataframe tbody tr th:only-of-type {\n",
       "        vertical-align: middle;\n",
       "    }\n",
       "\n",
       "    .dataframe tbody tr th {\n",
       "        vertical-align: top;\n",
       "    }\n",
       "\n",
       "    .dataframe thead th {\n",
       "        text-align: right;\n",
       "    }\n",
       "</style>\n",
       "<table border=\"1\" class=\"dataframe\">\n",
       "  <thead>\n",
       "    <tr style=\"text-align: right;\">\n",
       "      <th></th>\n",
       "      <th>Quantity</th>\n",
       "      <th>UnitPrice</th>\n",
       "      <th>CustomerID</th>\n",
       "    </tr>\n",
       "  </thead>\n",
       "  <tbody>\n",
       "    <tr>\n",
       "      <th>count</th>\n",
       "      <td>541909.000000</td>\n",
       "      <td>541909.000000</td>\n",
       "      <td>406829.000000</td>\n",
       "    </tr>\n",
       "    <tr>\n",
       "      <th>mean</th>\n",
       "      <td>9.552250</td>\n",
       "      <td>4.611114</td>\n",
       "      <td>15287.690570</td>\n",
       "    </tr>\n",
       "    <tr>\n",
       "      <th>std</th>\n",
       "      <td>218.081158</td>\n",
       "      <td>96.759853</td>\n",
       "      <td>1713.600303</td>\n",
       "    </tr>\n",
       "    <tr>\n",
       "      <th>min</th>\n",
       "      <td>-80995.000000</td>\n",
       "      <td>-11062.060000</td>\n",
       "      <td>12346.000000</td>\n",
       "    </tr>\n",
       "    <tr>\n",
       "      <th>25%</th>\n",
       "      <td>1.000000</td>\n",
       "      <td>1.250000</td>\n",
       "      <td>13953.000000</td>\n",
       "    </tr>\n",
       "    <tr>\n",
       "      <th>50%</th>\n",
       "      <td>3.000000</td>\n",
       "      <td>2.080000</td>\n",
       "      <td>15152.000000</td>\n",
       "    </tr>\n",
       "    <tr>\n",
       "      <th>75%</th>\n",
       "      <td>10.000000</td>\n",
       "      <td>4.130000</td>\n",
       "      <td>16791.000000</td>\n",
       "    </tr>\n",
       "    <tr>\n",
       "      <th>max</th>\n",
       "      <td>80995.000000</td>\n",
       "      <td>38970.000000</td>\n",
       "      <td>18287.000000</td>\n",
       "    </tr>\n",
       "  </tbody>\n",
       "</table>\n",
       "</div>"
      ],
      "text/plain": [
       "            Quantity      UnitPrice     CustomerID\n",
       "count  541909.000000  541909.000000  406829.000000\n",
       "mean        9.552250       4.611114   15287.690570\n",
       "std       218.081158      96.759853    1713.600303\n",
       "min    -80995.000000  -11062.060000   12346.000000\n",
       "25%         1.000000       1.250000   13953.000000\n",
       "50%         3.000000       2.080000   15152.000000\n",
       "75%        10.000000       4.130000   16791.000000\n",
       "max     80995.000000   38970.000000   18287.000000"
      ]
     },
     "execution_count": 100,
     "metadata": {},
     "output_type": "execute_result"
    }
   ],
   "source": [
    "data.describe()"
   ]
  },
  {
   "cell_type": "markdown",
   "metadata": {},
   "source": [
    "2 columns has missing values: Description and CustomerID. \n",
    "\n",
    "Columns types: 5 object, 2 float and 1 int64. CustomerID could be a object instead of float.\n",
    "\n",
    "Quantity and UnitPrice with negative values."
   ]
  },
  {
   "cell_type": "markdown",
   "metadata": {},
   "source": [
    "### Missing Values"
   ]
  },
  {
   "cell_type": "code",
   "execution_count": 101,
   "metadata": {},
   "outputs": [
    {
     "data": {
      "text/plain": [
       "InvoiceNo           0\n",
       "StockCode           0\n",
       "Description      1454\n",
       "Quantity            0\n",
       "InvoiceDate         0\n",
       "UnitPrice           0\n",
       "CustomerID     135080\n",
       "Country             0\n",
       "dtype: int64"
      ]
     },
     "execution_count": 101,
     "metadata": {},
     "output_type": "execute_result"
    }
   ],
   "source": [
    "#Analyze missing values\n",
    "data.isnull().sum()"
   ]
  },
  {
   "cell_type": "code",
   "execution_count": 102,
   "metadata": {},
   "outputs": [
    {
     "data": {
      "text/plain": [
       "1454"
      ]
     },
     "execution_count": 102,
     "metadata": {},
     "output_type": "execute_result"
    }
   ],
   "source": [
    "data[data['Description'].isnull()]['CustomerID'].isna().sum()"
   ]
  },
  {
   "cell_type": "markdown",
   "metadata": {},
   "source": [
    "All rows with missing Description has missing CustomerID too."
   ]
  },
  {
   "cell_type": "code",
   "execution_count": 103,
   "metadata": {},
   "outputs": [
    {
     "data": {
      "text/plain": [
       "InvoiceNo       0.000000\n",
       "StockCode       0.000000\n",
       "Description     0.268311\n",
       "Quantity        0.000000\n",
       "InvoiceDate     0.000000\n",
       "UnitPrice       0.000000\n",
       "CustomerID     24.926694\n",
       "Country         0.000000\n",
       "dtype: float64"
      ]
     },
     "execution_count": 103,
     "metadata": {},
     "output_type": "execute_result"
    }
   ],
   "source": [
    "#Missing values ratio per column. \n",
    "data.isnull().sum()/data.shape[0]*100"
   ]
  },
  {
   "cell_type": "markdown",
   "metadata": {},
   "source": [
    "Description has 0.27% of missing values.\n",
    "CustomerID almost 25% of missing values."
   ]
  },
  {
   "cell_type": "code",
   "execution_count": 104,
   "metadata": {},
   "outputs": [
    {
     "data": {
      "text/plain": [
       "0"
      ]
     },
     "execution_count": 104,
     "metadata": {},
     "output_type": "execute_result"
    }
   ],
   "source": [
    "# I'll see if I can fill CustomerID given the InvoiceNo\n",
    "invoice_customer_count = data.groupby('InvoiceNo')['CustomerID'].nunique()\n",
    "inconsistent_invoice_customer_count = invoice_customer_count[invoice_customer_count > 1]\n",
    "inconsistent_invoice_customer_count.shape[0]"
   ]
  },
  {
   "cell_type": "markdown",
   "metadata": {},
   "source": [
    "The result confirms that there are no cases with the same InvoiceNo but with a different amount of CustomerID. This means that all InvoiceNos have a single CustomerID value (or all NaNs).\n",
    "I have no choise but to drop them."
   ]
  },
  {
   "cell_type": "code",
   "execution_count": 105,
   "metadata": {},
   "outputs": [
    {
     "data": {
      "text/plain": [
       "InvoiceNo      0.0\n",
       "StockCode      0.0\n",
       "Description    0.0\n",
       "Quantity       0.0\n",
       "InvoiceDate    0.0\n",
       "UnitPrice      0.0\n",
       "CustomerID     0.0\n",
       "Country        0.0\n",
       "dtype: float64"
      ]
     },
     "execution_count": 105,
     "metadata": {},
     "output_type": "execute_result"
    }
   ],
   "source": [
    "# Remove CustomerID with missing values\n",
    "data = data.dropna(subset=['CustomerID'])\n",
    "data.isnull().sum()/data.shape[0]*100"
   ]
  },
  {
   "cell_type": "markdown",
   "metadata": {},
   "source": [
    "All missing Description were droped too."
   ]
  },
  {
   "cell_type": "code",
   "execution_count": 106,
   "metadata": {},
   "outputs": [
    {
     "data": {
      "text/html": [
       "<div>\n",
       "<style scoped>\n",
       "    .dataframe tbody tr th:only-of-type {\n",
       "        vertical-align: middle;\n",
       "    }\n",
       "\n",
       "    .dataframe tbody tr th {\n",
       "        vertical-align: top;\n",
       "    }\n",
       "\n",
       "    .dataframe thead th {\n",
       "        text-align: right;\n",
       "    }\n",
       "</style>\n",
       "<table border=\"1\" class=\"dataframe\">\n",
       "  <thead>\n",
       "    <tr style=\"text-align: right;\">\n",
       "      <th></th>\n",
       "      <th>Quantity</th>\n",
       "      <th>UnitPrice</th>\n",
       "      <th>CustomerID</th>\n",
       "    </tr>\n",
       "  </thead>\n",
       "  <tbody>\n",
       "    <tr>\n",
       "      <th>count</th>\n",
       "      <td>406829.000000</td>\n",
       "      <td>406829.000000</td>\n",
       "      <td>406829.000000</td>\n",
       "    </tr>\n",
       "    <tr>\n",
       "      <th>mean</th>\n",
       "      <td>12.061303</td>\n",
       "      <td>3.460471</td>\n",
       "      <td>15287.690570</td>\n",
       "    </tr>\n",
       "    <tr>\n",
       "      <th>std</th>\n",
       "      <td>248.693370</td>\n",
       "      <td>69.315162</td>\n",
       "      <td>1713.600303</td>\n",
       "    </tr>\n",
       "    <tr>\n",
       "      <th>min</th>\n",
       "      <td>-80995.000000</td>\n",
       "      <td>0.000000</td>\n",
       "      <td>12346.000000</td>\n",
       "    </tr>\n",
       "    <tr>\n",
       "      <th>25%</th>\n",
       "      <td>2.000000</td>\n",
       "      <td>1.250000</td>\n",
       "      <td>13953.000000</td>\n",
       "    </tr>\n",
       "    <tr>\n",
       "      <th>50%</th>\n",
       "      <td>5.000000</td>\n",
       "      <td>1.950000</td>\n",
       "      <td>15152.000000</td>\n",
       "    </tr>\n",
       "    <tr>\n",
       "      <th>75%</th>\n",
       "      <td>12.000000</td>\n",
       "      <td>3.750000</td>\n",
       "      <td>16791.000000</td>\n",
       "    </tr>\n",
       "    <tr>\n",
       "      <th>max</th>\n",
       "      <td>80995.000000</td>\n",
       "      <td>38970.000000</td>\n",
       "      <td>18287.000000</td>\n",
       "    </tr>\n",
       "  </tbody>\n",
       "</table>\n",
       "</div>"
      ],
      "text/plain": [
       "            Quantity      UnitPrice     CustomerID\n",
       "count  406829.000000  406829.000000  406829.000000\n",
       "mean       12.061303       3.460471   15287.690570\n",
       "std       248.693370      69.315162    1713.600303\n",
       "min    -80995.000000       0.000000   12346.000000\n",
       "25%         2.000000       1.250000   13953.000000\n",
       "50%         5.000000       1.950000   15152.000000\n",
       "75%        12.000000       3.750000   16791.000000\n",
       "max     80995.000000   38970.000000   18287.000000"
      ]
     },
     "execution_count": 106,
     "metadata": {},
     "output_type": "execute_result"
    }
   ],
   "source": [
    "#Analyze the dataset again after removing missing values\n",
    "data.describe()"
   ]
  },
  {
   "cell_type": "markdown",
   "metadata": {},
   "source": [
    "There is negative Quantity? Zero value in UnitePrice? (Negative values in UnitPrice are gone).\n",
    "CustomerID a numeric value?"
   ]
  },
  {
   "cell_type": "code",
   "execution_count": 107,
   "metadata": {},
   "outputs": [
    {
     "data": {
      "text/plain": [
       "8905"
      ]
     },
     "execution_count": 107,
     "metadata": {},
     "output_type": "execute_result"
    }
   ],
   "source": [
    "data[data.Quantity < 0][\"Quantity\"].count()"
   ]
  },
  {
   "cell_type": "markdown",
   "metadata": {},
   "source": [
    "Negative Quantity may be because orders were cancelled. They will not contribute to my analysis, so I will drop them."
   ]
  },
  {
   "cell_type": "code",
   "execution_count": 108,
   "metadata": {},
   "outputs": [
    {
     "data": {
      "text/plain": [
       "(397924, 8)"
      ]
     },
     "execution_count": 108,
     "metadata": {},
     "output_type": "execute_result"
    }
   ],
   "source": [
    "#Drop rows with negative quantity\n",
    "data = data[data.Quantity >= 0]\n",
    "data.shape"
   ]
  },
  {
   "cell_type": "code",
   "execution_count": 109,
   "metadata": {},
   "outputs": [
    {
     "data": {
      "text/html": [
       "<div>\n",
       "<style scoped>\n",
       "    .dataframe tbody tr th:only-of-type {\n",
       "        vertical-align: middle;\n",
       "    }\n",
       "\n",
       "    .dataframe tbody tr th {\n",
       "        vertical-align: top;\n",
       "    }\n",
       "\n",
       "    .dataframe thead th {\n",
       "        text-align: right;\n",
       "    }\n",
       "</style>\n",
       "<table border=\"1\" class=\"dataframe\">\n",
       "  <thead>\n",
       "    <tr style=\"text-align: right;\">\n",
       "      <th></th>\n",
       "      <th>InvoiceNo</th>\n",
       "      <th>StockCode</th>\n",
       "      <th>Description</th>\n",
       "      <th>Quantity</th>\n",
       "      <th>InvoiceDate</th>\n",
       "      <th>UnitPrice</th>\n",
       "      <th>CustomerID</th>\n",
       "      <th>Country</th>\n",
       "    </tr>\n",
       "  </thead>\n",
       "  <tbody>\n",
       "    <tr>\n",
       "      <th>420404</th>\n",
       "      <td>572893</td>\n",
       "      <td>21208</td>\n",
       "      <td>PASTEL COLOUR HONEYCOMB FAN</td>\n",
       "      <td>5</td>\n",
       "      <td>10/26/2011 14:36</td>\n",
       "      <td>0.0</td>\n",
       "      <td>18059.0</td>\n",
       "      <td>United Kingdom</td>\n",
       "    </tr>\n",
       "    <tr>\n",
       "      <th>314748</th>\n",
       "      <td>564651</td>\n",
       "      <td>21786</td>\n",
       "      <td>POLKADOT RAIN HAT</td>\n",
       "      <td>144</td>\n",
       "      <td>8/26/2011 14:19</td>\n",
       "      <td>0.0</td>\n",
       "      <td>14646.0</td>\n",
       "      <td>Netherlands</td>\n",
       "    </tr>\n",
       "    <tr>\n",
       "      <th>139453</th>\n",
       "      <td>548318</td>\n",
       "      <td>22055</td>\n",
       "      <td>MINI CAKE STAND  HANGING STRAWBERY</td>\n",
       "      <td>5</td>\n",
       "      <td>3/30/2011 12:45</td>\n",
       "      <td>0.0</td>\n",
       "      <td>13113.0</td>\n",
       "      <td>United Kingdom</td>\n",
       "    </tr>\n",
       "    <tr>\n",
       "      <th>130188</th>\n",
       "      <td>547417</td>\n",
       "      <td>22062</td>\n",
       "      <td>CERAMIC BOWL WITH LOVE HEART DESIGN</td>\n",
       "      <td>36</td>\n",
       "      <td>3/23/2011 10:25</td>\n",
       "      <td>0.0</td>\n",
       "      <td>13239.0</td>\n",
       "      <td>United Kingdom</td>\n",
       "    </tr>\n",
       "    <tr>\n",
       "      <th>436597</th>\n",
       "      <td>574175</td>\n",
       "      <td>22065</td>\n",
       "      <td>CHRISTMAS PUDDING TRINKET POT</td>\n",
       "      <td>12</td>\n",
       "      <td>11/3/2011 11:47</td>\n",
       "      <td>0.0</td>\n",
       "      <td>14110.0</td>\n",
       "      <td>United Kingdom</td>\n",
       "    </tr>\n",
       "    <tr>\n",
       "      <th>454464</th>\n",
       "      <td>575579</td>\n",
       "      <td>22089</td>\n",
       "      <td>PAPER BUNTING VINTAGE PAISLEY</td>\n",
       "      <td>24</td>\n",
       "      <td>11/10/2011 11:49</td>\n",
       "      <td>0.0</td>\n",
       "      <td>13081.0</td>\n",
       "      <td>United Kingdom</td>\n",
       "    </tr>\n",
       "    <tr>\n",
       "      <th>47068</th>\n",
       "      <td>540372</td>\n",
       "      <td>22090</td>\n",
       "      <td>PAPER BUNTING RETROSPOT</td>\n",
       "      <td>24</td>\n",
       "      <td>1/6/2011 16:41</td>\n",
       "      <td>0.0</td>\n",
       "      <td>13081.0</td>\n",
       "      <td>United Kingdom</td>\n",
       "    </tr>\n",
       "    <tr>\n",
       "      <th>145208</th>\n",
       "      <td>548871</td>\n",
       "      <td>22162</td>\n",
       "      <td>HEART GARLAND RUSTIC PADDED</td>\n",
       "      <td>2</td>\n",
       "      <td>4/4/2011 14:42</td>\n",
       "      <td>0.0</td>\n",
       "      <td>14410.0</td>\n",
       "      <td>United Kingdom</td>\n",
       "    </tr>\n",
       "    <tr>\n",
       "      <th>279324</th>\n",
       "      <td>561284</td>\n",
       "      <td>22167</td>\n",
       "      <td>OVAL WALL MIRROR DIAMANTE</td>\n",
       "      <td>1</td>\n",
       "      <td>7/26/2011 12:24</td>\n",
       "      <td>0.0</td>\n",
       "      <td>16818.0</td>\n",
       "      <td>United Kingdom</td>\n",
       "    </tr>\n",
       "    <tr>\n",
       "      <th>56674</th>\n",
       "      <td>541109</td>\n",
       "      <td>22168</td>\n",
       "      <td>ORGANISER WOOD ANTIQUE WHITE</td>\n",
       "      <td>1</td>\n",
       "      <td>1/13/2011 15:10</td>\n",
       "      <td>0.0</td>\n",
       "      <td>15107.0</td>\n",
       "      <td>United Kingdom</td>\n",
       "    </tr>\n",
       "    <tr>\n",
       "      <th>439361</th>\n",
       "      <td>574469</td>\n",
       "      <td>22385</td>\n",
       "      <td>JUMBO BAG SPACEBOY DESIGN</td>\n",
       "      <td>12</td>\n",
       "      <td>11/4/2011 11:55</td>\n",
       "      <td>0.0</td>\n",
       "      <td>12431.0</td>\n",
       "      <td>Australia</td>\n",
       "    </tr>\n",
       "    <tr>\n",
       "      <th>40089</th>\n",
       "      <td>539722</td>\n",
       "      <td>22423</td>\n",
       "      <td>REGENCY CAKESTAND 3 TIER</td>\n",
       "      <td>10</td>\n",
       "      <td>12/21/2010 13:45</td>\n",
       "      <td>0.0</td>\n",
       "      <td>14911.0</td>\n",
       "      <td>EIRE</td>\n",
       "    </tr>\n",
       "    <tr>\n",
       "      <th>454463</th>\n",
       "      <td>575579</td>\n",
       "      <td>22437</td>\n",
       "      <td>SET OF 9 BLACK SKULL BALLOONS</td>\n",
       "      <td>20</td>\n",
       "      <td>11/10/2011 11:49</td>\n",
       "      <td>0.0</td>\n",
       "      <td>13081.0</td>\n",
       "      <td>United Kingdom</td>\n",
       "    </tr>\n",
       "    <tr>\n",
       "      <th>479079</th>\n",
       "      <td>577129</td>\n",
       "      <td>22464</td>\n",
       "      <td>HANGING METAL HEART LANTERN</td>\n",
       "      <td>4</td>\n",
       "      <td>11/17/2011 19:52</td>\n",
       "      <td>0.0</td>\n",
       "      <td>15602.0</td>\n",
       "      <td>United Kingdom</td>\n",
       "    </tr>\n",
       "    <tr>\n",
       "      <th>47070</th>\n",
       "      <td>540372</td>\n",
       "      <td>22553</td>\n",
       "      <td>PLASTERS IN TIN SKULLS</td>\n",
       "      <td>24</td>\n",
       "      <td>1/6/2011 16:41</td>\n",
       "      <td>0.0</td>\n",
       "      <td>13081.0</td>\n",
       "      <td>United Kingdom</td>\n",
       "    </tr>\n",
       "    <tr>\n",
       "      <th>33576</th>\n",
       "      <td>539263</td>\n",
       "      <td>22580</td>\n",
       "      <td>ADVENT CALENDAR GINGHAM SACK</td>\n",
       "      <td>4</td>\n",
       "      <td>12/16/2010 14:36</td>\n",
       "      <td>0.0</td>\n",
       "      <td>16560.0</td>\n",
       "      <td>United Kingdom</td>\n",
       "    </tr>\n",
       "    <tr>\n",
       "      <th>198383</th>\n",
       "      <td>554037</td>\n",
       "      <td>22619</td>\n",
       "      <td>SET OF 6 SOLDIER SKITTLES</td>\n",
       "      <td>80</td>\n",
       "      <td>5/20/2011 14:13</td>\n",
       "      <td>0.0</td>\n",
       "      <td>12415.0</td>\n",
       "      <td>Australia</td>\n",
       "    </tr>\n",
       "    <tr>\n",
       "      <th>446125</th>\n",
       "      <td>574879</td>\n",
       "      <td>22625</td>\n",
       "      <td>RED KITCHEN SCALES</td>\n",
       "      <td>2</td>\n",
       "      <td>11/7/2011 13:22</td>\n",
       "      <td>0.0</td>\n",
       "      <td>13014.0</td>\n",
       "      <td>United Kingdom</td>\n",
       "    </tr>\n",
       "    <tr>\n",
       "      <th>157042</th>\n",
       "      <td>550188</td>\n",
       "      <td>22636</td>\n",
       "      <td>CHILDS BREAKFAST SET CIRCUS PARADE</td>\n",
       "      <td>1</td>\n",
       "      <td>4/14/2011 18:57</td>\n",
       "      <td>0.0</td>\n",
       "      <td>12457.0</td>\n",
       "      <td>Switzerland</td>\n",
       "    </tr>\n",
       "    <tr>\n",
       "      <th>379913</th>\n",
       "      <td>569716</td>\n",
       "      <td>22778</td>\n",
       "      <td>GLASS CLOCHE SMALL</td>\n",
       "      <td>2</td>\n",
       "      <td>10/6/2011 8:17</td>\n",
       "      <td>0.0</td>\n",
       "      <td>15804.0</td>\n",
       "      <td>United Kingdom</td>\n",
       "    </tr>\n",
       "    <tr>\n",
       "      <th>9302</th>\n",
       "      <td>537197</td>\n",
       "      <td>22841</td>\n",
       "      <td>ROUND CAKE TIN VINTAGE GREEN</td>\n",
       "      <td>1</td>\n",
       "      <td>12/5/2010 14:02</td>\n",
       "      <td>0.0</td>\n",
       "      <td>12647.0</td>\n",
       "      <td>Germany</td>\n",
       "    </tr>\n",
       "    <tr>\n",
       "      <th>446793</th>\n",
       "      <td>574920</td>\n",
       "      <td>22899</td>\n",
       "      <td>CHILDREN'S APRON DOLLY GIRL</td>\n",
       "      <td>1</td>\n",
       "      <td>11/7/2011 16:34</td>\n",
       "      <td>0.0</td>\n",
       "      <td>13985.0</td>\n",
       "      <td>United Kingdom</td>\n",
       "    </tr>\n",
       "    <tr>\n",
       "      <th>314747</th>\n",
       "      <td>564651</td>\n",
       "      <td>22955</td>\n",
       "      <td>36 FOIL STAR CAKE CASES</td>\n",
       "      <td>144</td>\n",
       "      <td>8/26/2011 14:19</td>\n",
       "      <td>0.0</td>\n",
       "      <td>14646.0</td>\n",
       "      <td>Netherlands</td>\n",
       "    </tr>\n",
       "    <tr>\n",
       "      <th>282912</th>\n",
       "      <td>561669</td>\n",
       "      <td>22960</td>\n",
       "      <td>JAM MAKING SET WITH JARS</td>\n",
       "      <td>11</td>\n",
       "      <td>7/28/2011 17:09</td>\n",
       "      <td>0.0</td>\n",
       "      <td>12507.0</td>\n",
       "      <td>Spain</td>\n",
       "    </tr>\n",
       "    <tr>\n",
       "      <th>298054</th>\n",
       "      <td>562973</td>\n",
       "      <td>23157</td>\n",
       "      <td>SET OF 6 NATIVITY MAGNETS</td>\n",
       "      <td>240</td>\n",
       "      <td>8/11/2011 11:42</td>\n",
       "      <td>0.0</td>\n",
       "      <td>14911.0</td>\n",
       "      <td>EIRE</td>\n",
       "    </tr>\n",
       "    <tr>\n",
       "      <th>436428</th>\n",
       "      <td>574138</td>\n",
       "      <td>23234</td>\n",
       "      <td>BISCUIT TIN VINTAGE CHRISTMAS</td>\n",
       "      <td>216</td>\n",
       "      <td>11/3/2011 11:26</td>\n",
       "      <td>0.0</td>\n",
       "      <td>12415.0</td>\n",
       "      <td>Australia</td>\n",
       "    </tr>\n",
       "    <tr>\n",
       "      <th>314746</th>\n",
       "      <td>564651</td>\n",
       "      <td>23268</td>\n",
       "      <td>SET OF 2 CERAMIC CHRISTMAS REINDEER</td>\n",
       "      <td>192</td>\n",
       "      <td>8/26/2011 14:19</td>\n",
       "      <td>0.0</td>\n",
       "      <td>14646.0</td>\n",
       "      <td>Netherlands</td>\n",
       "    </tr>\n",
       "    <tr>\n",
       "      <th>314745</th>\n",
       "      <td>564651</td>\n",
       "      <td>23270</td>\n",
       "      <td>SET OF 2 CERAMIC PAINTED HEARTS</td>\n",
       "      <td>96</td>\n",
       "      <td>8/26/2011 14:19</td>\n",
       "      <td>0.0</td>\n",
       "      <td>14646.0</td>\n",
       "      <td>Netherlands</td>\n",
       "    </tr>\n",
       "    <tr>\n",
       "      <th>480649</th>\n",
       "      <td>577314</td>\n",
       "      <td>23407</td>\n",
       "      <td>SET OF 2 TRAYS HOME SWEET HOME</td>\n",
       "      <td>2</td>\n",
       "      <td>11/18/2011 13:23</td>\n",
       "      <td>0.0</td>\n",
       "      <td>12444.0</td>\n",
       "      <td>Norway</td>\n",
       "    </tr>\n",
       "    <tr>\n",
       "      <th>446794</th>\n",
       "      <td>574920</td>\n",
       "      <td>23480</td>\n",
       "      <td>MINI LIGHTS WOODLAND MUSHROOMS</td>\n",
       "      <td>1</td>\n",
       "      <td>11/7/2011 16:34</td>\n",
       "      <td>0.0</td>\n",
       "      <td>13985.0</td>\n",
       "      <td>United Kingdom</td>\n",
       "    </tr>\n",
       "    <tr>\n",
       "      <th>187613</th>\n",
       "      <td>553000</td>\n",
       "      <td>47566</td>\n",
       "      <td>PARTY BUNTING</td>\n",
       "      <td>4</td>\n",
       "      <td>5/12/2011 15:21</td>\n",
       "      <td>0.0</td>\n",
       "      <td>17667.0</td>\n",
       "      <td>United Kingdom</td>\n",
       "    </tr>\n",
       "    <tr>\n",
       "      <th>86789</th>\n",
       "      <td>543599</td>\n",
       "      <td>84535B</td>\n",
       "      <td>FAIRY CAKES NOTEBOOK A6 SIZE</td>\n",
       "      <td>16</td>\n",
       "      <td>2/10/2011 13:08</td>\n",
       "      <td>0.0</td>\n",
       "      <td>17560.0</td>\n",
       "      <td>United Kingdom</td>\n",
       "    </tr>\n",
       "    <tr>\n",
       "      <th>502122</th>\n",
       "      <td>578841</td>\n",
       "      <td>84826</td>\n",
       "      <td>ASSTD DESIGN 3D PAPER STICKERS</td>\n",
       "      <td>12540</td>\n",
       "      <td>11/25/2011 15:57</td>\n",
       "      <td>0.0</td>\n",
       "      <td>13256.0</td>\n",
       "      <td>United Kingdom</td>\n",
       "    </tr>\n",
       "    <tr>\n",
       "      <th>479546</th>\n",
       "      <td>577168</td>\n",
       "      <td>M</td>\n",
       "      <td>Manual</td>\n",
       "      <td>1</td>\n",
       "      <td>11/18/2011 10:42</td>\n",
       "      <td>0.0</td>\n",
       "      <td>12603.0</td>\n",
       "      <td>Germany</td>\n",
       "    </tr>\n",
       "    <tr>\n",
       "      <th>285657</th>\n",
       "      <td>561916</td>\n",
       "      <td>M</td>\n",
       "      <td>Manual</td>\n",
       "      <td>1</td>\n",
       "      <td>8/1/2011 11:44</td>\n",
       "      <td>0.0</td>\n",
       "      <td>15581.0</td>\n",
       "      <td>United Kingdom</td>\n",
       "    </tr>\n",
       "    <tr>\n",
       "      <th>436961</th>\n",
       "      <td>574252</td>\n",
       "      <td>M</td>\n",
       "      <td>Manual</td>\n",
       "      <td>1</td>\n",
       "      <td>11/3/2011 13:24</td>\n",
       "      <td>0.0</td>\n",
       "      <td>12437.0</td>\n",
       "      <td>France</td>\n",
       "    </tr>\n",
       "    <tr>\n",
       "      <th>485985</th>\n",
       "      <td>577696</td>\n",
       "      <td>M</td>\n",
       "      <td>Manual</td>\n",
       "      <td>1</td>\n",
       "      <td>11/21/2011 11:57</td>\n",
       "      <td>0.0</td>\n",
       "      <td>16406.0</td>\n",
       "      <td>United Kingdom</td>\n",
       "    </tr>\n",
       "    <tr>\n",
       "      <th>395529</th>\n",
       "      <td>571035</td>\n",
       "      <td>M</td>\n",
       "      <td>Manual</td>\n",
       "      <td>1</td>\n",
       "      <td>10/13/2011 12:50</td>\n",
       "      <td>0.0</td>\n",
       "      <td>12446.0</td>\n",
       "      <td>RSA</td>\n",
       "    </tr>\n",
       "    <tr>\n",
       "      <th>361825</th>\n",
       "      <td>568384</td>\n",
       "      <td>M</td>\n",
       "      <td>Manual</td>\n",
       "      <td>1</td>\n",
       "      <td>9/27/2011 9:46</td>\n",
       "      <td>0.0</td>\n",
       "      <td>12748.0</td>\n",
       "      <td>United Kingdom</td>\n",
       "    </tr>\n",
       "    <tr>\n",
       "      <th>358655</th>\n",
       "      <td>568158</td>\n",
       "      <td>PADS</td>\n",
       "      <td>PADS TO MATCH ALL CUSHIONS</td>\n",
       "      <td>1</td>\n",
       "      <td>9/25/2011 12:22</td>\n",
       "      <td>0.0</td>\n",
       "      <td>16133.0</td>\n",
       "      <td>United Kingdom</td>\n",
       "    </tr>\n",
       "  </tbody>\n",
       "</table>\n",
       "</div>"
      ],
      "text/plain": [
       "       InvoiceNo StockCode                          Description  Quantity  \\\n",
       "420404    572893     21208          PASTEL COLOUR HONEYCOMB FAN         5   \n",
       "314748    564651     21786                   POLKADOT RAIN HAT        144   \n",
       "139453    548318     22055   MINI CAKE STAND  HANGING STRAWBERY         5   \n",
       "130188    547417     22062  CERAMIC BOWL WITH LOVE HEART DESIGN        36   \n",
       "436597    574175     22065       CHRISTMAS PUDDING TRINKET POT         12   \n",
       "454464    575579     22089        PAPER BUNTING VINTAGE PAISLEY        24   \n",
       "47068     540372     22090              PAPER BUNTING RETROSPOT        24   \n",
       "145208    548871     22162          HEART GARLAND RUSTIC PADDED         2   \n",
       "279324    561284     22167           OVAL WALL MIRROR DIAMANTE          1   \n",
       "56674     541109     22168        ORGANISER WOOD ANTIQUE WHITE          1   \n",
       "439361    574469     22385            JUMBO BAG SPACEBOY DESIGN        12   \n",
       "40089     539722     22423             REGENCY CAKESTAND 3 TIER        10   \n",
       "454463    575579     22437        SET OF 9 BLACK SKULL BALLOONS        20   \n",
       "479079    577129     22464          HANGING METAL HEART LANTERN         4   \n",
       "47070     540372     22553               PLASTERS IN TIN SKULLS        24   \n",
       "33576     539263     22580         ADVENT CALENDAR GINGHAM SACK         4   \n",
       "198383    554037     22619            SET OF 6 SOLDIER SKITTLES        80   \n",
       "446125    574879     22625                   RED KITCHEN SCALES         2   \n",
       "157042    550188     22636   CHILDS BREAKFAST SET CIRCUS PARADE         1   \n",
       "379913    569716     22778                   GLASS CLOCHE SMALL         2   \n",
       "9302      537197     22841         ROUND CAKE TIN VINTAGE GREEN         1   \n",
       "446793    574920     22899         CHILDREN'S APRON DOLLY GIRL          1   \n",
       "314747    564651     22955             36 FOIL STAR CAKE CASES        144   \n",
       "282912    561669     22960             JAM MAKING SET WITH JARS        11   \n",
       "298054    562973     23157           SET OF 6 NATIVITY MAGNETS        240   \n",
       "436428    574138     23234        BISCUIT TIN VINTAGE CHRISTMAS       216   \n",
       "314746    564651     23268  SET OF 2 CERAMIC CHRISTMAS REINDEER       192   \n",
       "314745    564651     23270     SET OF 2 CERAMIC PAINTED HEARTS         96   \n",
       "480649    577314     23407       SET OF 2 TRAYS HOME SWEET HOME         2   \n",
       "446794    574920     23480       MINI LIGHTS WOODLAND MUSHROOMS         1   \n",
       "187613    553000     47566                        PARTY BUNTING         4   \n",
       "86789     543599    84535B         FAIRY CAKES NOTEBOOK A6 SIZE        16   \n",
       "502122    578841     84826       ASSTD DESIGN 3D PAPER STICKERS     12540   \n",
       "479546    577168         M                               Manual         1   \n",
       "285657    561916         M                               Manual         1   \n",
       "436961    574252         M                               Manual         1   \n",
       "485985    577696         M                               Manual         1   \n",
       "395529    571035         M                               Manual         1   \n",
       "361825    568384         M                               Manual         1   \n",
       "358655    568158      PADS           PADS TO MATCH ALL CUSHIONS         1   \n",
       "\n",
       "             InvoiceDate  UnitPrice  CustomerID         Country  \n",
       "420404  10/26/2011 14:36        0.0     18059.0  United Kingdom  \n",
       "314748   8/26/2011 14:19        0.0     14646.0     Netherlands  \n",
       "139453   3/30/2011 12:45        0.0     13113.0  United Kingdom  \n",
       "130188   3/23/2011 10:25        0.0     13239.0  United Kingdom  \n",
       "436597   11/3/2011 11:47        0.0     14110.0  United Kingdom  \n",
       "454464  11/10/2011 11:49        0.0     13081.0  United Kingdom  \n",
       "47068     1/6/2011 16:41        0.0     13081.0  United Kingdom  \n",
       "145208    4/4/2011 14:42        0.0     14410.0  United Kingdom  \n",
       "279324   7/26/2011 12:24        0.0     16818.0  United Kingdom  \n",
       "56674    1/13/2011 15:10        0.0     15107.0  United Kingdom  \n",
       "439361   11/4/2011 11:55        0.0     12431.0       Australia  \n",
       "40089   12/21/2010 13:45        0.0     14911.0            EIRE  \n",
       "454463  11/10/2011 11:49        0.0     13081.0  United Kingdom  \n",
       "479079  11/17/2011 19:52        0.0     15602.0  United Kingdom  \n",
       "47070     1/6/2011 16:41        0.0     13081.0  United Kingdom  \n",
       "33576   12/16/2010 14:36        0.0     16560.0  United Kingdom  \n",
       "198383   5/20/2011 14:13        0.0     12415.0       Australia  \n",
       "446125   11/7/2011 13:22        0.0     13014.0  United Kingdom  \n",
       "157042   4/14/2011 18:57        0.0     12457.0     Switzerland  \n",
       "379913    10/6/2011 8:17        0.0     15804.0  United Kingdom  \n",
       "9302     12/5/2010 14:02        0.0     12647.0         Germany  \n",
       "446793   11/7/2011 16:34        0.0     13985.0  United Kingdom  \n",
       "314747   8/26/2011 14:19        0.0     14646.0     Netherlands  \n",
       "282912   7/28/2011 17:09        0.0     12507.0           Spain  \n",
       "298054   8/11/2011 11:42        0.0     14911.0            EIRE  \n",
       "436428   11/3/2011 11:26        0.0     12415.0       Australia  \n",
       "314746   8/26/2011 14:19        0.0     14646.0     Netherlands  \n",
       "314745   8/26/2011 14:19        0.0     14646.0     Netherlands  \n",
       "480649  11/18/2011 13:23        0.0     12444.0          Norway  \n",
       "446794   11/7/2011 16:34        0.0     13985.0  United Kingdom  \n",
       "187613   5/12/2011 15:21        0.0     17667.0  United Kingdom  \n",
       "86789    2/10/2011 13:08        0.0     17560.0  United Kingdom  \n",
       "502122  11/25/2011 15:57        0.0     13256.0  United Kingdom  \n",
       "479546  11/18/2011 10:42        0.0     12603.0         Germany  \n",
       "285657    8/1/2011 11:44        0.0     15581.0  United Kingdom  \n",
       "436961   11/3/2011 13:24        0.0     12437.0          France  \n",
       "485985  11/21/2011 11:57        0.0     16406.0  United Kingdom  \n",
       "395529  10/13/2011 12:50        0.0     12446.0             RSA  \n",
       "361825    9/27/2011 9:46        0.0     12748.0  United Kingdom  \n",
       "358655   9/25/2011 12:22        0.0     16133.0  United Kingdom  "
      ]
     },
     "metadata": {},
     "output_type": "display_data"
    },
    {
     "name": "stdout",
     "output_type": "stream",
     "text": [
      "40\n"
     ]
    }
   ],
   "source": [
    "#Rows with UnitPrice = 0\n",
    "display(data[data.UnitPrice == 0].sort_values(\"StockCode\"))\n",
    "print(len(data[data.UnitPrice == 0]))"
   ]
  },
  {
   "cell_type": "markdown",
   "metadata": {},
   "source": [
    "There are 40 products with price equal to Zero. Lets analyze if we can impute them given the SotckCode."
   ]
  },
  {
   "cell_type": "code",
   "execution_count": 110,
   "metadata": {},
   "outputs": [
    {
     "data": {
      "text/plain": [
       "0"
      ]
     },
     "execution_count": 110,
     "metadata": {},
     "output_type": "execute_result"
    }
   ],
   "source": [
    "# How many products have all prices equal to 0\n",
    "data.groupby('StockCode')['UnitPrice'].apply(lambda x: (x == 0).all()).sum()\n"
   ]
  },
  {
   "cell_type": "markdown",
   "metadata": {},
   "source": [
    "I'm going to impute 0 values with the median of the products price."
   ]
  },
  {
   "cell_type": "code",
   "execution_count": 111,
   "metadata": {},
   "outputs": [],
   "source": [
    "#Function to impute median price\n",
    "def impute_median_price(group):\n",
    "    non_zero_prices = group[group['UnitPrice'] > 0]['UnitPrice']\n",
    "    if not non_zero_prices.empty:\n",
    "        median_price = non_zero_prices.median()\n",
    "        group.loc[group['UnitPrice'] == 0, 'UnitPrice'] = median_price\n",
    "    return group"
   ]
  },
  {
   "cell_type": "code",
   "execution_count": 112,
   "metadata": {},
   "outputs": [],
   "source": [
    "#Impute median price for UnitPrice = 0\n",
    "data = data.groupby('StockCode', group_keys=False).apply(impute_median_price).copy()\n"
   ]
  },
  {
   "cell_type": "code",
   "execution_count": 113,
   "metadata": {},
   "outputs": [
    {
     "name": "stdout",
     "output_type": "stream",
     "text": [
      "0\n"
     ]
    }
   ],
   "source": [
    "#Is there any UnitPrice = 0?\n",
    "print(len(data[data.UnitPrice == 0]))"
   ]
  },
  {
   "cell_type": "code",
   "execution_count": 114,
   "metadata": {},
   "outputs": [
    {
     "data": {
      "text/plain": [
       "Country\n",
       "United Kingdom    4269472\n",
       "Netherlands        200937\n",
       "EIRE               140525\n",
       "Name: Quantity, dtype: int64"
      ]
     },
     "execution_count": 114,
     "metadata": {},
     "output_type": "execute_result"
    }
   ],
   "source": [
    "#3 Countrys with more purchases\n",
    "data.groupby('Country')['Quantity'].sum().sort_values(ascending=False).head(3)"
   ]
  },
  {
   "cell_type": "markdown",
   "metadata": {},
   "source": [
    "### Casting columns"
   ]
  },
  {
   "cell_type": "code",
   "execution_count": 115,
   "metadata": {},
   "outputs": [],
   "source": [
    "#Cast the InvoiceDate column to datetime and CostumerID to str\n",
    "data['InvoiceDate'] = pd.to_datetime(data['InvoiceDate'])\n",
    "data['CustomerID'] = data['CustomerID'].astype('str')"
   ]
  },
  {
   "cell_type": "markdown",
   "metadata": {},
   "source": [
    "### Identify and remove duplicates"
   ]
  },
  {
   "cell_type": "code",
   "execution_count": 116,
   "metadata": {},
   "outputs": [
    {
     "data": {
      "text/plain": [
       "10003"
      ]
     },
     "execution_count": 116,
     "metadata": {},
     "output_type": "execute_result"
    }
   ],
   "source": [
    "#Check for duplicates\n",
    "data.duplicated(keep=False).sum()"
   ]
  },
  {
   "cell_type": "code",
   "execution_count": 117,
   "metadata": {},
   "outputs": [
    {
     "data": {
      "text/html": [
       "<div>\n",
       "<style scoped>\n",
       "    .dataframe tbody tr th:only-of-type {\n",
       "        vertical-align: middle;\n",
       "    }\n",
       "\n",
       "    .dataframe tbody tr th {\n",
       "        vertical-align: top;\n",
       "    }\n",
       "\n",
       "    .dataframe thead th {\n",
       "        text-align: right;\n",
       "    }\n",
       "</style>\n",
       "<table border=\"1\" class=\"dataframe\">\n",
       "  <thead>\n",
       "    <tr style=\"text-align: right;\">\n",
       "      <th></th>\n",
       "      <th>InvoiceNo</th>\n",
       "      <th>StockCode</th>\n",
       "      <th>Description</th>\n",
       "      <th>Quantity</th>\n",
       "      <th>InvoiceDate</th>\n",
       "      <th>UnitPrice</th>\n",
       "      <th>CustomerID</th>\n",
       "      <th>Country</th>\n",
       "    </tr>\n",
       "  </thead>\n",
       "  <tbody>\n",
       "    <tr>\n",
       "      <th>494</th>\n",
       "      <td>536409</td>\n",
       "      <td>21866</td>\n",
       "      <td>UNION JACK FLAG LUGGAGE TAG</td>\n",
       "      <td>1</td>\n",
       "      <td>2010-12-01 11:45:00</td>\n",
       "      <td>1.25</td>\n",
       "      <td>17908.0</td>\n",
       "      <td>United Kingdom</td>\n",
       "    </tr>\n",
       "    <tr>\n",
       "      <th>517</th>\n",
       "      <td>536409</td>\n",
       "      <td>21866</td>\n",
       "      <td>UNION JACK FLAG LUGGAGE TAG</td>\n",
       "      <td>1</td>\n",
       "      <td>2010-12-01 11:45:00</td>\n",
       "      <td>1.25</td>\n",
       "      <td>17908.0</td>\n",
       "      <td>United Kingdom</td>\n",
       "    </tr>\n",
       "    <tr>\n",
       "      <th>485</th>\n",
       "      <td>536409</td>\n",
       "      <td>22111</td>\n",
       "      <td>SCOTTIE DOG HOT WATER BOTTLE</td>\n",
       "      <td>1</td>\n",
       "      <td>2010-12-01 11:45:00</td>\n",
       "      <td>4.95</td>\n",
       "      <td>17908.0</td>\n",
       "      <td>United Kingdom</td>\n",
       "    </tr>\n",
       "    <tr>\n",
       "      <th>539</th>\n",
       "      <td>536409</td>\n",
       "      <td>22111</td>\n",
       "      <td>SCOTTIE DOG HOT WATER BOTTLE</td>\n",
       "      <td>1</td>\n",
       "      <td>2010-12-01 11:45:00</td>\n",
       "      <td>4.95</td>\n",
       "      <td>17908.0</td>\n",
       "      <td>United Kingdom</td>\n",
       "    </tr>\n",
       "    <tr>\n",
       "      <th>489</th>\n",
       "      <td>536409</td>\n",
       "      <td>22866</td>\n",
       "      <td>HAND WARMER SCOTTY DOG DESIGN</td>\n",
       "      <td>1</td>\n",
       "      <td>2010-12-01 11:45:00</td>\n",
       "      <td>2.10</td>\n",
       "      <td>17908.0</td>\n",
       "      <td>United Kingdom</td>\n",
       "    </tr>\n",
       "    <tr>\n",
       "      <th>527</th>\n",
       "      <td>536409</td>\n",
       "      <td>22866</td>\n",
       "      <td>HAND WARMER SCOTTY DOG DESIGN</td>\n",
       "      <td>1</td>\n",
       "      <td>2010-12-01 11:45:00</td>\n",
       "      <td>2.10</td>\n",
       "      <td>17908.0</td>\n",
       "      <td>United Kingdom</td>\n",
       "    </tr>\n",
       "    <tr>\n",
       "      <th>521</th>\n",
       "      <td>536409</td>\n",
       "      <td>22900</td>\n",
       "      <td>SET 2 TEA TOWELS I LOVE LONDON</td>\n",
       "      <td>1</td>\n",
       "      <td>2010-12-01 11:45:00</td>\n",
       "      <td>2.95</td>\n",
       "      <td>17908.0</td>\n",
       "      <td>United Kingdom</td>\n",
       "    </tr>\n",
       "    <tr>\n",
       "      <th>537</th>\n",
       "      <td>536409</td>\n",
       "      <td>22900</td>\n",
       "      <td>SET 2 TEA TOWELS I LOVE LONDON</td>\n",
       "      <td>1</td>\n",
       "      <td>2010-12-01 11:45:00</td>\n",
       "      <td>2.95</td>\n",
       "      <td>17908.0</td>\n",
       "      <td>United Kingdom</td>\n",
       "    </tr>\n",
       "    <tr>\n",
       "      <th>565</th>\n",
       "      <td>536412</td>\n",
       "      <td>21448</td>\n",
       "      <td>12 DAISY PEGS IN WOOD BOX</td>\n",
       "      <td>2</td>\n",
       "      <td>2010-12-01 11:49:00</td>\n",
       "      <td>1.65</td>\n",
       "      <td>17920.0</td>\n",
       "      <td>United Kingdom</td>\n",
       "    </tr>\n",
       "    <tr>\n",
       "      <th>578</th>\n",
       "      <td>536412</td>\n",
       "      <td>21448</td>\n",
       "      <td>12 DAISY PEGS IN WOOD BOX</td>\n",
       "      <td>1</td>\n",
       "      <td>2010-12-01 11:49:00</td>\n",
       "      <td>1.65</td>\n",
       "      <td>17920.0</td>\n",
       "      <td>United Kingdom</td>\n",
       "    </tr>\n",
       "  </tbody>\n",
       "</table>\n",
       "</div>"
      ],
      "text/plain": [
       "    InvoiceNo StockCode                       Description  Quantity  \\\n",
       "494    536409     21866       UNION JACK FLAG LUGGAGE TAG         1   \n",
       "517    536409     21866       UNION JACK FLAG LUGGAGE TAG         1   \n",
       "485    536409     22111      SCOTTIE DOG HOT WATER BOTTLE         1   \n",
       "539    536409     22111      SCOTTIE DOG HOT WATER BOTTLE         1   \n",
       "489    536409     22866     HAND WARMER SCOTTY DOG DESIGN         1   \n",
       "527    536409     22866     HAND WARMER SCOTTY DOG DESIGN         1   \n",
       "521    536409     22900   SET 2 TEA TOWELS I LOVE LONDON          1   \n",
       "537    536409     22900   SET 2 TEA TOWELS I LOVE LONDON          1   \n",
       "565    536412     21448         12 DAISY PEGS IN WOOD BOX         2   \n",
       "578    536412     21448         12 DAISY PEGS IN WOOD BOX         1   \n",
       "\n",
       "            InvoiceDate  UnitPrice CustomerID         Country  \n",
       "494 2010-12-01 11:45:00       1.25    17908.0  United Kingdom  \n",
       "517 2010-12-01 11:45:00       1.25    17908.0  United Kingdom  \n",
       "485 2010-12-01 11:45:00       4.95    17908.0  United Kingdom  \n",
       "539 2010-12-01 11:45:00       4.95    17908.0  United Kingdom  \n",
       "489 2010-12-01 11:45:00       2.10    17908.0  United Kingdom  \n",
       "527 2010-12-01 11:45:00       2.10    17908.0  United Kingdom  \n",
       "521 2010-12-01 11:45:00       2.95    17908.0  United Kingdom  \n",
       "537 2010-12-01 11:45:00       2.95    17908.0  United Kingdom  \n",
       "565 2010-12-01 11:49:00       1.65    17920.0  United Kingdom  \n",
       "578 2010-12-01 11:49:00       1.65    17920.0  United Kingdom  "
      ]
     },
     "execution_count": 117,
     "metadata": {},
     "output_type": "execute_result"
    }
   ],
   "source": [
    "# Visually inspect some of the duplicated rows\n",
    "duplicated = data[data.duplicated(keep=False)].sort_values(by=['InvoiceNo', 'StockCode'])\n",
    "duplicated.head(10)"
   ]
  },
  {
   "cell_type": "code",
   "execution_count": 118,
   "metadata": {},
   "outputs": [
    {
     "data": {
      "text/plain": [
       "0"
      ]
     },
     "execution_count": 118,
     "metadata": {},
     "output_type": "execute_result"
    }
   ],
   "source": [
    "#Drop duplicates keep first\n",
    "data = data.drop_duplicates(keep='first')\n",
    "data.duplicated().sum()"
   ]
  },
  {
   "cell_type": "markdown",
   "metadata": {},
   "source": [
    "## Basic Descriptive Statistics"
   ]
  },
  {
   "cell_type": "code",
   "execution_count": 119,
   "metadata": {},
   "outputs": [
    {
     "name": "stdout",
     "output_type": "stream",
     "text": [
      "<class 'pandas.core.frame.DataFrame'>\n",
      "Index: 392731 entries, 0 to 541908\n",
      "Data columns (total 8 columns):\n",
      " #   Column       Non-Null Count   Dtype         \n",
      "---  ------       --------------   -----         \n",
      " 0   InvoiceNo    392731 non-null  object        \n",
      " 1   StockCode    392731 non-null  object        \n",
      " 2   Description  392731 non-null  object        \n",
      " 3   Quantity     392731 non-null  int64         \n",
      " 4   InvoiceDate  392731 non-null  datetime64[ns]\n",
      " 5   UnitPrice    392731 non-null  float64       \n",
      " 6   CustomerID   392731 non-null  object        \n",
      " 7   Country      392731 non-null  object        \n",
      "dtypes: datetime64[ns](1), float64(1), int64(1), object(5)\n",
      "memory usage: 27.0+ MB\n"
     ]
    }
   ],
   "source": [
    "data.info()"
   ]
  },
  {
   "cell_type": "code",
   "execution_count": 120,
   "metadata": {},
   "outputs": [
    {
     "data": {
      "text/html": [
       "<div>\n",
       "<style scoped>\n",
       "    .dataframe tbody tr th:only-of-type {\n",
       "        vertical-align: middle;\n",
       "    }\n",
       "\n",
       "    .dataframe tbody tr th {\n",
       "        vertical-align: top;\n",
       "    }\n",
       "\n",
       "    .dataframe thead th {\n",
       "        text-align: right;\n",
       "    }\n",
       "</style>\n",
       "<table border=\"1\" class=\"dataframe\">\n",
       "  <thead>\n",
       "    <tr style=\"text-align: right;\">\n",
       "      <th></th>\n",
       "      <th>Quantity</th>\n",
       "      <th>InvoiceDate</th>\n",
       "      <th>UnitPrice</th>\n",
       "    </tr>\n",
       "  </thead>\n",
       "  <tbody>\n",
       "    <tr>\n",
       "      <th>count</th>\n",
       "      <td>392731.000000</td>\n",
       "      <td>392731</td>\n",
       "      <td>392731.000000</td>\n",
       "    </tr>\n",
       "    <tr>\n",
       "      <th>mean</th>\n",
       "      <td>13.153746</td>\n",
       "      <td>2011-07-10 19:14:55.810414848</td>\n",
       "      <td>3.125919</td>\n",
       "    </tr>\n",
       "    <tr>\n",
       "      <th>min</th>\n",
       "      <td>1.000000</td>\n",
       "      <td>2010-12-01 08:26:00</td>\n",
       "      <td>0.001000</td>\n",
       "    </tr>\n",
       "    <tr>\n",
       "      <th>25%</th>\n",
       "      <td>2.000000</td>\n",
       "      <td>2011-04-07 11:12:00</td>\n",
       "      <td>1.250000</td>\n",
       "    </tr>\n",
       "    <tr>\n",
       "      <th>50%</th>\n",
       "      <td>6.000000</td>\n",
       "      <td>2011-07-31 12:02:00</td>\n",
       "      <td>1.950000</td>\n",
       "    </tr>\n",
       "    <tr>\n",
       "      <th>75%</th>\n",
       "      <td>12.000000</td>\n",
       "      <td>2011-10-20 12:53:00</td>\n",
       "      <td>3.750000</td>\n",
       "    </tr>\n",
       "    <tr>\n",
       "      <th>max</th>\n",
       "      <td>80995.000000</td>\n",
       "      <td>2011-12-09 12:50:00</td>\n",
       "      <td>8142.750000</td>\n",
       "    </tr>\n",
       "    <tr>\n",
       "      <th>std</th>\n",
       "      <td>181.588650</td>\n",
       "      <td>NaN</td>\n",
       "      <td>22.240751</td>\n",
       "    </tr>\n",
       "  </tbody>\n",
       "</table>\n",
       "</div>"
      ],
      "text/plain": [
       "            Quantity                    InvoiceDate      UnitPrice\n",
       "count  392731.000000                         392731  392731.000000\n",
       "mean       13.153746  2011-07-10 19:14:55.810414848       3.125919\n",
       "min         1.000000            2010-12-01 08:26:00       0.001000\n",
       "25%         2.000000            2011-04-07 11:12:00       1.250000\n",
       "50%         6.000000            2011-07-31 12:02:00       1.950000\n",
       "75%        12.000000            2011-10-20 12:53:00       3.750000\n",
       "max     80995.000000            2011-12-09 12:50:00    8142.750000\n",
       "std       181.588650                            NaN      22.240751"
      ]
     },
     "execution_count": 120,
     "metadata": {},
     "output_type": "execute_result"
    }
   ],
   "source": [
    "data.describe()"
   ]
  },
  {
   "cell_type": "code",
   "execution_count": 121,
   "metadata": {},
   "outputs": [
    {
     "name": "stdout",
     "output_type": "stream",
     "text": [
      "Number of transactions:  18536\n",
      "Number of products sold:  5165884\n",
      "Number of products:  3665\n",
      "Number of customers:  4339\n",
      "Average price:  3.1259194334035256\n"
     ]
    }
   ],
   "source": [
    "#Total number of transactions\n",
    "print('Number of transactions: ', data['InvoiceNo'].nunique())\n",
    "#Total products sold\n",
    "print ('Number of products sold: ', data['Quantity'].sum())\n",
    "#Total number of products\n",
    "print('Number of products: ', data['StockCode'].nunique())\n",
    "#Total number of customers\n",
    "print('Number of customers: ', data['CustomerID'].nunique())\n",
    "#Averange price\n",
    "print('Average price: ', data['UnitPrice'].mean())"
   ]
  },
  {
   "cell_type": "code",
   "execution_count": 122,
   "metadata": {},
   "outputs": [
    {
     "name": "stdout",
     "output_type": "stream",
     "text": [
      "Total revenue:  8900655.14\n"
     ]
    }
   ],
   "source": [
    "#Total revenue\n",
    "data['Total_Price'] = data['Quantity'] * data['UnitPrice']\n",
    "print('Total revenue: ', round(data['Total_Price'].sum(),2))"
   ]
  },
  {
   "cell_type": "code",
   "execution_count": 123,
   "metadata": {},
   "outputs": [
    {
     "data": {
      "text/plain": [
       "Country\n",
       "United Kingdom    7296046.805\n",
       "Netherlands        286226.820\n",
       "EIRE               265889.160\n",
       "Name: Total_Price, dtype: float64"
      ]
     },
     "execution_count": 123,
     "metadata": {},
     "output_type": "execute_result"
    }
   ],
   "source": [
    "#3 Countrys with more revenue\n",
    "data.groupby('Country')['Total_Price'].sum().sort_values(ascending=False).head(3)"
   ]
  },
  {
   "cell_type": "markdown",
   "metadata": {},
   "source": [
    "## A/B Testing Setup"
   ]
  },
  {
   "cell_type": "markdown",
   "metadata": {},
   "source": [
    "I'm going to test a marketing strategy where a discount is offered to a subset of customers to see if it increases the total revenue.\n",
    "Task:\n",
    "- Randomly assign customers to two groups: Group A (Control) and Group B (Treatment).\n",
    "- Ensure the groups are of similar size.\n",
    "- Calculate the total revenue for each group."
   ]
  },
  {
   "cell_type": "code",
   "execution_count": 124,
   "metadata": {},
   "outputs": [
    {
     "data": {
      "text/plain": [
       "(4339,)"
      ]
     },
     "execution_count": 124,
     "metadata": {},
     "output_type": "execute_result"
    }
   ],
   "source": [
    "#Identify unique customers\n",
    "customers = data['CustomerID'].unique()\n",
    "customers.shape"
   ]
  },
  {
   "cell_type": "code",
   "execution_count": 125,
   "metadata": {},
   "outputs": [],
   "source": [
    "#Randomly divide the customers in groups A and B in equal proportions\n",
    "np.random.seed(42)\n",
    "# Randomly divide the customers into groups A and B in equal proportions\n",
    "np.random.seed(42)\n",
    "groupA = np.random.choice(customers, size=len(customers)//2, replace=False)\n",
    "groupB = customers[~np.isin(customers, groupA)]\n",
    "\n",
    "# Add a column indicating group to the original dataset\n",
    "data['Group'] = 'A'\n",
    "data.loc[data['CustomerID'].isin(groupB), 'Group'] = 'B'"
   ]
  },
  {
   "cell_type": "code",
   "execution_count": 126,
   "metadata": {},
   "outputs": [
    {
     "name": "stdout",
     "output_type": "stream",
     "text": [
      "2169 2170\n"
     ]
    }
   ],
   "source": [
    "print(len(groupA), len(groupB))"
   ]
  },
  {
   "cell_type": "code",
   "execution_count": 127,
   "metadata": {},
   "outputs": [
    {
     "name": "stdout",
     "output_type": "stream",
     "text": [
      "Group\n",
      "A    4102872.731\n",
      "B    4797782.404\n",
      "Name: Total_Price, dtype: float64\n"
     ]
    }
   ],
   "source": [
    "#Total revenue per group\n",
    "print(data.groupby('Group')['Total_Price'].sum())"
   ]
  },
  {
   "cell_type": "markdown",
   "metadata": {},
   "source": [
    "## Refined Statistical Testing"
   ]
  },
  {
   "cell_type": "markdown",
   "metadata": {},
   "source": [
    "Task:\n",
    "- Calculate the average revenue per customer for each group.\n",
    "- Perform an independent samples t-test on the average revenue per customer.\n",
    "- Interpret the results: Determine whether to reject the null hypothesis based on the p-value."
   ]
  },
  {
   "cell_type": "code",
   "execution_count": 128,
   "metadata": {},
   "outputs": [
    {
     "name": "stdout",
     "output_type": "stream",
     "text": [
      "Total revenue for Group A:  4102872.731\n",
      "Total revenue for Group B:  4797782.404000001\n",
      "Average revenue per customer for Group A:  1891.5964642692486\n",
      "Average revenue per customer for Group B:  2210.959633179724\n",
      "T-statistic:  -1.1692720092714073\n",
      "P-value:  0.24235831531536864\n"
     ]
    }
   ],
   "source": [
    "#t-test on average revenue per customer\n",
    "from scipy import stats\n",
    "\n",
    "# Calculate the total revenue for each group\n",
    "total_revenue_A = data[data['Group'] == 'A']['Total_Price'].sum()\n",
    "total_revenue_B = data[data['Group'] == 'B']['Total_Price'].sum()\n",
    "\n",
    "# Calculate the average revenue per customer for each group\n",
    "avg_revenue_per_customer_A = total_revenue_A / data[data['Group'] == 'A']['CustomerID'].nunique()\n",
    "avg_revenue_per_customer_B = total_revenue_B / data[data['Group'] == 'B']['CustomerID'].nunique()\n",
    "\n",
    "# Calculate total revenue per customer\n",
    "groupA_revenue = data[data['Group'] == 'A'].groupby('CustomerID')['Total_Price'].sum()\n",
    "groupB_revenue = data[data['Group'] == 'B'].groupby('CustomerID')['Total_Price'].sum()\n",
    "\n",
    "# Perform t-test \n",
    "t_stat, p_value = stats.ttest_ind(groupA_revenue, groupB_revenue)\n",
    "\n",
    "# Results\n",
    "print(\"Total revenue for Group A: \", total_revenue_A)\n",
    "print(\"Total revenue for Group B: \", total_revenue_B)\n",
    "print(\"Average revenue per customer for Group A: \", avg_revenue_per_customer_A)\n",
    "print(\"Average revenue per customer for Group B: \", avg_revenue_per_customer_B)\n",
    "print(\"T-statistic: \", t_stat)\n",
    "print(\"P-value: \", p_value)"
   ]
  },
  {
   "cell_type": "markdown",
   "metadata": {},
   "source": [
    "pvalue = 0.24. That meand that null hypotesis is correct and that there is no significant difference in the total revenue between Group A and Group B."
   ]
  },
  {
   "cell_type": "markdown",
   "metadata": {},
   "source": [
    "## Segmentation Analysis"
   ]
  },
  {
   "cell_type": "markdown",
   "metadata": {},
   "source": [
    "Task:\n",
    "- Segment customers by country.\n",
    "- Calculate the average revenue per customer within each country for both groups.\n",
    "- Perform an independent samples t-test for each country to determine if the treatment had a significant impact within any specific segment."
   ]
  },
  {
   "cell_type": "code",
   "execution_count": 129,
   "metadata": {},
   "outputs": [
    {
     "data": {
      "text/html": [
       "<div>\n",
       "<style scoped>\n",
       "    .dataframe tbody tr th:only-of-type {\n",
       "        vertical-align: middle;\n",
       "    }\n",
       "\n",
       "    .dataframe tbody tr th {\n",
       "        vertical-align: top;\n",
       "    }\n",
       "\n",
       "    .dataframe thead th {\n",
       "        text-align: right;\n",
       "    }\n",
       "</style>\n",
       "<table border=\"1\" class=\"dataframe\">\n",
       "  <thead>\n",
       "    <tr style=\"text-align: right;\">\n",
       "      <th>Country</th>\n",
       "      <th>Australia</th>\n",
       "      <th>Austria</th>\n",
       "      <th>Bahrain</th>\n",
       "      <th>Belgium</th>\n",
       "      <th>Brazil</th>\n",
       "      <th>Canada</th>\n",
       "      <th>Channel Islands</th>\n",
       "      <th>Cyprus</th>\n",
       "      <th>Czech Republic</th>\n",
       "      <th>Denmark</th>\n",
       "      <th>...</th>\n",
       "      <th>RSA</th>\n",
       "      <th>Saudi Arabia</th>\n",
       "      <th>Singapore</th>\n",
       "      <th>Spain</th>\n",
       "      <th>Sweden</th>\n",
       "      <th>Switzerland</th>\n",
       "      <th>USA</th>\n",
       "      <th>United Arab Emirates</th>\n",
       "      <th>United Kingdom</th>\n",
       "      <th>Unspecified</th>\n",
       "    </tr>\n",
       "    <tr>\n",
       "      <th>Group</th>\n",
       "      <th></th>\n",
       "      <th></th>\n",
       "      <th></th>\n",
       "      <th></th>\n",
       "      <th></th>\n",
       "      <th></th>\n",
       "      <th></th>\n",
       "      <th></th>\n",
       "      <th></th>\n",
       "      <th></th>\n",
       "      <th></th>\n",
       "      <th></th>\n",
       "      <th></th>\n",
       "      <th></th>\n",
       "      <th></th>\n",
       "      <th></th>\n",
       "      <th></th>\n",
       "      <th></th>\n",
       "      <th></th>\n",
       "      <th></th>\n",
       "      <th></th>\n",
       "    </tr>\n",
       "  </thead>\n",
       "  <tbody>\n",
       "    <tr>\n",
       "      <th>A</th>\n",
       "      <td>11970.00</td>\n",
       "      <td>7672.31</td>\n",
       "      <td>0.0</td>\n",
       "      <td>26969.06</td>\n",
       "      <td>0.0</td>\n",
       "      <td>585.80</td>\n",
       "      <td>12974.94</td>\n",
       "      <td>6904.74</td>\n",
       "      <td>826.74</td>\n",
       "      <td>17510.23</td>\n",
       "      <td>...</td>\n",
       "      <td>0.00</td>\n",
       "      <td>145.92</td>\n",
       "      <td>0.00</td>\n",
       "      <td>29431.13</td>\n",
       "      <td>1486.85</td>\n",
       "      <td>40576.21</td>\n",
       "      <td>1849.47</td>\n",
       "      <td>0.00</td>\n",
       "      <td>3509572.711</td>\n",
       "      <td>2130.59</td>\n",
       "    </tr>\n",
       "    <tr>\n",
       "      <th>B</th>\n",
       "      <td>127433.01</td>\n",
       "      <td>2526.37</td>\n",
       "      <td>548.4</td>\n",
       "      <td>14227.28</td>\n",
       "      <td>1143.6</td>\n",
       "      <td>3080.58</td>\n",
       "      <td>7465.60</td>\n",
       "      <td>6598.11</td>\n",
       "      <td>0.00</td>\n",
       "      <td>1445.11</td>\n",
       "      <td>...</td>\n",
       "      <td>1003.81</td>\n",
       "      <td>0.00</td>\n",
       "      <td>21279.29</td>\n",
       "      <td>32174.18</td>\n",
       "      <td>36880.98</td>\n",
       "      <td>15876.24</td>\n",
       "      <td>1730.92</td>\n",
       "      <td>1902.28</td>\n",
       "      <td>3786474.094</td>\n",
       "      <td>530.18</td>\n",
       "    </tr>\n",
       "  </tbody>\n",
       "</table>\n",
       "<p>2 rows × 37 columns</p>\n",
       "</div>"
      ],
      "text/plain": [
       "Country  Australia  Austria  Bahrain   Belgium  Brazil   Canada  \\\n",
       "Group                                                             \n",
       "A         11970.00  7672.31      0.0  26969.06     0.0   585.80   \n",
       "B        127433.01  2526.37    548.4  14227.28  1143.6  3080.58   \n",
       "\n",
       "Country  Channel Islands   Cyprus  Czech Republic   Denmark  ...      RSA  \\\n",
       "Group                                                        ...            \n",
       "A               12974.94  6904.74          826.74  17510.23  ...     0.00   \n",
       "B                7465.60  6598.11            0.00   1445.11  ...  1003.81   \n",
       "\n",
       "Country  Saudi Arabia  Singapore     Spain    Sweden  Switzerland      USA  \\\n",
       "Group                                                                        \n",
       "A              145.92       0.00  29431.13   1486.85     40576.21  1849.47   \n",
       "B                0.00   21279.29  32174.18  36880.98     15876.24  1730.92   \n",
       "\n",
       "Country  United Arab Emirates  United Kingdom  Unspecified  \n",
       "Group                                                       \n",
       "A                        0.00     3509572.711      2130.59  \n",
       "B                     1902.28     3786474.094       530.18  \n",
       "\n",
       "[2 rows x 37 columns]"
      ]
     },
     "execution_count": 129,
     "metadata": {},
     "output_type": "execute_result"
    }
   ],
   "source": [
    "#Segment by group and country\n",
    "data.groupby(['Group', 'Country'])['Total_Price'].sum().unstack().fillna(0)"
   ]
  },
  {
   "cell_type": "code",
   "execution_count": 130,
   "metadata": {},
   "outputs": [
    {
     "data": {
      "text/html": [
       "<div>\n",
       "<style scoped>\n",
       "    .dataframe tbody tr th:only-of-type {\n",
       "        vertical-align: middle;\n",
       "    }\n",
       "\n",
       "    .dataframe tbody tr th {\n",
       "        vertical-align: top;\n",
       "    }\n",
       "\n",
       "    .dataframe thead tr th {\n",
       "        text-align: left;\n",
       "    }\n",
       "\n",
       "    .dataframe thead tr:last-of-type th {\n",
       "        text-align: right;\n",
       "    }\n",
       "</style>\n",
       "<table border=\"1\" class=\"dataframe\">\n",
       "  <thead>\n",
       "    <tr>\n",
       "      <th>Group</th>\n",
       "      <th colspan=\"10\" halign=\"left\">A</th>\n",
       "      <th>...</th>\n",
       "      <th colspan=\"10\" halign=\"left\">B</th>\n",
       "    </tr>\n",
       "    <tr>\n",
       "      <th>Country</th>\n",
       "      <th>Australia</th>\n",
       "      <th>Austria</th>\n",
       "      <th>Belgium</th>\n",
       "      <th>Canada</th>\n",
       "      <th>Channel Islands</th>\n",
       "      <th>Cyprus</th>\n",
       "      <th>Czech Republic</th>\n",
       "      <th>Denmark</th>\n",
       "      <th>EIRE</th>\n",
       "      <th>European Community</th>\n",
       "      <th>...</th>\n",
       "      <th>Portugal</th>\n",
       "      <th>RSA</th>\n",
       "      <th>Singapore</th>\n",
       "      <th>Spain</th>\n",
       "      <th>Sweden</th>\n",
       "      <th>Switzerland</th>\n",
       "      <th>USA</th>\n",
       "      <th>United Arab Emirates</th>\n",
       "      <th>United Kingdom</th>\n",
       "      <th>Unspecified</th>\n",
       "    </tr>\n",
       "    <tr>\n",
       "      <th>Group</th>\n",
       "      <th></th>\n",
       "      <th></th>\n",
       "      <th></th>\n",
       "      <th></th>\n",
       "      <th></th>\n",
       "      <th></th>\n",
       "      <th></th>\n",
       "      <th></th>\n",
       "      <th></th>\n",
       "      <th></th>\n",
       "      <th></th>\n",
       "      <th></th>\n",
       "      <th></th>\n",
       "      <th></th>\n",
       "      <th></th>\n",
       "      <th></th>\n",
       "      <th></th>\n",
       "      <th></th>\n",
       "      <th></th>\n",
       "      <th></th>\n",
       "      <th></th>\n",
       "    </tr>\n",
       "  </thead>\n",
       "  <tbody>\n",
       "    <tr>\n",
       "      <th>A</th>\n",
       "      <td>2394.000</td>\n",
       "      <td>959.03875</td>\n",
       "      <td>1926.361429</td>\n",
       "      <td>292.90</td>\n",
       "      <td>2594.988</td>\n",
       "      <td>2301.58</td>\n",
       "      <td>826.74</td>\n",
       "      <td>2918.371667</td>\n",
       "      <td>144337.87</td>\n",
       "      <td>1300.25</td>\n",
       "      <td>...</td>\n",
       "      <td>5036.33</td>\n",
       "      <td>0.00</td>\n",
       "      <td>0.00</td>\n",
       "      <td>2452.594167</td>\n",
       "      <td>297.370</td>\n",
       "      <td>4057.621</td>\n",
       "      <td>924.735</td>\n",
       "      <td>0.00</td>\n",
       "      <td>1791.512359</td>\n",
       "      <td>2130.59</td>\n",
       "    </tr>\n",
       "    <tr>\n",
       "      <th>B</th>\n",
       "      <td>25486.602</td>\n",
       "      <td>315.79625</td>\n",
       "      <td>1016.234286</td>\n",
       "      <td>1540.29</td>\n",
       "      <td>1493.120</td>\n",
       "      <td>2199.37</td>\n",
       "      <td>0.00</td>\n",
       "      <td>240.851667</td>\n",
       "      <td>121551.29</td>\n",
       "      <td>0.00</td>\n",
       "      <td>...</td>\n",
       "      <td>526.31</td>\n",
       "      <td>1003.81</td>\n",
       "      <td>21279.29</td>\n",
       "      <td>2681.181667</td>\n",
       "      <td>7376.196</td>\n",
       "      <td>1587.624</td>\n",
       "      <td>865.460</td>\n",
       "      <td>951.14</td>\n",
       "      <td>1932.860691</td>\n",
       "      <td>530.18</td>\n",
       "    </tr>\n",
       "  </tbody>\n",
       "</table>\n",
       "<p>2 rows × 62 columns</p>\n",
       "</div>"
      ],
      "text/plain": [
       "Group            A                                                            \\\n",
       "Country  Australia    Austria      Belgium   Canada Channel Islands   Cyprus   \n",
       "Group                                                                          \n",
       "A         2394.000  959.03875  1926.361429   292.90        2594.988  2301.58   \n",
       "B        25486.602  315.79625  1016.234286  1540.29        1493.120  2199.37   \n",
       "\n",
       "Group                                                              ...  \\\n",
       "Country Czech Republic      Denmark       EIRE European Community  ...   \n",
       "Group                                                              ...   \n",
       "A               826.74  2918.371667  144337.87            1300.25  ...   \n",
       "B                 0.00   240.851667  121551.29               0.00  ...   \n",
       "\n",
       "Group          B                                                        \\\n",
       "Country Portugal      RSA Singapore        Spain    Sweden Switzerland   \n",
       "Group                                                                    \n",
       "A        5036.33     0.00      0.00  2452.594167   297.370    4057.621   \n",
       "B         526.31  1003.81  21279.29  2681.181667  7376.196    1587.624   \n",
       "\n",
       "Group                                                             \n",
       "Country      USA United Arab Emirates United Kingdom Unspecified  \n",
       "Group                                                             \n",
       "A        924.735                 0.00    1791.512359     2130.59  \n",
       "B        865.460               951.14    1932.860691      530.18  \n",
       "\n",
       "[2 rows x 62 columns]"
      ]
     },
     "execution_count": 130,
     "metadata": {},
     "output_type": "execute_result"
    }
   ],
   "source": [
    "#Averange revenue per customer per country\n",
    "data.groupby(['Group', 'Country'])['Total_Price'].sum().unstack().fillna(0)/data.groupby(['Group', 'Country'])['CustomerID'].nunique()"
   ]
  },
  {
   "cell_type": "code",
   "execution_count": 131,
   "metadata": {},
   "outputs": [
    {
     "data": {
      "text/plain": [
       "[('United Kingdom', 0.7107351094653491),\n",
       " ('France', 0.14648234025864446),\n",
       " ('Australia', 2.824637225275828e-41),\n",
       " ('Netherlands', 9.12074228729077e-22),\n",
       " ('Germany', 0.04368188138784697),\n",
       " ('Norway', 0.0007990283524635785),\n",
       " ('EIRE', 1.306028007636782e-109),\n",
       " ('Switzerland', 0.3450080858128618),\n",
       " ('Spain', 3.4148880850334925e-08),\n",
       " ('Poland', 7.450775581616187e-07),\n",
       " ('Portugal', 0.5303450342793328),\n",
       " ('Italy', 0.27282499093192447),\n",
       " ('Belgium', 7.435502576092599e-06),\n",
       " ('Lithuania', nan),\n",
       " ('Japan', 0.9814462296227671),\n",
       " ('Iceland', nan),\n",
       " ('Channel Islands', 0.04193550316473969),\n",
       " ('Denmark', 0.07877860848683435),\n",
       " ('Cyprus', 0.010161378066599306),\n",
       " ('Sweden', 3.64830372931084e-07),\n",
       " ('Finland', 1.5288303743123533e-08),\n",
       " ('Austria', 0.0006763510972241027),\n",
       " ('Greece', 2.155860315803731e-27),\n",
       " ('Singapore', nan),\n",
       " ('Lebanon', nan),\n",
       " ('United Arab Emirates', nan),\n",
       " ('Israel', nan),\n",
       " ('Saudi Arabia', nan),\n",
       " ('Czech Republic', nan),\n",
       " ('Canada', 0.0024344884041164042),\n",
       " ('Unspecified', 0.000450924330737151),\n",
       " ('Brazil', nan),\n",
       " ('USA', 8.832246547549074e-06),\n",
       " ('European Community', nan),\n",
       " ('Bahrain', nan),\n",
       " ('Malta', 0.41804678809585594),\n",
       " ('RSA', nan)]"
      ]
     },
     "execution_count": 131,
     "metadata": {},
     "output_type": "execute_result"
    }
   ],
   "source": [
    "#Perform an independent samples t-test for each country \n",
    "p_values = []\n",
    "for country in data['Country'].unique():\n",
    "    groupA_revenue = data[(data['Group'] == 'A') & (data['Country'] == country)]['Total_Price']\n",
    "    groupB_revenue = data[(data['Group'] == 'B') & (data['Country'] == country)]['Total_Price']\n",
    "    t_stat, p_value = stats.ttest_ind(groupA_revenue, groupB_revenue)\n",
    "    p_values.append((country, p_value))\n",
    "p_values"
   ]
  },
  {
   "cell_type": "code",
   "execution_count": 132,
   "metadata": {},
   "outputs": [
    {
     "name": "stdout",
     "output_type": "stream",
     "text": [
      "Country: Australia, P-value: 2.824637225275828e-41\n",
      "Country: Netherlands, P-value: 9.12074228729077e-22\n",
      "Country: Germany, P-value: 0.04368188138784697\n",
      "Country: Norway, P-value: 0.0007990283524635785\n",
      "Country: EIRE, P-value: 1.306028007636782e-109\n",
      "Country: Spain, P-value: 3.4148880850334925e-08\n",
      "Country: Poland, P-value: 7.450775581616187e-07\n",
      "Country: Belgium, P-value: 7.435502576092599e-06\n",
      "Country: Channel Islands, P-value: 0.04193550316473969\n",
      "Country: Cyprus, P-value: 0.010161378066599306\n",
      "Country: Sweden, P-value: 3.64830372931084e-07\n",
      "Country: Finland, P-value: 1.5288303743123533e-08\n",
      "Country: Austria, P-value: 0.0006763510972241027\n",
      "Country: Greece, P-value: 2.155860315803731e-27\n",
      "Country: Canada, P-value: 0.0024344884041164042\n",
      "Country: Unspecified, P-value: 0.000450924330737151\n",
      "Country: USA, P-value: 8.832246547549074e-06\n"
     ]
    }
   ],
   "source": [
    "#Loop through each country and check if the p-value is less than 0.05\n",
    "p_values = [(country, p_value) for country, p_value in p_values if p_value < 0.05]\n",
    "\n",
    "#Print the results\n",
    "for country, p_value in p_values:\n",
    "    print(f\"Country: {country}, P-value: {p_value}\")"
   ]
  },
  {
   "cell_type": "code",
   "execution_count": 133,
   "metadata": {},
   "outputs": [
    {
     "data": {
      "text/html": [
       "<div>\n",
       "<style scoped>\n",
       "    .dataframe tbody tr th:only-of-type {\n",
       "        vertical-align: middle;\n",
       "    }\n",
       "\n",
       "    .dataframe tbody tr th {\n",
       "        vertical-align: top;\n",
       "    }\n",
       "\n",
       "    .dataframe thead th {\n",
       "        text-align: right;\n",
       "    }\n",
       "</style>\n",
       "<table border=\"1\" class=\"dataframe\">\n",
       "  <thead>\n",
       "    <tr style=\"text-align: right;\">\n",
       "      <th>Group</th>\n",
       "      <th>A</th>\n",
       "      <th>B</th>\n",
       "    </tr>\n",
       "    <tr>\n",
       "      <th>Country</th>\n",
       "      <th></th>\n",
       "      <th></th>\n",
       "    </tr>\n",
       "  </thead>\n",
       "  <tbody>\n",
       "    <tr>\n",
       "      <th>Australia</th>\n",
       "      <td>11970.00</td>\n",
       "      <td>127433.01</td>\n",
       "    </tr>\n",
       "    <tr>\n",
       "      <th>Austria</th>\n",
       "      <td>7672.31</td>\n",
       "      <td>2526.37</td>\n",
       "    </tr>\n",
       "    <tr>\n",
       "      <th>Belgium</th>\n",
       "      <td>26969.06</td>\n",
       "      <td>14227.28</td>\n",
       "    </tr>\n",
       "    <tr>\n",
       "      <th>Canada</th>\n",
       "      <td>585.80</td>\n",
       "      <td>3080.58</td>\n",
       "    </tr>\n",
       "    <tr>\n",
       "      <th>Channel Islands</th>\n",
       "      <td>12974.94</td>\n",
       "      <td>7465.60</td>\n",
       "    </tr>\n",
       "    <tr>\n",
       "      <th>Cyprus</th>\n",
       "      <td>6904.74</td>\n",
       "      <td>6598.11</td>\n",
       "    </tr>\n",
       "    <tr>\n",
       "      <th>EIRE</th>\n",
       "      <td>144337.87</td>\n",
       "      <td>121551.29</td>\n",
       "    </tr>\n",
       "    <tr>\n",
       "      <th>Finland</th>\n",
       "      <td>9123.51</td>\n",
       "      <td>13422.57</td>\n",
       "    </tr>\n",
       "    <tr>\n",
       "      <th>Germany</th>\n",
       "      <td>104931.87</td>\n",
       "      <td>123755.98</td>\n",
       "    </tr>\n",
       "    <tr>\n",
       "      <th>Greece</th>\n",
       "      <td>2099.28</td>\n",
       "      <td>2661.24</td>\n",
       "    </tr>\n",
       "    <tr>\n",
       "      <th>Netherlands</th>\n",
       "      <td>3669.98</td>\n",
       "      <td>282556.84</td>\n",
       "    </tr>\n",
       "    <tr>\n",
       "      <th>Norway</th>\n",
       "      <td>17983.62</td>\n",
       "      <td>18181.82</td>\n",
       "    </tr>\n",
       "    <tr>\n",
       "      <th>Poland</th>\n",
       "      <td>3981.36</td>\n",
       "      <td>3353.29</td>\n",
       "    </tr>\n",
       "    <tr>\n",
       "      <th>Spain</th>\n",
       "      <td>29431.13</td>\n",
       "      <td>32174.18</td>\n",
       "    </tr>\n",
       "    <tr>\n",
       "      <th>Sweden</th>\n",
       "      <td>1486.85</td>\n",
       "      <td>36880.98</td>\n",
       "    </tr>\n",
       "    <tr>\n",
       "      <th>USA</th>\n",
       "      <td>1849.47</td>\n",
       "      <td>1730.92</td>\n",
       "    </tr>\n",
       "    <tr>\n",
       "      <th>Unspecified</th>\n",
       "      <td>2130.59</td>\n",
       "      <td>530.18</td>\n",
       "    </tr>\n",
       "  </tbody>\n",
       "</table>\n",
       "</div>"
      ],
      "text/plain": [
       "Group                    A          B\n",
       "Country                              \n",
       "Australia         11970.00  127433.01\n",
       "Austria            7672.31    2526.37\n",
       "Belgium           26969.06   14227.28\n",
       "Canada              585.80    3080.58\n",
       "Channel Islands   12974.94    7465.60\n",
       "Cyprus             6904.74    6598.11\n",
       "EIRE             144337.87  121551.29\n",
       "Finland            9123.51   13422.57\n",
       "Germany          104931.87  123755.98\n",
       "Greece             2099.28    2661.24\n",
       "Netherlands        3669.98  282556.84\n",
       "Norway            17983.62   18181.82\n",
       "Poland             3981.36    3353.29\n",
       "Spain             29431.13   32174.18\n",
       "Sweden             1486.85   36880.98\n",
       "USA                1849.47    1730.92\n",
       "Unspecified        2130.59     530.18"
      ]
     },
     "execution_count": 133,
     "metadata": {},
     "output_type": "execute_result"
    }
   ],
   "source": [
    "#Lets look at those countries that have a p-value less than 0.05\n",
    "data[data['Country'].isin([country for country, p_value in p_values])].groupby(['Country', 'Group'])['Total_Price'].sum().unstack().fillna(0)"
   ]
  },
  {
   "cell_type": "code",
   "execution_count": 134,
   "metadata": {},
   "outputs": [
    {
     "data": {
      "image/png": "[encoded data removed]",
      "text/plain": [
       "<Figure size 640x480 with 1 Axes>"
      ]
     },
     "metadata": {},
     "output_type": "display_data"
    }
   ],
   "source": [
    "#Plot the results\n",
    "data[data['Country'].isin([country for country, p_value in p_values])].groupby(['Country', 'Group'])['Total_Price'].sum().unstack().fillna(0).plot(kind='bar', stacked=True)\n",
    "plt.title('Total Revenue by Country')\n",
    "plt.show()"
   ]
  },
  {
   "cell_type": "code",
   "execution_count": 135,
   "metadata": {},
   "outputs": [
    {
     "data": {
      "image/png": "[encoded data removed]",
      "text/plain": [
       "<Figure size 640x480 with 1 Axes>"
      ]
     },
     "metadata": {},
     "output_type": "display_data"
    }
   ],
   "source": [
    "#Plot the unique customers in each group in each country with p-value less than 0.05\n",
    "data[data['Country'].isin([country for country, p_value in p_values])].groupby(['Country', 'Group'])['CustomerID'].nunique().unstack().fillna(0).plot(kind='bar', stacked=True)\n",
    "plt.title('Unique Customers by Country')\n",
    "plt.show()\n"
   ]
  },
  {
   "cell_type": "code",
   "execution_count": 136,
   "metadata": {},
   "outputs": [
    {
     "data": {
      "image/png": "[encoded data removed]",
      "text/plain": [
       "<Figure size 640x480 with 1 Axes>"
      ]
     },
     "metadata": {},
     "output_type": "display_data"
    }
   ],
   "source": [
    "#Plot the highest purchase (maximum Total_Price) for each group in each country.\n",
    "data[data['Country'].isin([country for country, p_value in p_values])].groupby(['Country', 'Group'])['Total_Price'].max().unstack().fillna(0).plot(kind='bar', stacked=True)\n",
    "plt.title('Highest Purchase by Country')\n",
    "plt.show()"
   ]
  },
  {
   "cell_type": "markdown",
   "metadata": {},
   "source": [
    "#### Analysis of Findings\n",
    "1. Total Revenue by Country:\n",
    "\n",
    "- Significant differences in total revenue between Group A and Group B in several countries, such as Australia, the Netherlands, Spain and Sweden.\n",
    "\n",
    "2. Unique Customers by Country:\n",
    "\n",
    "- Similar number of unique customers in both groups, indicating that the revenue differences are likely due to a few high-value purchases rather than a large number of small purchases.\n",
    "\n",
    "3. Highest Purchase by Country:\n",
    "\n",
    "- The highest purchase amounts in each group for the significant countries. Large individual purchases likely contribute to the differences in total revenue."
   ]
  },
  {
   "cell_type": "markdown",
   "metadata": {},
   "source": [
    "I'm going to analyze this countries closer."
   ]
  },
  {
   "cell_type": "code",
   "execution_count": 137,
   "metadata": {},
   "outputs": [
    {
     "data": {
      "text/plain": [
       "(6477, 10)"
      ]
     },
     "execution_count": 137,
     "metadata": {},
     "output_type": "execute_result"
    }
   ],
   "source": [
    "#Filter the data for Australia, Netherlands, Spain and Sweden.\n",
    "anss = data[data.Country.isin(['Australia', 'Netherlands', 'Spain', 'Sweden'])]\n",
    "anss.shape"
   ]
  },
  {
   "cell_type": "code",
   "execution_count": 138,
   "metadata": {},
   "outputs": [
    {
     "data": {
      "text/plain": [
       "CustomerID  Country    \n",
       "14646.0     Netherlands    280986.50\n",
       "12415.0     Australia      125838.77\n",
       "17404.0     Sweden          31906.82\n",
       "12540.0     Spain           13400.24\n",
       "Name: Total_Price, dtype: float64"
      ]
     },
     "execution_count": 138,
     "metadata": {},
     "output_type": "execute_result"
    }
   ],
   "source": [
    "#Identify the customer that did the biggest purchase of every anss country\n",
    "anss.groupby(['CustomerID', 'Country'])['Total_Price'].sum().nlargest(4)\n"
   ]
  },
  {
   "cell_type": "code",
   "execution_count": 139,
   "metadata": {},
   "outputs": [
    {
     "data": {
      "image/png": "[encoded data removed]",
      "text/plain": [
       "<Figure size 640x480 with 1 Axes>"
      ]
     },
     "metadata": {},
     "output_type": "display_data"
    }
   ],
   "source": [
    "#Boxplot of Total_Price for anss countrys to see if there are any outliers\n",
    "sns.boxplot(x='Country', y='Total_Price', data=anss)\n",
    "plt.show()"
   ]
  },
  {
   "cell_type": "markdown",
   "metadata": {},
   "source": [
    "Outliers: There are notable high-value purchases in each of these countries.\n",
    "\n",
    "In detail:\n",
    "- Netherlands: Customer ID 14646.0 with a total purchase of $280,986.50.\n",
    "- Australia: Customer ID 12415.0 with a total purchase of $125,838.77.\n",
    "- Sweden: Customer ID 17404.0 with a total purchase of $31,906.82.\n",
    "- Spain: Customer ID 12540.0 with a total purchase of $13,400.24.\n",
    "\n",
    "These large purchases likely contribute significantly to the total revenue differences observed between Group A and Group B."
   ]
  },
  {
   "cell_type": "code",
   "execution_count": 140,
   "metadata": {},
   "outputs": [
    {
     "name": "stdout",
     "output_type": "stream",
     "text": [
      "{'Netherlands': '14646.0', 'Australia': '12415.0', 'Sweden': '17404.0', 'Spain': '12540.0'}\n"
     ]
    }
   ],
   "source": [
    "# Look into the individual transactions made by these customers to understand their purchasing behavior.\n",
    "high_purchasers = anss.groupby('CustomerID')['Total_Price'].sum().nlargest(4).index\n",
    "\n",
    "#Transform hight_purchasers into a dictionary with the country as the key and the customerID as the value\n",
    "high_purchasers = dict(zip(['Netherlands', 'Australia', 'Sweden', 'Spain'], high_purchasers))\n",
    "print(high_purchasers)"
   ]
  },
  {
   "cell_type": "code",
   "execution_count": 141,
   "metadata": {},
   "outputs": [
    {
     "data": {
      "image/png": "[encoded data removed]",
      "text/plain": [
       "<Figure size 2000x500 with 4 Axes>"
      ]
     },
     "metadata": {},
     "output_type": "display_data"
    }
   ],
   "source": [
    "# Create subplots for each country\n",
    "fig, axs = plt.subplots(1, 4, figsize=(20, 5))\n",
    "fig.suptitle('Total Price Over Time for High-Value Customers')\n",
    "\n",
    "# Plot Total_Price for each high-value customer over time and include total number of InvoiceDate entries in the title\n",
    "for ax, (country, customer_id) in zip(axs, high_purchasers.items()):\n",
    "    country_data = data[data['CustomerID'] == customer_id]\n",
    "    num_invoices = country_data['InvoiceDate'].nunique()\n",
    "    country_data.plot(x='InvoiceDate', y='Total_Price', ax=ax, title=f\"{country} (Total Invoices: {num_invoices})\", legend=False)\n",
    "    ax.set_ylabel('Total Price')\n",
    "\n",
    "# Show the plots\n",
    "plt.tight_layout()\n",
    "plt.show()"
   ]
  },
  {
   "cell_type": "markdown",
   "metadata": {},
   "source": [
    "#### Observations:\n",
    "- Netherlands: The high-value customer made numerous high-value purchases frequently, indicating consistent high spending. Two very-high-value purchases.\n",
    "\n",
    "- Australia: The high-value customer made several significant purchases, with a few very large transactions spread over time.\n",
    "\n",
    "- Spain: The high-value customer had fewer, but still notable, large transactions.\n",
    "\n",
    "- Sweden: The high-value customer made a few significant purchases, similar to the pattern observed in Spain."
   ]
  },
  {
   "cell_type": "code",
   "execution_count": 142,
   "metadata": {},
   "outputs": [
    {
     "name": "stdout",
     "output_type": "stream",
     "text": [
      "Top products in Netherlands:\n",
      "                                      Total_Price  Quantity\n",
      "Description                                               \n",
      "RABBIT NIGHT LIGHT                       9568.48      4801\n",
      "ROUND SNACK BOXES SET OF4 WOODLAND       7956.00      3120\n",
      "SPACEBOY LUNCH BOX                       7415.40      4492\n",
      "DOLLY GIRL LUNCH BOX                     6758.40      4096\n",
      "ROUND SNACK BOXES SET OF 4 FRUITS        4039.20      1584\n",
      "JUMBO BAG RED RETROSPOT                  3468.00      2000\n",
      "RED TOADSTOOL LED NIGHT LIGHT            3459.60      2376\n",
      "REGENCY CAKESTAND 3 TIER                 3153.60       288\n",
      "5 HOOK HANGER RED MAGIC TOADSTOOL        2923.20      2016\n",
      "JUMBO BAG WOODLAND ANIMALS               2629.00      1500\n",
      "Top products in Australia:\n",
      "                                    Total_Price  Quantity\n",
      "Description                                             \n",
      "RABBIT NIGHT LIGHT                     2749.44      1536\n",
      "SET OF 6 SPICE TINS PANTRY DESIGN      1987.20       576\n",
      "REGENCY CAKESTAND 3 TIER               1927.20       176\n",
      "SET OF 3 CAKE TINS PANTRY DESIGN       1840.95       433\n",
      "RED  HARMONICA IN BOX                  1780.80      1680\n",
      "DOLLY GIRL LUNCH BOX                   1689.60      1024\n",
      "SET OF 6 SOLDIER SKITTLES              1656.00       480\n",
      "MINI PAINT SET VINTAGE                 1607.40      2916\n",
      "SPACEBOY LUNCH BOX                     1584.00       960\n",
      "RED RETROSPOT ROUND CAKE TINS          1503.60       168\n",
      "Top products in Sweden:\n",
      "                                      Total_Price  Quantity\n",
      "Description                                               \n",
      "MINI PAINT SET VINTAGE                   1872.00      2880\n",
      "SET OF 3 CAKE TINS PANTRY DESIGN         1678.05       339\n",
      "SET 40 HEART SHAPE PETIT FOUR CASES      1188.00       720\n",
      "SET OF 3 BABUSHKA STACKING TINS          1188.00       240\n",
      "SET OF 3 REGENCY CAKE TINS               1108.80       224\n",
      "SET OF 72 RETROSPOT PAPER  DOILIES        974.40       672\n",
      "WOODEN BOX OF DOMINOES                    720.00       576\n",
      "JAM MAKING SET PRINTED                    696.00       480\n",
      "STORAGE TIN VINTAGE DOILY                 693.60       240\n",
      "WORLD WAR 2 GLIDERS ASSTD DESIGNS         668.16      2304\n",
      "Top products in Spain:\n",
      "                                      Total_Price  Quantity\n",
      "Description                                               \n",
      "POSTAGE                                  1820.00        65\n",
      "ASSORTED COLOUR BIRD ORNAMENT             689.52       408\n",
      "REGENCY CAKESTAND 3 TIER                  605.40        52\n",
      "CLASSIC METAL BIRDCAGE PLANT HOLDER       490.35        49\n",
      "BOX OF VINTAGE ALPHABET BLOCKS            338.30        34\n",
      "HOME BUILDING BLOCK WORD                  220.50        36\n",
      "RED SPOTTY BISCUIT TIN                    213.00        60\n",
      "6 RIBBONS RUSTIC CHARM                    208.80       120\n",
      "RED RETROSPOT CAKE STAND                  208.05        19\n",
      "PLASTERS IN TIN SKULLS                    198.00       120\n"
     ]
    }
   ],
   "source": [
    "# Top Products. I want to know which products are the most popular for these big customers. Description, Total Quantity and Total Price.\n",
    "for country, customer_id in high_purchasers.items():\n",
    "    country_data = data[data['CustomerID'] == customer_id]\n",
    "    product_analysis = country_data.groupby('Description')[['Total_Price', 'Quantity']].sum().sort_values(by='Total_Price', ascending=False)\n",
    "    print(f\"Top products in {country}:\\n\", product_analysis.head(10))"
   ]
  },
  {
   "cell_type": "markdown",
   "metadata": {},
   "source": [
    "- Netherlands:\n",
    "The top product is \"RABBIT NIGHT LIGHT\" with significant total purchases both in terms of quantity and total price.\n",
    "High demand for lunch boxes and snack boxes.\n",
    "\n",
    "- Australia:\n",
    "Similar high demand for \"RABBIT NIGHT LIGHT\" as in the Netherlands.\n",
    "Varied high-value purchases including spice tins, cake tins, and lunch boxes.\n",
    "\n",
    "- Sweden:\n",
    "\"MINI PAINT SET VINTAGE\" stands out with the highest quantity and total price.\n",
    "Consistent interest in cake tins and heart-shaped petit four cases.\n",
    "\n",
    "- Spain:\n",
    "The top product is \"POSTAGE\", which might indicate shipping charges or a specific product related to postage.\n",
    "Other products include bird ornaments, cake stands, and plant holders."
   ]
  },
  {
   "cell_type": "code",
   "execution_count": 143,
   "metadata": {},
   "outputs": [
    {
     "data": {
      "image/png": "[encoded data removed]",
      "text/plain": [
       "<Figure size 640x480 with 1 Axes>"
      ]
     },
     "metadata": {},
     "output_type": "display_data"
    }
   ],
   "source": [
    "#Analyze the purchase of Rabbit Night Light in the Netherlands and Australia along the time.\n",
    "na = data[data['Country'].isin(['Netherlands', 'Australia'])]\n",
    "na = na[na['Description'] == 'RABBIT NIGHT LIGHT']\n",
    "\n",
    "#Plot the rabbit night light purchases in the Netherlands and Australia in different colors\n",
    "sns.lineplot(x='InvoiceDate', y='Total_Price', hue='Country', data=na)\n",
    "plt.show()"
   ]
  },
  {
   "cell_type": "markdown",
   "metadata": {},
   "source": [
    "- Netherlands:\n",
    "There is a significant spike in purchases around October 2011.\n",
    "The purchases appear to be more sporadic but with higher total prices.\n",
    "\n",
    "- Australia:\n",
    "Purchases are more consistent over time, with a noticeable increase in November 2011.\n",
    "The total purchase amounts are generally lower compared to the Netherlands but more steady."
   ]
  },
  {
   "cell_type": "markdown",
   "metadata": {},
   "source": [
    "## Outliers detection."
   ]
  },
  {
   "cell_type": "code",
   "execution_count": 144,
   "metadata": {},
   "outputs": [],
   "source": [
    "#Detect outliers using 3 sigma rule\n",
    "upper = data.groupby('Country')['Total_Price'].mean() + 3 * data.groupby('Country')['Total_Price'].std()\n",
    "lower = data.groupby('Country')['Total_Price'].mean() - 3 * data.groupby('Country')['Total_Price'].std()\n",
    "\n",
    "bounds = pd.DataFrame({\n",
    "    'upper': upper,\n",
    "    'lower': lower\n",
    "})\n",
    "\n",
    "# Function to identify outliers\n",
    "def is_outlier(row):\n",
    "    country = row['Country']\n",
    "    total_price = row['Total_Price']\n",
    "    upper_bound = bounds.at[country, 'upper']\n",
    "    lower_bound = bounds.at[country, 'lower']\n",
    "    return total_price < lower_bound or total_price > upper_bound\n",
    "\n",
    "# Create a new column 'is_outlier'\n",
    "data['is_outlier'] = data.apply(is_outlier, axis=1)"
   ]
  },
  {
   "cell_type": "code",
   "execution_count": 145,
   "metadata": {},
   "outputs": [
    {
     "data": {
      "text/plain": [
       "(869, 11)"
      ]
     },
     "execution_count": 145,
     "metadata": {},
     "output_type": "execute_result"
    }
   ],
   "source": [
    "# Filtering out the outliers\n",
    "outliers = data[data['is_outlier']]\n",
    "outliers.shape"
   ]
  },
  {
   "cell_type": "code",
   "execution_count": 146,
   "metadata": {},
   "outputs": [
    {
     "data": {
      "text/plain": [
       "Country\n",
       "United Kingdom          273\n",
       "Germany                 140\n",
       "EIRE                    113\n",
       "Switzerland              52\n",
       "Belgium                  40\n",
       "France                   26\n",
       "Australia                25\n",
       "Spain                    21\n",
       "Norway                   21\n",
       "Netherlands              19\n",
       "Finland                  18\n",
       "Denmark                  16\n",
       "Channel Islands          14\n",
       "Cyprus                   12\n",
       "Italy                    11\n",
       "Poland                   10\n",
       "Sweden                    9\n",
       "Austria                   8\n",
       "Portugal                  7\n",
       "Singapore                 5\n",
       "USA                       4\n",
       "Iceland                   4\n",
       "Israel                    3\n",
       "Japan                     3\n",
       "Unspecified               3\n",
       "Malta                     2\n",
       "Canada                    2\n",
       "Greece                    1\n",
       "European Community        1\n",
       "RSA                       1\n",
       "Lithuania                 1\n",
       "Lebanon                   1\n",
       "Brazil                    1\n",
       "United Arab Emirates      1\n",
       "Bahrain                   1\n",
       "Name: InvoiceNo, dtype: int64"
      ]
     },
     "execution_count": 146,
     "metadata": {},
     "output_type": "execute_result"
    }
   ],
   "source": [
    "#Count outliers per country\n",
    "outliers.groupby('Country')['InvoiceNo'].count().sort_values(ascending=False)"
   ]
  },
  {
   "cell_type": "code",
   "execution_count": 147,
   "metadata": {},
   "outputs": [],
   "source": [
    "#Remove outliers\n",
    "data = data[~data['is_outlier']]"
   ]
  },
  {
   "cell_type": "code",
   "execution_count": 148,
   "metadata": {},
   "outputs": [],
   "source": [
    "#Save final data\n",
    "data.to_csv('Online_Retail_Final.csv', index=False)"
   ]
  },
  {
   "cell_type": "markdown",
   "metadata": {},
   "source": [
    "## A/B Test"
   ]
  },
  {
   "cell_type": "code",
   "execution_count": 149,
   "metadata": {},
   "outputs": [
    {
     "data": {
      "text/plain": [
       "Country\n",
       "United Kingdom    6485548.365\n",
       "Netherlands        264570.760\n",
       "EIRE               205823.730\n",
       "Name: Total_Price, dtype: float64"
      ]
     },
     "execution_count": 149,
     "metadata": {},
     "output_type": "execute_result"
    }
   ],
   "source": [
    "#3 Countrys with more revenue\n",
    "data.groupby('Country')['Total_Price'].sum().sort_values(ascending=False).head(3)"
   ]
  },
  {
   "cell_type": "code",
   "execution_count": 150,
   "metadata": {},
   "outputs": [
    {
     "data": {
      "text/plain": [
       "Description\n",
       "WORLD WAR 2 GLIDERS ASSTD DESIGNS    45102\n",
       "JUMBO BAG RED RETROSPOT              40814\n",
       "PACK OF 72 RETROSPOT CAKE CASES      28202\n",
       "ASSORTED COLOUR BIRD ORNAMENT        28132\n",
       "Name: Quantity, dtype: int64"
      ]
     },
     "execution_count": 150,
     "metadata": {},
     "output_type": "execute_result"
    }
   ],
   "source": [
    "#Most purchased products in United Kingdom, Netherlands and EIRE\n",
    "une = data[data['Country'].isin(['United Kingdom', 'Netherlands', 'EIRE'])]\n",
    "une.groupby('Description')['Quantity'].sum().sort_values(ascending=False).head(4)"
   ]
  },
  {
   "cell_type": "code",
   "execution_count": 151,
   "metadata": {},
   "outputs": [
    {
     "data": {
      "text/plain": [
       "Description\n",
       "REGENCY CAKESTAND 3 TIER              99313.00\n",
       "JUMBO BAG RED RETROSPOT               75378.05\n",
       "WHITE HANGING HEART T-LIGHT HOLDER    73502.48\n",
       "Name: Total_Price, dtype: float64"
      ]
     },
     "execution_count": 151,
     "metadata": {},
     "output_type": "execute_result"
    }
   ],
   "source": [
    "une.groupby('Description')['Total_Price'].sum().sort_values(ascending=False).head(3)"
   ]
  },
  {
   "cell_type": "code",
   "execution_count": 152,
   "metadata": {},
   "outputs": [
    {
     "data": {
      "text/html": [
       "<div>\n",
       "<style scoped>\n",
       "    .dataframe tbody tr th:only-of-type {\n",
       "        vertical-align: middle;\n",
       "    }\n",
       "\n",
       "    .dataframe tbody tr th {\n",
       "        vertical-align: top;\n",
       "    }\n",
       "\n",
       "    .dataframe thead th {\n",
       "        text-align: right;\n",
       "    }\n",
       "</style>\n",
       "<table border=\"1\" class=\"dataframe\">\n",
       "  <thead>\n",
       "    <tr style=\"text-align: right;\">\n",
       "      <th></th>\n",
       "      <th>Country</th>\n",
       "      <th>Description</th>\n",
       "      <th>Quantity</th>\n",
       "    </tr>\n",
       "  </thead>\n",
       "  <tbody>\n",
       "    <tr>\n",
       "      <th>1154</th>\n",
       "      <td>EIRE</td>\n",
       "      <td>PACK OF 72 RETROSPOT CAKE CASES</td>\n",
       "      <td>1632</td>\n",
       "    </tr>\n",
       "    <tr>\n",
       "      <th>2425</th>\n",
       "      <td>Netherlands</td>\n",
       "      <td>PACK OF 72 RETROSPOT CAKE CASES</td>\n",
       "      <td>4128</td>\n",
       "    </tr>\n",
       "    <tr>\n",
       "      <th>6535</th>\n",
       "      <td>United Kingdom</td>\n",
       "      <td>WORLD WAR 2 GLIDERS ASSTD DESIGNS</td>\n",
       "      <td>44286</td>\n",
       "    </tr>\n",
       "  </tbody>\n",
       "</table>\n",
       "</div>"
      ],
      "text/plain": [
       "             Country                        Description  Quantity\n",
       "1154            EIRE    PACK OF 72 RETROSPOT CAKE CASES      1632\n",
       "2425     Netherlands    PACK OF 72 RETROSPOT CAKE CASES      4128\n",
       "6535  United Kingdom  WORLD WAR 2 GLIDERS ASSTD DESIGNS     44286"
      ]
     },
     "execution_count": 152,
     "metadata": {},
     "output_type": "execute_result"
    }
   ],
   "source": [
    "# Most sold products in each country\n",
    "grouped = une.groupby(['Country', 'Description'])['Quantity'].sum().reset_index()\n",
    "most_sold_une = grouped.loc[grouped.groupby('Country')['Quantity'].idxmax()]\n",
    "most_sold_une"
   ]
  },
  {
   "cell_type": "code",
   "execution_count": 153,
   "metadata": {},
   "outputs": [
    {
     "data": {
      "image/png": "[encoded data removed]",
      "text/plain": [
       "<Figure size 1500x500 with 6 Axes>"
      ]
     },
     "metadata": {},
     "output_type": "display_data"
    }
   ],
   "source": [
    "products = ['WORLD WAR 2 GLIDERS ASSTD DESIGNS', 'JUMBO BAG RED RETROSPOT', 'PACK OF 72 RETROSPOT CAKE CASES', 'ASSORTED COLOUR BIRD ORNAMENT', 'REGENCY CAKESTAND 3 TIER', 'WHITE HANGING HEART T-LIGHT HOLDER']\n",
    "\n",
    "#6 pie plots with the products \n",
    "fig, axs = plt.subplots(2, 3, figsize=(15, 5))\n",
    "\n",
    "for ax, product in zip(axs.ravel(), products):\n",
    "    product_data = une[une['Description'] == product]\n",
    "    country_counts = product_data['Country'].value_counts()\n",
    "    ax.pie(country_counts, labels=country_counts.index, autopct='%1.1f%%')\n",
    "    ax.set_title(product)  \n",
    "\n",
    "plt.tight_layout()\n",
    "plt.show()"
   ]
  },
  {
   "cell_type": "code",
   "execution_count": 154,
   "metadata": {},
   "outputs": [
    {
     "name": "stdout",
     "output_type": "stream",
     "text": [
      "The product 'WORLD WAR 2 GLIDERS ASSTD DESIGNS' has a total revenue of $6486996.82 and a total quantity of 3912481\n",
      "The product 'JUMBO BAG RED RETROSPOT' has a total revenue of $6492860.58 and a total quantity of 3911148\n",
      "The product 'PACK OF 72 RETROSPOT CAKE CASES' has a total revenue of $6490940.64 and a total quantity of 3918476\n",
      "The product 'ASSORTED COLOUR BIRD ORNAMENT' has a total revenue of $6489732.72 and a total quantity of 3909883\n",
      "The product 'REGENCY CAKESTAND 3 TIER' has a total revenue of $6501541.81 and a total quantity of 3908595\n",
      "The product 'WHITE HANGING HEART T-LIGHT HOLDER' has a total revenue of $6489698.56 and a total quantity of 3908772\n"
     ]
    }
   ],
   "source": [
    "#Total_Price for these listed products in UK\n",
    "for product in products:\n",
    "    product_data = data[(data.Country == 'United Kingdom') | (data.Description == product)]\n",
    "    print(f\"The product '{product}' has a total revenue of ${round(product_data['Total_Price'].sum(),2)} and a total quantity of {product_data['Quantity'].sum()}\")\n",
    "    "
   ]
  },
  {
   "cell_type": "markdown",
   "metadata": {},
   "source": [
    "### A/B Testing Exercise: Discount on a Popular Product in the UK\n",
    "Conduct an A/B test to evaluate the effectiveness of a discount on one of the top products in the United Kingdom.\n",
    "\n",
    "Steps:\n",
    "- Formulate Hypothesis:\n",
    "Null Hypothesis (H0): The discount does not significantly increase the total revenue or average revenue per customer for the chosen product.\n",
    "Alternative Hypothesis (H1): The discount significantly increases the total revenue or average revenue per customer for the chosen product.\n",
    "\n",
    "- Random Assignment:\n",
    "Randomly assign customers in the UK to two groups: Group A (Control) and Group B (Treatment).\n",
    "\n",
    "- Implement the Discount Strategy:\n",
    "Assume that Group B receives a discount on the chosen product.\n",
    "\n",
    "- Measure Outcomes:\n",
    "Calculate total revenue and average revenue per customer for the chosen product in both groups.\n",
    "\n",
    "- Statistical Analysis:\n",
    "Perform an independent samples t-test to compare the revenue metrics between the two groups.\n",
    "\n",
    "- Interpret Results:\n",
    "Based on the p-value and other statistical measures, decide whether to reject the null hypothesis."
   ]
  },
  {
   "cell_type": "code",
   "execution_count": 155,
   "metadata": {},
   "outputs": [],
   "source": [
    "#I'm going to analyze the effect of the discount of 20% in the product 'REGENCY CAKESTAND 3 TIER' in UK.\n",
    "#My null hypothesis is that the discount is not significant. My alternative hypothesis is that the discount is significant.\n",
    "product = 'REGENCY CAKESTAND 3 TIER'\n",
    "country = 'United Kingdom'"
   ]
  },
  {
   "cell_type": "code",
   "execution_count": 156,
   "metadata": {},
   "outputs": [
    {
     "data": {
      "text/html": [
       "<div>\n",
       "<style scoped>\n",
       "    .dataframe tbody tr th:only-of-type {\n",
       "        vertical-align: middle;\n",
       "    }\n",
       "\n",
       "    .dataframe tbody tr th {\n",
       "        vertical-align: top;\n",
       "    }\n",
       "\n",
       "    .dataframe thead th {\n",
       "        text-align: right;\n",
       "    }\n",
       "</style>\n",
       "<table border=\"1\" class=\"dataframe\">\n",
       "  <thead>\n",
       "    <tr style=\"text-align: right;\">\n",
       "      <th></th>\n",
       "      <th>InvoiceNo</th>\n",
       "      <th>StockCode</th>\n",
       "      <th>Description</th>\n",
       "      <th>Quantity</th>\n",
       "      <th>InvoiceDate</th>\n",
       "      <th>UnitPrice</th>\n",
       "      <th>CustomerID</th>\n",
       "      <th>Country</th>\n",
       "      <th>Total_Price</th>\n",
       "      <th>Group</th>\n",
       "      <th>is_outlier</th>\n",
       "    </tr>\n",
       "  </thead>\n",
       "  <tbody>\n",
       "    <tr>\n",
       "      <th>0</th>\n",
       "      <td>536365</td>\n",
       "      <td>85123A</td>\n",
       "      <td>WHITE HANGING HEART T-LIGHT HOLDER</td>\n",
       "      <td>6</td>\n",
       "      <td>2010-12-01 08:26:00</td>\n",
       "      <td>2.55</td>\n",
       "      <td>17850.0</td>\n",
       "      <td>United Kingdom</td>\n",
       "      <td>15.30</td>\n",
       "      <td>A</td>\n",
       "      <td>False</td>\n",
       "    </tr>\n",
       "    <tr>\n",
       "      <th>1</th>\n",
       "      <td>536365</td>\n",
       "      <td>71053</td>\n",
       "      <td>WHITE METAL LANTERN</td>\n",
       "      <td>6</td>\n",
       "      <td>2010-12-01 08:26:00</td>\n",
       "      <td>3.39</td>\n",
       "      <td>17850.0</td>\n",
       "      <td>United Kingdom</td>\n",
       "      <td>20.34</td>\n",
       "      <td>A</td>\n",
       "      <td>False</td>\n",
       "    </tr>\n",
       "    <tr>\n",
       "      <th>2</th>\n",
       "      <td>536365</td>\n",
       "      <td>84406B</td>\n",
       "      <td>CREAM CUPID HEARTS COAT HANGER</td>\n",
       "      <td>8</td>\n",
       "      <td>2010-12-01 08:26:00</td>\n",
       "      <td>2.75</td>\n",
       "      <td>17850.0</td>\n",
       "      <td>United Kingdom</td>\n",
       "      <td>22.00</td>\n",
       "      <td>A</td>\n",
       "      <td>False</td>\n",
       "    </tr>\n",
       "  </tbody>\n",
       "</table>\n",
       "</div>"
      ],
      "text/plain": [
       "  InvoiceNo StockCode                         Description  Quantity  \\\n",
       "0    536365    85123A  WHITE HANGING HEART T-LIGHT HOLDER         6   \n",
       "1    536365     71053                 WHITE METAL LANTERN         6   \n",
       "2    536365    84406B      CREAM CUPID HEARTS COAT HANGER         8   \n",
       "\n",
       "          InvoiceDate  UnitPrice CustomerID         Country  Total_Price  \\\n",
       "0 2010-12-01 08:26:00       2.55    17850.0  United Kingdom        15.30   \n",
       "1 2010-12-01 08:26:00       3.39    17850.0  United Kingdom        20.34   \n",
       "2 2010-12-01 08:26:00       2.75    17850.0  United Kingdom        22.00   \n",
       "\n",
       "  Group  is_outlier  \n",
       "0     A       False  \n",
       "1     A       False  \n",
       "2     A       False  "
      ]
     },
     "execution_count": 156,
     "metadata": {},
     "output_type": "execute_result"
    }
   ],
   "source": [
    "#Work only with UK data\n",
    "uk_df_old = data[data['Country'] == country]\n",
    "#Remove 'Group' column\n",
    "uk_df = uk_df_old.drop('Group', axis=1)\n",
    "uk_df_old.head(3)"
   ]
  },
  {
   "cell_type": "markdown",
   "metadata": {},
   "source": [
    "Secordary df with information about the sells of the product in UK after applying the discount"
   ]
  },
  {
   "cell_type": "code",
   "execution_count": 157,
   "metadata": {},
   "outputs": [],
   "source": [
    "uk_df_new = pd.read_csv('OnlineRetail_Updated.csv',encoding = \"ISO-8859-1\")\n",
    "\n",
    "#Create Total_Price column\n",
    "uk_df_new['Total_Price'] = uk_df_new['Quantity'] * uk_df_new['UnitPrice']"
   ]
  },
  {
   "cell_type": "code",
   "execution_count": 158,
   "metadata": {},
   "outputs": [
    {
     "data": {
      "text/html": [
       "<div>\n",
       "<style scoped>\n",
       "    .dataframe tbody tr th:only-of-type {\n",
       "        vertical-align: middle;\n",
       "    }\n",
       "\n",
       "    .dataframe tbody tr th {\n",
       "        vertical-align: top;\n",
       "    }\n",
       "\n",
       "    .dataframe thead th {\n",
       "        text-align: right;\n",
       "    }\n",
       "</style>\n",
       "<table border=\"1\" class=\"dataframe\">\n",
       "  <thead>\n",
       "    <tr style=\"text-align: right;\">\n",
       "      <th></th>\n",
       "      <th>InvoiceNo</th>\n",
       "      <th>StockCode</th>\n",
       "      <th>Description</th>\n",
       "      <th>Quantity</th>\n",
       "      <th>InvoiceDate</th>\n",
       "      <th>UnitPrice</th>\n",
       "      <th>CustomerID</th>\n",
       "      <th>Country</th>\n",
       "      <th>Total_Price</th>\n",
       "    </tr>\n",
       "  </thead>\n",
       "  <tbody>\n",
       "    <tr>\n",
       "      <th>0</th>\n",
       "      <td>1536365</td>\n",
       "      <td>85123A</td>\n",
       "      <td>WHITE HANGING HEART T-LIGHT HOLDER</td>\n",
       "      <td>6.0</td>\n",
       "      <td>12/01/2011 08:26</td>\n",
       "      <td>2.55</td>\n",
       "      <td>17088.0</td>\n",
       "      <td>United Kingdom</td>\n",
       "      <td>15.30</td>\n",
       "    </tr>\n",
       "    <tr>\n",
       "      <th>1</th>\n",
       "      <td>1536365</td>\n",
       "      <td>71053</td>\n",
       "      <td>WHITE METAL LANTERN</td>\n",
       "      <td>6.0</td>\n",
       "      <td>12/01/2011 08:26</td>\n",
       "      <td>3.39</td>\n",
       "      <td>14393.0</td>\n",
       "      <td>United Kingdom</td>\n",
       "      <td>20.34</td>\n",
       "    </tr>\n",
       "    <tr>\n",
       "      <th>2</th>\n",
       "      <td>1536365</td>\n",
       "      <td>84406B</td>\n",
       "      <td>CREAM CUPID HEARTS COAT HANGER</td>\n",
       "      <td>8.0</td>\n",
       "      <td>12/01/2011 08:26</td>\n",
       "      <td>2.75</td>\n",
       "      <td>14998.0</td>\n",
       "      <td>United Kingdom</td>\n",
       "      <td>22.00</td>\n",
       "    </tr>\n",
       "  </tbody>\n",
       "</table>\n",
       "</div>"
      ],
      "text/plain": [
       "   InvoiceNo StockCode                         Description  Quantity  \\\n",
       "0    1536365    85123A  WHITE HANGING HEART T-LIGHT HOLDER       6.0   \n",
       "1    1536365     71053                 WHITE METAL LANTERN       6.0   \n",
       "2    1536365    84406B      CREAM CUPID HEARTS COAT HANGER       8.0   \n",
       "\n",
       "        InvoiceDate  UnitPrice  CustomerID         Country  Total_Price  \n",
       "0  12/01/2011 08:26       2.55     17088.0  United Kingdom        15.30  \n",
       "1  12/01/2011 08:26       3.39     14393.0  United Kingdom        20.34  \n",
       "2  12/01/2011 08:26       2.75     14998.0  United Kingdom        22.00  "
      ]
     },
     "execution_count": 158,
     "metadata": {},
     "output_type": "execute_result"
    }
   ],
   "source": [
    "#Explore the new data\n",
    "uk_df_new.head(3)"
   ]
  },
  {
   "cell_type": "code",
   "execution_count": 159,
   "metadata": {},
   "outputs": [
    {
     "name": "stdout",
     "output_type": "stream",
     "text": [
      "<class 'pandas.core.frame.DataFrame'>\n",
      "RangeIndex: 487619 entries, 0 to 487618\n",
      "Data columns (total 9 columns):\n",
      " #   Column       Non-Null Count   Dtype  \n",
      "---  ------       --------------   -----  \n",
      " 0   InvoiceNo    487619 non-null  int64  \n",
      " 1   StockCode    487619 non-null  object \n",
      " 2   Description  487619 non-null  object \n",
      " 3   Quantity     487619 non-null  float64\n",
      " 4   InvoiceDate  487619 non-null  object \n",
      " 5   UnitPrice    487619 non-null  float64\n",
      " 6   CustomerID   487619 non-null  float64\n",
      " 7   Country      487619 non-null  object \n",
      " 8   Total_Price  487619 non-null  float64\n",
      "dtypes: float64(4), int64(1), object(4)\n",
      "memory usage: 33.5+ MB\n"
     ]
    }
   ],
   "source": [
    "uk_df_new.info()"
   ]
  },
  {
   "cell_type": "code",
   "execution_count": 160,
   "metadata": {},
   "outputs": [
    {
     "name": "stdout",
     "output_type": "stream",
     "text": [
      "(1406, 11)\n",
      "(1711, 9)\n"
     ]
    }
   ],
   "source": [
    "print(uk_df_old[uk_df_old.Description == 'REGENCY CAKESTAND 3 TIER'].shape)\n",
    "print(uk_df_new[uk_df_new.Description == 'REGENCY CAKESTAND 3 TIER'].shape)"
   ]
  },
  {
   "cell_type": "markdown",
   "metadata": {},
   "source": [
    "Estan algo desbalanceadas las ventas de los productos. Asi que voy a balancearlo de forma aleatoria para poder comparar."
   ]
  },
  {
   "cell_type": "code",
   "execution_count": 161,
   "metadata": {},
   "outputs": [
    {
     "name": "stdout",
     "output_type": "stream",
     "text": [
      "(1406, 11)\n",
      "(1406, 9)\n"
     ]
    }
   ],
   "source": [
    "old_product_sells = uk_df_old[uk_df_old.Description == 'REGENCY CAKESTAND 3 TIER']\n",
    "\n",
    "#Select 1406 random rows with Description = 'REGENCY CAKESTAND 3 TIER' in the new data\n",
    "new_product_sells = uk_df_new[uk_df_new.Description == 'REGENCY CAKESTAND 3 TIER'].sample(1406, random_state=42)\n",
    "\n",
    "print(old_product_sells.shape)\n",
    "print(new_product_sells.shape)"
   ]
  },
  {
   "cell_type": "code",
   "execution_count": 162,
   "metadata": {},
   "outputs": [
    {
     "name": "stdout",
     "output_type": "stream",
     "text": [
      "The revenue of the product REGENCY CAKESTAND 3 TIER without discount was $92886.4\n",
      "The revenue of the product REGENCY CAKESTAND 3 TIER with discount was $138791.12\n",
      "The total quantity of the product REGENCY CAKESTAND 3 TIER without discount was 7989\n",
      "The total quantity of the product REGENCY CAKESTAND 3 TIER with discount was 13471.5\n"
     ]
    }
   ],
   "source": [
    "#Analyze the total revenue and the total quantity in old and new product sales\n",
    "print(\"The revenue of the product REGENCY CAKESTAND 3 TIER without discount was ${}\".format(round(old_product_sells['Total_Price'].sum(),2)))\n",
    "print(\"The revenue of the product REGENCY CAKESTAND 3 TIER with discount was ${}\".format(round(new_product_sells['Total_Price'].sum(),2)))\n",
    "print(\"The total quantity of the product REGENCY CAKESTAND 3 TIER without discount was {}\".format(old_product_sells['Quantity'].sum()))\n",
    "print(\"The total quantity of the product REGENCY CAKESTAND 3 TIER with discount was {}\".format(new_product_sells['Quantity'].sum()))"
   ]
  },
  {
   "cell_type": "code",
   "execution_count": 163,
   "metadata": {},
   "outputs": [
    {
     "data": {
      "text/plain": [
       "TtestResult(statistic=-5.559222606892024, pvalue=3.0674172441394026e-08, df=2028.9537261653008)"
      ]
     },
     "execution_count": 163,
     "metadata": {},
     "output_type": "execute_result"
    }
   ],
   "source": [
    "#Null Hypothesis: The discount is not significant\n",
    "#Alternative Hypothesis: The discount is significant\n",
    "\n",
    "stats.ttest_ind(old_product_sells['Total_Price'], new_product_sells['Total_Price'], equal_var=False)"
   ]
  },
  {
   "cell_type": "code",
   "execution_count": 165,
   "metadata": {},
   "outputs": [
    {
     "data": {
      "text/plain": [
       "TtestResult(statistic=-17.580829200175, pvalue=1.0254458565754025e-62, df=1410.5720340263863)"
      ]
     },
     "execution_count": 165,
     "metadata": {},
     "output_type": "execute_result"
    }
   ],
   "source": [
    "stats.ttest_ind(old_product_sells['Quantity'], new_product_sells['Total_Price'], equal_var=False)"
   ]
  },
  {
   "cell_type": "markdown",
   "metadata": {},
   "source": [
    "The discount led to a significant increase in the quantity sold.\n",
    "Despite the discount, the revenue also shows a significant change, indicating that the increased sales volume compensated for the lower price."
   ]
  }
 ],
 "metadata": {
  "kernelspec": {
   "display_name": "base",
   "language": "python",
   "name": "python3"
  },
  "language_info": {
   "codemirror_mode": {
    "name": "ipython",
    "version": 3
   },
   "file_extension": ".py",
   "mimetype": "text/x-python",
   "name": "python",
   "nbconvert_exporter": "python",
   "pygments_lexer": "ipython3",
   "version": "3.11.7"
  }
 },
 "nbformat": 4,
 "nbformat_minor": 2
}
