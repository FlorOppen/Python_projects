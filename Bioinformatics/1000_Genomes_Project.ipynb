{
  "cells": [
    {
      "cell_type": "markdown",
      "metadata": {
        "id": "nD2Lc6L8HYBC"
      },
      "source": [
        "\n",
        "# Analysis of the DiGeorge Syndrome Region in Chromosome 22\n",
        "\n",
        "This notebook focuses on the analysis of genomic variants within the DiGeorge Syndrome region of chromosome 22.\n",
        "We will first annotate the VCF file using VEP (Variant Effect Predictor) to enrich our data with functional annotations.\n",
        "Then, we'll filter the variants to focus on the region of interest and perform various analyses to understand the impact of these variants."
      ]
    },
    {
      "cell_type": "markdown",
      "metadata": {
        "id": "EyHD9xZbv0PC"
      },
      "source": [
        "\n",
        "## Step 1: Setup the Environment\n",
        "\n",
        "We will begin by setting up the necessary environment for Spark and other tools, and then load the VCF file that contains the genomic data.\n"
      ]
    },
    {
      "cell_type": "markdown",
      "metadata": {
        "id": "mPWsqBA03IpF"
      },
      "source": [
        "### Step 1.1: Install Dependencies\n"
      ]
    },
    {
      "cell_type": "code",
      "execution_count": 2,
      "metadata": {
        "colab": {
          "base_uri": "https://localhost:8080/"
        },
        "collapsed": true,
        "id": "EffGOKiYpTUM",
        "outputId": "4b15ca3e-867c-4ee3-cd73-1a443b4c5c2d"
      },
      "outputs": [
        {
          "name": "stdout",
          "output_type": "stream",
          "text": [
            "Requirement already satisfied: colorama in /usr/local/lib/python3.10/dist-packages (0.4.6)\n",
            "Requirement already satisfied: executing in /usr/local/lib/python3.10/dist-packages (2.0.1)\n",
            "Requirement already satisfied: beautifulsoup4 in /usr/local/lib/python3.10/dist-packages (4.12.3)\n",
            "Requirement already satisfied: requests in /usr/local/lib/python3.10/dist-packages (2.32.3)\n",
            "Requirement already satisfied: soupsieve>1.2 in /usr/local/lib/python3.10/dist-packages (from beautifulsoup4) (2.6)\n",
            "Requirement already satisfied: charset-normalizer<4,>=2 in /usr/local/lib/python3.10/dist-packages (from requests) (3.3.2)\n",
            "Requirement already satisfied: idna<4,>=2.5 in /usr/local/lib/python3.10/dist-packages (from requests) (3.7)\n",
            "Requirement already satisfied: urllib3<3,>=1.21.1 in /usr/local/lib/python3.10/dist-packages (from requests) (2.0.7)\n",
            "Requirement already satisfied: certifi>=2017.4.17 in /usr/local/lib/python3.10/dist-packages (from requests) (2024.7.4)\n"
          ]
        }
      ],
      "source": [
        "!pip install colorama executing beautifulsoup4 requests"
      ]
    },
    {
      "cell_type": "code",
      "execution_count": 3,
      "metadata": {
        "colab": {
          "base_uri": "https://localhost:8080/"
        },
        "collapsed": true,
        "id": "Z8z3YERJv7G6",
        "outputId": "7f4befef-f648-42c1-ecfa-2f578e9240c9"
      },
      "outputs": [
        {
          "name": "stdout",
          "output_type": "stream",
          "text": [
            "Requirement already satisfied: pyspark==3.3.2 in /usr/local/lib/python3.10/dist-packages (3.3.2)\n",
            "Requirement already satisfied: py4j==0.10.9.5 in /usr/local/lib/python3.10/dist-packages (from pyspark==3.3.2) (0.10.9.5)\n",
            "Requirement already satisfied: glow.py in /usr/local/lib/python3.10/dist-packages (2.0.0)\n",
            "Requirement already satisfied: nptyping>=2.5.0 in /usr/local/lib/python3.10/dist-packages (from glow.py) (2.5.0)\n",
            "Requirement already satisfied: numpy>=1.23.5 in /usr/local/lib/python3.10/dist-packages (from glow.py) (1.26.4)\n",
            "Requirement already satisfied: opt-einsum>=3.2.0 in /usr/local/lib/python3.10/dist-packages (from glow.py) (3.3.0)\n",
            "Requirement already satisfied: pandas>=1.5.3 in /usr/local/lib/python3.10/dist-packages (from glow.py) (2.1.4)\n",
            "Requirement already satisfied: scipy>=1.10.0 in /usr/local/lib/python3.10/dist-packages (from glow.py) (1.13.1)\n",
            "Requirement already satisfied: statsmodels>=0.13.5 in /usr/local/lib/python3.10/dist-packages (from glow.py) (0.14.2)\n",
            "Requirement already satisfied: typeguard>=2.13.3 in /usr/local/lib/python3.10/dist-packages (from glow.py) (4.3.0)\n",
            "Requirement already satisfied: python-dateutil>=2.8.2 in /usr/local/lib/python3.10/dist-packages (from pandas>=1.5.3->glow.py) (2.8.2)\n",
            "Requirement already satisfied: pytz>=2020.1 in /usr/local/lib/python3.10/dist-packages (from pandas>=1.5.3->glow.py) (2024.1)\n",
            "Requirement already satisfied: tzdata>=2022.1 in /usr/local/lib/python3.10/dist-packages (from pandas>=1.5.3->glow.py) (2024.1)\n",
            "Requirement already satisfied: patsy>=0.5.6 in /usr/local/lib/python3.10/dist-packages (from statsmodels>=0.13.5->glow.py) (0.5.6)\n",
            "Requirement already satisfied: packaging>=21.3 in /usr/local/lib/python3.10/dist-packages (from statsmodels>=0.13.5->glow.py) (24.1)\n",
            "Requirement already satisfied: typing-extensions>=4.10.0 in /usr/local/lib/python3.10/dist-packages (from typeguard>=2.13.3->glow.py) (4.12.2)\n",
            "Requirement already satisfied: six in /usr/local/lib/python3.10/dist-packages (from patsy>=0.5.6->statsmodels>=0.13.5->glow.py) (1.16.0)\n"
          ]
        }
      ],
      "source": [
        "# Import necessary libraries\n",
        "import os\n",
        "import matplotlib.pyplot as plt\n",
        "import seaborn as sns\n",
        "import pandas as pd\n",
        "\n",
        "# Install the latest version of PySpark\n",
        "!pip install pyspark==3.3.2\n",
        "\n",
        "# Install Glow\n",
        "!pip install glow.py\n",
        "\n",
        "# Import necessary modules from PySpark\n",
        "from pyspark.sql.functions import explode, col\n",
        "from pyspark.sql import SparkSession\n",
        "\n",
        "# Import Glow\n",
        "import glow\n",
        "\n",
        "# Install Java 8 (if not already installed)\n",
        "!apt-get install openjdk-8-jdk-headless -qq > /dev/null\n",
        "os.environ[\"JAVA_HOME\"] = \"/usr/lib/jvm/java-8-openjdk-amd64\""
      ]
    },
    {
      "cell_type": "markdown",
      "metadata": {
        "id": "2dVBZN0l3OT7"
      },
      "source": [
        "### Step 1.2: Configure Spark\n"
      ]
    },
    {
      "cell_type": "code",
      "execution_count": 4,
      "metadata": {
        "colab": {
          "base_uri": "https://localhost:8080/"
        },
        "id": "2NQjnMai3QKx",
        "outputId": "41756e53-a6a4-4ac9-e608-ab6c014b850f"
      },
      "outputs": [
        {
          "name": "stdout",
          "output_type": "stream",
          "text": [
            "Spark Session created: <pyspark.sql.session.SparkSession object at 0x7ee07616ba90>\n",
            "Spark Version: 3.3.2\n",
            "Spark App Name: 1000Genomes\n",
            "Spark Master: local[*]\n"
          ]
        }
      ],
      "source": [
        "# Initiate Spark Session with detailed configuration\n",
        "spark = SparkSession.builder \\\n",
        "    .appName(\"1000Genomes\") \\\n",
        "    .config(\"spark.jars.packages\",\n",
        "            \"org.apache.hadoop:hadoop-aws:3.3.6,\"\n",
        "            \"com.amazonaws:aws-java-sdk-bundle:1.12.565,\"\n",
        "            \"io.projectglow:glow-spark3_2.12:1.1.1\") \\\n",
        "    .config(\"spark.driver.memory\", \"16g\") \\\n",
        "    .config(\"spark.executor.memory\", \"16g\") \\\n",
        "    .getOrCreate()\n",
        "\n",
        "# Verify Spark session\n",
        "print(\"Spark Session created:\", spark)\n",
        "print(\"Spark Version:\", spark.version)\n",
        "print(\"Spark App Name:\", spark.sparkContext.appName)\n",
        "print(\"Spark Master:\", spark.sparkContext.master)"
      ]
    },
    {
      "cell_type": "markdown",
      "metadata": {
        "id": "_nLcQ8K93VXL"
      },
      "source": [
        "### Step 1.3: Install VEP\n"
      ]
    },
    {
      "cell_type": "code",
      "execution_count": 5,
      "metadata": {
        "colab": {
          "base_uri": "https://localhost:8080/"
        },
        "collapsed": true,
        "id": "6IUdsluKowKB",
        "outputId": "4fb6b164-870c-45ca-ac6a-145e134ce7aa"
      },
      "outputs": [
        {
          "name": "stdout",
          "output_type": "stream",
          "text": [
            "--2024-08-21 13:55:59--  https://github.com/Ensembl/ensembl-vep/archive/release/112.zip\n",
            "Resolving github.com (github.com)... 20.27.177.113\n",
            "Connecting to github.com (github.com)|20.27.177.113|:443... connected.\n",
            "HTTP request sent, awaiting response... 302 Found\n",
            "Location: https://codeload.github.com/Ensembl/ensembl-vep/zip/refs/heads/release/112 [following]\n",
            "--2024-08-21 13:55:59--  https://codeload.github.com/Ensembl/ensembl-vep/zip/refs/heads/release/112\n",
            "Resolving codeload.github.com (codeload.github.com)... 20.27.177.114\n",
            "Connecting to codeload.github.com (codeload.github.com)|20.27.177.114|:443... connected.\n",
            "HTTP request sent, awaiting response... 200 OK\n",
            "Length: unspecified [application/zip]\n",
            "Saving to: ‘ensembl-vep.zip’\n",
            "\n",
            "ensembl-vep.zip         [         <=>        ]  60.80M  3.47MB/s    in 18s     \n",
            "\n",
            "2024-08-21 13:56:17 (3.46 MB/s) - ‘ensembl-vep.zip’ saved [63756818]\n",
            "\n",
            "Archive:  ensembl-vep.zip\n",
            "31a3581b84495b617b2f3980da6c6313ca6d238f\n",
            "replace ensembl-vep-release-112/.github/ISSUE_TEMPLATE/issue-report.md? [y]es, [n]o, [A]ll, [N]one, [r]ename: n\n",
            "replace ensembl-vep-release-112/.github/workflows/docker.yml? [y]es, [n]o, [A]ll, [N]one, [r]ename: n\n",
            "replace ensembl-vep-release-112/.github/workflows/merge-branches.yml? [y]es, [n]o, [A]ll, [N]one, [r]ename: n\n",
            "replace ensembl-vep-release-112/.travis.yml? [y]es, [n]o, [A]ll, [N]one, [r]ename: n\n",
            "replace ensembl-vep-release-112/INSTALL.pl? [y]es, [n]o, [A]ll, [N]one, [r]ename: n\n",
            "replace ensembl-vep-release-112/LICENSE? [y]es, [n]o, [A]ll, [N]one, [r]ename: n\n",
            "replace ensembl-vep-release-112/README.md? [y]es, [n]o, [A]ll, [N]one, [r]ename: n\n",
            "replace ensembl-vep-release-112/convert_cache.pl? [y]es, [n]o, [A]ll, [N]one, [r]ename: n\n",
            "replace ensembl-vep-release-112/cpanfile? [y]es, [n]o, [A]ll, [N]one, [r]ename: n\n",
            "replace ensembl-vep-release-112/docker/Dockerfile? [y]es, [n]o, [A]ll, [N]one, [r]ename: n\n",
            "replace ensembl-vep-release-112/examples/arabidopsis_thaliana.TAIR10.vcf? [y]es, [n]o, [A]ll, [N]one, [r]ename: n\n",
            "replace ensembl-vep-release-112/examples/bos_taurus_UMD3.1.vcf? [y]es, [n]o, [A]ll, [N]one, [r]ename: n\n",
            "replace ensembl-vep-release-112/examples/canis_familiaris_CanFam3.1.vcf? [y]es, [n]o, [A]ll, [N]one, [r]ename: n\n",
            "replace ensembl-vep-release-112/examples/danio_rerio_GRCz10.vcf? [y]es, [n]o, [A]ll, [N]one, [r]ename: n\n",
            "replace ensembl-vep-release-112/examples/drosophila_melanogaster_BDGP6.vcf? [y]es, [n]o, [A]ll, [N]one, [r]ename: n\n",
            "replace ensembl-vep-release-112/examples/homo_sapiens_GRCh37.vcf? [y]es, [n]o, [A]ll, [N]one, [r]ename: n\n",
            "replace ensembl-vep-release-112/examples/homo_sapiens_GRCh38.vcf? [y]es, [n]o, [A]ll, [N]one, [r]ename: N\n",
            "mv: cannot move 'ensembl-vep-release-112' to 'ensembl-vep/ensembl-vep-release-112': Directory not empty\n"
          ]
        }
      ],
      "source": [
        "try:\n",
        "    # Download and install VEP\n",
        "    !wget https://github.com/Ensembl/ensembl-vep/archive/release/112.zip -O ensembl-vep.zip\n",
        "    !unzip ensembl-vep.zip\n",
        "    !mv ensembl-vep-release-112 ensembl-vep\n",
        "except Exception as e:\n",
        "    print(f\"Error during VEP installation: {e}\")"
      ]
    },
    {
      "cell_type": "code",
      "execution_count": 6,
      "metadata": {
        "colab": {
          "base_uri": "https://localhost:8080/"
        },
        "collapsed": true,
        "id": "ZGUwd7YDo2c9",
        "outputId": "7e9785c8-babc-4b8c-8973-89fbc976b3af"
      },
      "outputs": [
        {
          "name": "stdout",
          "output_type": "stream",
          "text": [
            "Reading package lists... Done\n",
            "Building dependency tree... Done\n",
            "Reading state information... Done\n",
            "perl is already the newest version (5.34.0-3ubuntu1.3).\n",
            "0 upgraded, 0 newly installed, 0 to remove and 41 not upgraded.\n",
            "Reading package lists... Done\n",
            "Building dependency tree... Done\n",
            "Reading state information... Done\n",
            "unzip is already the newest version (6.0-26ubuntu3.2).\n",
            "0 upgraded, 0 newly installed, 0 to remove and 41 not upgraded.\n",
            "Reading package lists... Done\n",
            "Building dependency tree... Done\n",
            "Reading state information... Done\n",
            "cpanminus is already the newest version (1.7045-1).\n",
            "0 upgraded, 0 newly installed, 0 to remove and 41 not upgraded.\n",
            "Archive::Zip is up to date. (1.68)\n",
            "DBD::SQLite is up to date. (1.74)\n",
            "DBD::mysql is up to date. (5.008)\n",
            "DBI is up to date. (1.643)\n",
            "Bio::Perl is up to date. (1.7.4)\n",
            "! Finding Bio::EnsEMBL::Registry on cpanmetadb failed.\n",
            "! Finding Bio::EnsEMBL::Registry () on mirror http://www.cpan.org failed.\n",
            "! Couldn't find module or a distribution Bio::EnsEMBL::Registry\n",
            "--> Working on Bio::DB::HTS::Kseq\n",
            "Fetching http://www.cpan.org/authors/id/A/AV/AVULLO/Bio-DB-HTS-3.01.tar.gz ... OK\n",
            "Configuring Bio-DB-HTS-3.01 ... N/A\n",
            "! Configure failed for Bio-DB-HTS-3.01. See /root/.cpanm/work/1724249050.61154/build.log for details.\n",
            "--> Working on Bio::DB::HTS\n",
            "Fetching http://www.cpan.org/authors/id/A/AV/AVULLO/Bio-DB-HTS-3.01.tar.gz ... OK\n",
            "Configuring Bio-DB-HTS-3.01 ... N/A\n",
            "! Configure failed for Bio-DB-HTS-3.01. See /root/.cpanm/work/1724249051.61178/build.log for details.\n",
            "--> Working on Bio::DB::BigFile\n",
            "Fetching http://www.cpan.org/authors/id/L/LD/LDS/Bio-BigFile-1.07.tar.gz ... OK\n",
            "Configuring Bio-BigFile-1.07 ... OK\n",
            "Building and testing Bio-BigFile-1.07 ... FAIL\n",
            "! Installing Bio::DB::BigFile failed. See /root/.cpanm/work/1724249052.61202/build.log for details. Retry with --force to force install it.\n"
          ]
        }
      ],
      "source": [
        "# Install Perl and other dependencies\n",
        "!apt-get install -y perl\n",
        "!apt-get install -y unzip\n",
        "!apt-get install -y cpanminus\n",
        "!cpanm Archive::Zip\n",
        "!cpanm DBD::SQLite\n",
        "!cpanm DBD::mysql\n",
        "!cpanm DBI\n",
        "# Install BioPerl and other necessary Perl modules\n",
        "!cpanm Bio::Perl\n",
        "!cpanm Bio::EnsEMBL::Registry\n",
        "!cpanm Bio::DB::HTS::Kseq\n",
        "!cpanm Bio::DB::HTS\n",
        "!cpanm Bio::DB::BigFile"
      ]
    },
    {
      "cell_type": "code",
      "execution_count": 7,
      "metadata": {
        "colab": {
          "base_uri": "https://localhost:8080/"
        },
        "collapsed": true,
        "id": "HPfxaUxvr7_r",
        "outputId": "9bd2f167-110d-4ab0-cb3b-932baf1e013e"
      },
      "outputs": [
        {
          "name": "stdout",
          "output_type": "stream",
          "text": [
            "fatal: destination path 'ensembl' already exists and is not an empty directory.\n",
            "fatal: destination path 'ensembl-variation' already exists and is not an empty directory.\n",
            "fatal: destination path 'ensembl-funcgen' already exists and is not an empty directory.\n",
            "fatal: destination path 'ensembl-io' already exists and is not an empty directory.\n"
          ]
        }
      ],
      "source": [
        "# Clone and set up Ensembl API dependencies\n",
        "!git clone https://github.com/Ensembl/ensembl.git\n",
        "!git clone https://github.com/Ensembl/ensembl-variation.git\n",
        "!git clone https://github.com/Ensembl/ensembl-funcgen.git\n",
        "!git clone https://github.com/Ensembl/ensembl-io.git"
      ]
    },
    {
      "cell_type": "code",
      "execution_count": 8,
      "metadata": {
        "colab": {
          "base_uri": "https://localhost:8080/"
        },
        "collapsed": true,
        "id": "CIhsQz0ro9pe",
        "outputId": "98631d80-1d05-4883-fe32-8130b6deb2c5"
      },
      "outputs": [
        {
          "name": "stdout",
          "output_type": "stream",
          "text": [
            "/content/ensembl-vep\n",
            "--> Working on .\n",
            "Configuring /content/ensembl-vep ... OK\n",
            "<== Installed dependencies for .. Finishing.\n"
          ]
        }
      ],
      "source": [
        "%cd ensembl-vep\n",
        "\n",
        "# Instalar las dependencias de Perl para Ensembl VEP\n",
        "!cpanm --installdeps ."
      ]
    },
    {
      "cell_type": "code",
      "execution_count": 9,
      "metadata": {
        "id": "5vJ1RTdEpRgI"
      },
      "outputs": [],
      "source": [
        "# Move the Ensembl modules to the Perl library path\n",
        "!cp -r /content/ensembl/modules/Bio /usr/local/lib/x86_64-linux-gnu/perl/5.34.0/\n",
        "!cp -r /content/ensembl-variation/modules/Bio /usr/local/lib/x86_64-linux-gnu/perl/5.34.0/\n",
        "!cp -r /content/ensembl-funcgen/modules/Bio /usr/local/lib/x86_64-linux-gnu/perl/5.34.0/\n",
        "!cp -r /content/ensembl-io/modules/Bio /usr/local/lib/x86_64-linux-gnu/perl/5.34.0/"
      ]
    },
    {
      "cell_type": "code",
      "execution_count": 10,
      "metadata": {
        "colab": {
          "base_uri": "https://localhost:8080/"
        },
        "id": "ItjfXHM-pR8r",
        "outputId": "5e5ece55-328b-4d7b-8220-cc9206db2f78"
      },
      "outputs": [
        {
          "name": "stdout",
          "output_type": "stream",
          "text": [
            "/content\n"
          ]
        }
      ],
      "source": [
        "%cd ..\n",
        "#Set the PERL5LIB environment variable\n",
        "os.environ['PERL5LIB'] = \"/usr/local/lib/x86_64-linux-gnu/perl/5.34.0:/content/ensembl-vep/modules:/content/ensembl/modules:/content/ensembl-variation/modules:/content/ensembl-funcgen/modules:$PERL5LIB\""
      ]
    },
    {
      "cell_type": "code",
      "execution_count": null,
      "metadata": {
        "colab": {
          "base_uri": "https://localhost:8080/"
        },
        "id": "NMyXc416xMjh",
        "outputId": "d5bd9e20-1f51-45d3-a61a-1bf99dfce628"
      },
      "outputs": [
        {
          "name": "stdout",
          "output_type": "stream",
          "text": [
            " - getting list of available cache files\n"
          ]
        }
      ],
      "source": [
        "cache_dir = \"/root/.vep\"\n",
        "\n",
        "if not os.path.exists(cache_dir):\n",
        "    # Download the VEP cache for human (homo_sapiens) using Perl command directly\n",
        "    !perl ensembl-vep/INSTALL.pl -a cf -s homo_sapiens -y GRCh38 -c {cache_dir}\n",
        "\n",
        "    # Path to the downloaded tar.gz file\n",
        "    tar_gz_file = os.path.join(cache_dir, \"homo_sapiens_vep_112_GRCh38.tar.gz\")\n",
        "\n",
        "    # Check if the tar.gz file exists and then extract it\n",
        "    if os.path.exists(tar_gz_file):\n",
        "        print(\"Extracting VEP cache...\")\n",
        "        !tar -xzf {tar_gz_file} -C {cache_dir}/homo_sapiens/\n",
        "        print(\"Extraction complete.\")\n",
        "    else:\n",
        "        print(f\"Error: Cache file {tar_gz_file} not found.\")\n",
        "else:\n",
        "    print(\"Vep cache already exists.\")"
      ]
    },
    {
      "cell_type": "markdown",
      "metadata": {
        "id": "JhM_csxaoY31"
      },
      "source": [
        "\n",
        "## Step 2: Load the VCF Data\n",
        "\n",
        "We will load the VCF file that contains genomic variants and filter it to focus on the DiGeorge Syndrome region in chromosome 22.\n"
      ]
    },
    {
      "cell_type": "code",
      "execution_count": null,
      "metadata": {
        "id": "Xi0cI2qUCcm_"
      },
      "outputs": [],
      "source": [
        "# Define the file paths\n",
        "vcf_url = \"https://ftp-trace.ncbi.nih.gov/1000genomes/ftp/release/20130502/ALL.chr22.phase3_shapeit2_mvncall_integrated_v5a.20130502.genotypes.vcf.gz\"\n",
        "vcf_gz_path = \"/content/annotated_output.vcf.gz\"\n",
        "vcf_path = \"/content/annotated_output.vcf\"\n",
        "\n",
        "try:\n",
        "    # Check if the VCF file has already been downloaded\n",
        "    if not os.path.exists(vcf_path):\n",
        "        print(\"VCF file not found, downloading...\")\n",
        "        !wget -q -O {vcf_gz_path} {vcf_url}\n",
        "\n",
        "        # Unzip VCF file if the download was successful\n",
        "        if os.path.exists(vcf_gz_path):\n",
        "            print(\"Unzipping VCF file...\")\n",
        "            !gunzip {vcf_gz_path}\n",
        "        else:\n",
        "            raise FileNotFoundError(f\"Downloaded file {vcf_gz_path} was not found.\")\n",
        "\n",
        "    else:\n",
        "        print(\"VCF file already exists, skipping download and extraction.\")\n",
        "\n",
        "except Exception as e:\n",
        "    print(f\"An error occurred: {e}\")"
      ]
    },
    {
      "cell_type": "code",
      "execution_count": null,
      "metadata": {
        "id": "dD77IAc2MH_E"
      },
      "outputs": [],
      "source": [
        "# Run VEP with the specified cache directory using Perl command directly\n",
        "!perl ensembl-vep/vep -i /content/annotated_output.vcf --cache --dir /root/.vep --species homo_sapiens --assembly GRCh38"
      ]
    },
    {
      "cell_type": "code",
      "execution_count": null,
      "metadata": {
        "id": "9bL29Ind8mhZ"
      },
      "outputs": [],
      "source": [
        "# Annotate the dataframe with the vcf data\n",
        "annotated_vcf_path = \"/content/annotated_output.vcf\"\n",
        "vcf_df = spark.read.format(\"vcf\").load(annotated_vcf_path)\n",
        "\n",
        "vcf_df.show(10)"
      ]
    },
    {
      "cell_type": "code",
      "execution_count": 15,
      "metadata": {
        "colab": {
          "base_uri": "https://localhost:8080/"
        },
        "collapsed": true,
        "id": "EW0ol9DiF2cM",
        "outputId": "ebd5942f-d4bf-4fbf-aa0e-aa3bd7c385a6"
      },
      "outputs": [
        {
          "name": "stdout",
          "output_type": "stream",
          "text": [
            "root\n",
            " |-- contigName: string (nullable = true)\n",
            " |-- start: long (nullable = true)\n",
            " |-- end: long (nullable = true)\n",
            " |-- names: array (nullable = true)\n",
            " |    |-- element: string (containsNull = true)\n",
            " |-- referenceAllele: string (nullable = true)\n",
            " |-- alternateAlleles: array (nullable = true)\n",
            " |    |-- element: string (containsNull = true)\n",
            " |-- qual: double (nullable = true)\n",
            " |-- filters: array (nullable = true)\n",
            " |    |-- element: string (containsNull = true)\n",
            " |-- splitFromMultiAllelic: boolean (nullable = true)\n",
            " |-- INFO_MEND: integer (nullable = true)\n",
            " |-- INFO_AC: array (nullable = true)\n",
            " |    |-- element: integer (containsNull = true)\n",
            " |-- INFO_CIEND: array (nullable = true)\n",
            " |    |-- element: integer (containsNull = true)\n",
            " |-- INFO_NS: integer (nullable = true)\n",
            " |-- INFO_AFR_AF: array (nullable = true)\n",
            " |    |-- element: double (containsNull = true)\n",
            " |-- INFO_VT: array (nullable = true)\n",
            " |    |-- element: string (containsNull = true)\n",
            " |-- INFO_AN: integer (nullable = true)\n",
            " |-- INFO_MULTI_ALLELIC: boolean (nullable = true)\n",
            " |-- INFO_SAS_AF: array (nullable = true)\n",
            " |    |-- element: double (containsNull = true)\n",
            " |-- INFO_CIPOS: array (nullable = true)\n",
            " |    |-- element: integer (containsNull = true)\n",
            " |-- INFO_AA: string (nullable = true)\n",
            " |-- INFO_AF: array (nullable = true)\n",
            " |    |-- element: double (containsNull = true)\n",
            " |-- INFO_EAS_AF: array (nullable = true)\n",
            " |    |-- element: double (containsNull = true)\n",
            " |-- INFO_AMR_AF: array (nullable = true)\n",
            " |    |-- element: double (containsNull = true)\n",
            " |-- INFO_DP: integer (nullable = true)\n",
            " |-- INFO_SVLEN: array (nullable = true)\n",
            " |    |-- element: integer (containsNull = true)\n",
            " |-- INFO_MLEN: integer (nullable = true)\n",
            " |-- INFO_MEINFO: array (nullable = true)\n",
            " |    |-- element: string (containsNull = true)\n",
            " |-- INFO_IMPRECISE: boolean (nullable = true)\n",
            " |-- INFO_CS: string (nullable = true)\n",
            " |-- INFO_MC: array (nullable = true)\n",
            " |    |-- element: string (containsNull = true)\n",
            " |-- INFO_END: integer (nullable = true)\n",
            " |-- INFO_MSTART: integer (nullable = true)\n",
            " |-- INFO_EUR_AF: array (nullable = true)\n",
            " |    |-- element: double (containsNull = true)\n",
            " |-- INFO_EX_TARGET: boolean (nullable = true)\n",
            " |-- INFO_TSD: string (nullable = true)\n",
            " |-- INFO_SVTYPE: string (nullable = true)\n",
            " |-- genotypes: array (nullable = true)\n",
            " |    |-- element: struct (containsNull = true)\n",
            " |    |    |-- sampleId: string (nullable = true)\n",
            " |    |    |-- phased: boolean (nullable = true)\n",
            " |    |    |-- calls: array (nullable = true)\n",
            " |    |    |    |-- element: integer (containsNull = true)\n",
            "\n"
          ]
        }
      ],
      "source": [
        "#Understand the dataset schema\n",
        "vcf_df.printSchema()"
      ]
    },
    {
      "cell_type": "code",
      "execution_count": 16,
      "metadata": {
        "colab": {
          "base_uri": "https://localhost:8080/"
        },
        "id": "8H2OTFbTF0UV",
        "outputId": "70153afa-b081-4753-a301-5309c7d92bf9"
      },
      "outputs": [
        {
          "data": {
            "text/plain": [
              "1103547"
            ]
          },
          "execution_count": 16,
          "metadata": {},
          "output_type": "execute_result"
        }
      ],
      "source": [
        "#Count rows to know the number of variants\n",
        "vcf_df.count()"
      ]
    },
    {
      "cell_type": "code",
      "execution_count": 17,
      "metadata": {
        "colab": {
          "base_uri": "https://localhost:8080/"
        },
        "id": "1YBv41A3ohq2",
        "outputId": "3d23a537-23b7-4ae2-cf70-ce1dd5b2ee94"
      },
      "outputs": [
        {
          "name": "stdout",
          "output_type": "stream",
          "text": [
            "+------------+-------+\n",
            "|     INFO_VT|  count|\n",
            "+------------+-------+\n",
            "|[SNP, INDEL]|    871|\n",
            "|       [SNP]|1059517|\n",
            "|        [SV]|    782|\n",
            "|     [INDEL]|  42377|\n",
            "+------------+-------+\n",
            "\n"
          ]
        }
      ],
      "source": [
        "# Count the number of variants by type\n",
        "variant_counts = vcf_df.groupBy(\"INFO_VT\").count()\n",
        "variant_counts.show()"
      ]
    },
    {
      "cell_type": "markdown",
      "metadata": {
        "id": "iCy7gHc7p2Io"
      },
      "source": [
        "[SNP]: 1,059,517 variants are Single Nucleotide Polymorphisms.\n",
        "\n",
        "[INDEL]: 42,377 variants are insertions or deletions.\n",
        "\n",
        "[SV]: 782 are Structural Variants.\n",
        "\n",
        "[SNP, INDEL]: 871 variants are identified as both SNPs and INDELs, which may indicate a complex variant or multiple annotations."
      ]
    },
    {
      "cell_type": "markdown",
      "metadata": {
        "id": "DExQvZV7t8LR"
      },
      "source": [
        "\n",
        "## Step 3: Annotate the VCF File with VEP\n",
        "\n",
        "We will use the Variant Effect Predictor (VEP) to annotate the VCF file, adding functional annotations to each variant.\n"
      ]
    },
    {
      "cell_type": "code",
      "execution_count": null,
      "metadata": {
        "id": "Y4ChKVo1t7qC"
      },
      "outputs": [],
      "source": [
        "# Run VEP to annotate the VCF file in offline mode\n",
        "vcf_file_path = \"ALL.chr22.phase3_shapeit2_mvncall_integrated_v5a.20130502.genotypes.vcf.gz\"\n",
        "output_file_path = \"annotated_output.vcf\"\n",
        "!cd ensembl-vep && perl vep -i $vcf_file_path -o $output_file_path --assembly GRCh38 --everything --offline\n",
        "\n",
        "# Load the annotated VCF file into Spark DataFrame\n",
        "annotated_vcf_path = \"/content/annotated_output.vcf\"\n",
        "annotated_vcf_df = spark.read.format(\"vcf\").load(annotated_vcf_path)\n",
        "\n",
        "# Free up memory by deleting the original large VCF DataFrame if no longer needed\n",
        "vcf_df = None\n",
        "\n",
        "# Show the first few rows of the annotated VCF DataFrame\n",
        "annotated_vcf_df.show(10)\n"
      ]
    },
    {
      "cell_type": "code",
      "execution_count": null,
      "metadata": {
        "id": "crw6sLEMXEOU"
      },
      "outputs": [],
      "source": [
        "#Remove compressed files to free memory\n",
        "# 1. VEP\n",
        "zip_file_path = 'ensembl-vep.zip'\n",
        "if os.path.exists(zip_file_path):\n",
        "    os.remove(zip_file_path)\n",
        "    print(f\"Deleted {zip_file_path} to free up space.\")\n",
        "\n",
        "# 2. VCF\n",
        "vcf_gz_path = '/content/annotated_output.vcf.gz'\n",
        "if os.path.exists(vcf_gz_path):\n",
        "    os.remove(vcf_gz_path)\n",
        "    print(f\"Deleted {vcf_gz_path} to free up space.\")\n",
        "\n",
        "# 3. tar.gz from VEP cache\n",
        "tar_gz_file = '/root/.vep/homo_sapiens_vep_112_GRCh38.tar.gz'\n",
        "if os.path.exists(tar_gz_file):\n",
        "    os.remove(tar_gz_file)\n",
        "    print(f\"Deleted {tar_gz_file} to free up space.\")\n"
      ]
    },
    {
      "cell_type": "markdown",
      "metadata": {
        "id": "_2sdIG_Rxd7_"
      },
      "source": [
        "\n",
        "## Step 4: Filter the Annotated Data and Perform Analysis\n",
        "\n",
        "Now that we have the annotated data, we will filter it again for the region of interest and then proceed with various analyses, such as counting variant types and analyzing allele frequencies.\n"
      ]
    },
    {
      "cell_type": "code",
      "execution_count": 19,
      "metadata": {
        "colab": {
          "base_uri": "https://localhost:8080/"
        },
        "id": "OUaCIHXqyejt",
        "outputId": "9928f337-0241-46f3-8a63-8c9d58b7b224"
      },
      "outputs": [
        {
          "name": "stdout",
          "output_type": "stream",
          "text": [
            "+----------+--------+--------+-------------+---------------+----------------+-----+-------+---------------------+---------+-------+----------+-------+-----------+-------+-------+------------------+-----------+----------+-------+------------+-----------+-----------+-------+----------+---------+-----------+--------------+-------+-------+--------+-----------+-----------+--------------+--------+-----------+--------------------+\n",
            "|contigName|   start|     end|        names|referenceAllele|alternateAlleles| qual|filters|splitFromMultiAllelic|INFO_MEND|INFO_AC|INFO_CIEND|INFO_NS|INFO_AFR_AF|INFO_VT|INFO_AN|INFO_MULTI_ALLELIC|INFO_SAS_AF|INFO_CIPOS|INFO_AA|     INFO_AF|INFO_EAS_AF|INFO_AMR_AF|INFO_DP|INFO_SVLEN|INFO_MLEN|INFO_MEINFO|INFO_IMPRECISE|INFO_CS|INFO_MC|INFO_END|INFO_MSTART|INFO_EUR_AF|INFO_EX_TARGET|INFO_TSD|INFO_SVTYPE|           genotypes|\n",
            "+----------+--------+--------+-------------+---------------+----------------+-----+-------+---------------------+---------+-------+----------+-------+-----------+-------+-------+------------------+-----------+----------+-------+------------+-----------+-----------+-------+----------+---------+-----------+--------------+-------+-------+--------+-----------+-----------+--------------+--------+-----------+--------------------+\n",
            "|        22|18800588|18800589|[rs556242841]|              C|             [G]|100.0| [PASS]|                false|     null|    [1]|      null|   2504|   [8.0E-4]|  [SNP]|   5008|             false|      [0.0]|      null|   c||||[1.99681E-4]|      [0.0]|      [0.0]|  34143|      null|     null|       null|         false|   null|   null|    null|       null|      [0.0]|         false|    null|       null|[{HG00096, true, ...|\n",
            "|        22|18800947|18800948|[rs576358730]|              C|             [T]|100.0| [PASS]|                false|     null|    [4]|      null|   2504|    [0.003]|  [SNP]|   5008|             false|      [0.0]|      null|   c||||[7.98722E-4]|      [0.0]|      [0.0]|  31765|      null|     null|       null|         false|   null|   null|    null|       null|      [0.0]|         false|    null|       null|[{HG00096, true, ...|\n",
            "|        22|18801153|18801154|[rs542117310]|              G|             [A]|100.0| [PASS]|                false|     null|    [1]|      null|   2504|      [0.0]|  [SNP]|   5008|             false|    [0.001]|      null|   g||||[1.99681E-4]|      [0.0]|      [0.0]|  34054|      null|     null|       null|         false|   null|   null|    null|       null|      [0.0]|         false|    null|       null|[{HG00096, true, ...|\n",
            "|        22|18801213|18801214|[rs555242065]|              G|             [A]|100.0| [PASS]|                false|     null|    [1]|      null|   2504|   [8.0E-4]|  [SNP]|   5008|             false|      [0.0]|      null|   g||||[1.99681E-4]|      [0.0]|      [0.0]|  28715|      null|     null|       null|         false|   null|   null|    null|       null|      [0.0]|         false|    null|       null|[{HG00096, true, ...|\n",
            "|        22|18801231|18801232|[rs572184336]|              T|             [C]|100.0| [PASS]|                false|     null|   [60]|      null|   2504|   [0.0431]|  [SNP]|   5008|             false|      [0.0]|      null|   t|||| [0.0119808]|      [0.0]|   [0.0043]|  26403|      null|     null|       null|         false|   null|   null|    null|       null|      [0.0]|         false|    null|       null|[{HG00096, true, ...|\n",
            "|        22|18801232|18801233|[rs540901189]|              C|             [T]|100.0| [PASS]|                false|     null|    [3]|      null|   2504|      [0.0]|  [SNP]|   5008|             false|      [0.0]|      null|   c||||[5.99042E-4]|      [0.0]|   [0.0014]|  26335|      null|     null|       null|         false|   null|   null|    null|       null|    [0.002]|         false|    null|       null|[{HG00096, true, ...|\n",
            "|        22|18801252|18801253| [rs77348455]|              G|             [A]|100.0| [PASS]|                false|     null| [2075]|      null|   2504|   [0.5628]|  [SNP]|   5008|             false|   [0.4039]|      null|   g||||  [0.414337]|   [0.1488]|   [0.3963]|  23062|      null|     null|       null|         false|   null|   null|    null|       null|    [0.508]|         false|    null|       null|[{HG00096, true, ...|\n",
            "|        22|18801268|18801269|  [rs3984232]|              A|             [G]|100.0| [PASS]|                false|     null|  [786]|      null|   2504|   [0.1483]|  [SNP]|   5008|             false|   [0.1268]|      null|   N||||  [0.156949]|   [0.1042]|   [0.2017]|  19955|      null|     null|       null|         false|   null|   null|    null|       null|   [0.2197]|         false|    null|       null|[{HG00096, true, ...|\n",
            "|        22|18801384|18801385|[rs543362580]|              C|             [T]|100.0| [PASS]|                false|     null|    [3]|      null|   2504|      [0.0]|  [SNP]|   5008|             false|      [0.0]|      null|   c||||[5.99042E-4]|    [0.003]|      [0.0]|  35115|      null|     null|       null|         false|   null|   null|    null|       null|      [0.0]|         false|    null|       null|[{HG00096, true, ...|\n",
            "|        22|18801400|18801401|[rs563350201]|              G|             [A]|100.0| [PASS]|                false|     null|    [1]|      null|   2504|      [0.0]|  [SNP]|   5008|             false|      [0.0]|      null|   g||||[1.99681E-4]|    [0.001]|      [0.0]|  34952|      null|     null|       null|         false|   null|   null|    null|       null|      [0.0]|         false|    null|       null|[{HG00096, true, ...|\n",
            "+----------+--------+--------+-------------+---------------+----------------+-----+-------+---------------------+---------+-------+----------+-------+-----------+-------+-------+------------------+-----------+----------+-------+------------+-----------+-----------+-------+----------+---------+-----------+--------------+-------+-------+--------+-----------+-----------+--------------+--------+-----------+--------------------+\n",
            "only showing top 10 rows\n",
            "\n"
          ]
        }
      ],
      "source": [
        "# Filter the annotated DataFrame for variants within the DiGeorge Syndrome region on chromosome 22\n",
        "df_22q11_annotated = annotated_vcf_df.filter(\n",
        "    (annotated_vcf_df.start >= 18800000) &\n",
        "    (annotated_vcf_df.start <= 21400000)\n",
        ")\n",
        "\n",
        "# Show the first few rows of the filtered annotated DataFrame\n",
        "df_22q11_annotated.show(10)\n"
      ]
    },
    {
      "cell_type": "code",
      "execution_count": null,
      "metadata": {
        "id": "ZvQQ7vTcTbML"
      },
      "outputs": [],
      "source": [
        "#Delete variables to save space\n",
        "del annotated_vcf_df"
      ]
    },
    {
      "cell_type": "code",
      "execution_count": 20,
      "metadata": {
        "colab": {
          "base_uri": "https://localhost:8080/"
        },
        "id": "eX04etmB175u",
        "outputId": "d8c09734-f7c4-4955-8f68-a769c2cd4787"
      },
      "outputs": [
        {
          "name": "stdout",
          "output_type": "stream",
          "text": [
            "+------------+-----+\n",
            "|     INFO_VT|count|\n",
            "+------------+-----+\n",
            "|[SNP, INDEL]|   52|\n",
            "|       [SNP]|70262|\n",
            "|        [SV]|   53|\n",
            "|     [INDEL]| 2766|\n",
            "+------------+-----+\n",
            "\n",
            "+-------+-------------------+\n",
            "|summary|         AlleleFreq|\n",
            "+-------+-------------------+\n",
            "|  count|              74493|\n",
            "|   mean|0.03754631860549758|\n",
            "| stddev|0.13305905668754203|\n",
            "|    min|                0.0|\n",
            "|    max|                1.0|\n",
            "+-------+-------------------+\n",
            "\n"
          ]
        }
      ],
      "source": [
        "# Group by variant type and count the occurrences\n",
        "df_22q11_annotated.groupBy(\"INFO_VT\").count().show()\n",
        "\n",
        "# Explode the 'alternateAlleles' column to create a row for each alternate allele\n",
        "df_22q11_annotated = df_22q11_annotated.withColumn(\"alt\", explode(col(\"alternateAlleles\")))\n",
        "\n",
        "# Explode the 'INFO_AF' column and rename the exploded column to 'AlleleFreq'\n",
        "df_22q11_annotated = df_22q11_annotated.withColumn(\"AlleleFreq\", explode(col(\"INFO_AF\")))\n",
        "\n",
        "# Describe allele frequencies\n",
        "df_22q11_annotated.select(\"AlleleFreq\").describe().show()"
      ]
    },
    {
      "cell_type": "markdown",
      "metadata": {
        "id": "Pca0S7OJr5ou"
      },
      "source": [
        "\n",
        "## Step 5: Visualize the Allele Frequency Distribution\n",
        "\n",
        "We will visualize the distribution of allele frequencies within the DiGeorge Syndrome region using a histogram.\n"
      ]
    },
    {
      "cell_type": "code",
      "execution_count": 21,
      "metadata": {
        "colab": {
          "base_uri": "https://localhost:8080/"
        },
        "id": "KRMuM3rZqwbL",
        "outputId": "e8058369-881c-4eae-9d77-a49207244b48"
      },
      "outputs": [
        {
          "name": "stdout",
          "output_type": "stream",
          "text": [
            "+------------+-----+\n",
            "|     INFO_VT|count|\n",
            "+------------+-----+\n",
            "|[SNP, INDEL]|  213|\n",
            "|       [SNP]|71081|\n",
            "|        [SV]|   68|\n",
            "|     [INDEL]| 3131|\n",
            "+------------+-----+\n",
            "\n"
          ]
        }
      ],
      "source": [
        "# Group by variant type and count the occurrences\n",
        "df_22q11_annotated.groupBy(\"INFO_VT\").count().show()"
      ]
    },
    {
      "cell_type": "code",
      "execution_count": 22,
      "metadata": {
        "id": "n2bEBj4HaHgB"
      },
      "outputs": [],
      "source": [
        "from pyspark.sql.functions import explode, col\n",
        "\n",
        "# Explode the 'alternateAlleles' column to create a row for each alternate allele\n",
        "df_22q11_annotated = df_22q11_annotated.withColumn(\"alt\", explode(col(\"alternateAlleles\")))"
      ]
    },
    {
      "cell_type": "code",
      "execution_count": 23,
      "metadata": {
        "colab": {
          "base_uri": "https://localhost:8080/"
        },
        "id": "r-E6g3v0YrFf",
        "outputId": "e88e5f29-e004-4bfe-e081-984b64436e3d"
      },
      "outputs": [
        {
          "name": "stdout",
          "output_type": "stream",
          "text": [
            "+-------+--------------------+\n",
            "|summary|          AlleleFreq|\n",
            "+-------+--------------------+\n",
            "|  count|               81993|\n",
            "|   mean|0.041034968677512815|\n",
            "| stddev| 0.13676641935893077|\n",
            "|    min|                 0.0|\n",
            "|    max|                 1.0|\n",
            "+-------+--------------------+\n",
            "\n"
          ]
        }
      ],
      "source": [
        "# Describe allele frequencies\n",
        "# Explode the 'INFO_AF' column and rename the exploded column to 'AlleleFreq'\n",
        "df_22q11_annotated = df_22q11_annotated.withColumn(\"AlleleFreq\", explode(col(\"INFO_AF\")))\n",
        "\n",
        "#Lets describe the allele frequency\n",
        "df_22q11_annotated.select(\"AlleleFreq\").describe().show()"
      ]
    },
    {
      "cell_type": "markdown",
      "metadata": {
        "id": "fJHMfkGx25eH"
      },
      "source": [
        "- **Variant Distribution**: The majority of variants in the DiGeorge Syndrome region are SNPs."
      ]
    },
    {
      "cell_type": "code",
      "execution_count": 24,
      "metadata": {
        "colab": {
          "base_uri": "https://localhost:8080/",
          "height": 564
        },
        "id": "4Oz5_jQ5rhLx",
        "outputId": "181b673d-f9b1-4bb9-c10e-c0fd2af040a5"
      },
      "outputs": [
        {
          "data": {
            "image/png": "[encoded data removed]",
            "text/plain": [
              "<Figure size 1000x600 with 1 Axes>"
            ]
          },
          "metadata": {},
          "output_type": "display_data"
        }
      ],
      "source": [
        "# Convert the DataFrame to a Pandas DataFrame for easier plotting\n",
        "allele_freqs = df_22q11_annotated.select(\"AlleleFreq\").toPandas()\n",
        "\n",
        "# Plot a histogram of allele frequencies\n",
        "plt.figure(figsize=(10, 6))\n",
        "plt.hist(allele_freqs, bins=30, density=True, alpha=0.5, color='blue')\n",
        "plt.title('Histogram of Allele Frequencies for Rare Variants')\n",
        "plt.xlabel('Allele Frequency')\n",
        "plt.ylabel('Density')\n",
        "plt.show()"
      ]
    },
    {
      "cell_type": "markdown",
      "metadata": {
        "id": "LrSdaKu_saKG"
      },
      "source": [
        "High Peak at Low Frequencies: The tall peak near 0 indicates that the majority of variants have very low allele frequencies. These could represent rare variants that might have more significant impacts on individuals.\n",
        "\n",
        "Sparse High-Frequency Variants: There are very few variants with higher allele frequencies, suggesting that most of the genetic variation in this region consists of rare variants."
      ]
    },
    {
      "cell_type": "markdown",
      "metadata": {
        "id": "c9lSd6IgtX8z"
      },
      "source": [
        "## Step 6: Focus on Rare Variants"
      ]
    },
    {
      "cell_type": "code",
      "execution_count": 25,
      "metadata": {
        "colab": {
          "base_uri": "https://localhost:8080/"
        },
        "id": "81NHRrlFtZTQ",
        "outputId": "137e9bc9-d538-4b40-899c-476f6b796c3e"
      },
      "outputs": [
        {
          "name": "stdout",
          "output_type": "stream",
          "text": [
            "+----------+--------+--------+-------------+---------------+----------------+-----+-------+---------------------+---------+-------+----------+-------+-----------+-------+-------+------------------+-----------+----------+-------+------------+-----------+-----------+-------+----------+---------+-----------+--------------+-------+-------+--------+-----------+-----------+--------------+--------+-----------+--------------------+---+----------+\n",
            "|contigName|   start|     end|        names|referenceAllele|alternateAlleles| qual|filters|splitFromMultiAllelic|INFO_MEND|INFO_AC|INFO_CIEND|INFO_NS|INFO_AFR_AF|INFO_VT|INFO_AN|INFO_MULTI_ALLELIC|INFO_SAS_AF|INFO_CIPOS|INFO_AA|     INFO_AF|INFO_EAS_AF|INFO_AMR_AF|INFO_DP|INFO_SVLEN|INFO_MLEN|INFO_MEINFO|INFO_IMPRECISE|INFO_CS|INFO_MC|INFO_END|INFO_MSTART|INFO_EUR_AF|INFO_EX_TARGET|INFO_TSD|INFO_SVTYPE|           genotypes|alt|AlleleFreq|\n",
            "+----------+--------+--------+-------------+---------------+----------------+-----+-------+---------------------+---------+-------+----------+-------+-----------+-------+-------+------------------+-----------+----------+-------+------------+-----------+-----------+-------+----------+---------+-----------+--------------+-------+-------+--------+-----------+-----------+--------------+--------+-----------+--------------------+---+----------+\n",
            "|        22|18800588|18800589|[rs556242841]|              C|             [G]|100.0| [PASS]|                false|     null|    [1]|      null|   2504|   [8.0E-4]|  [SNP]|   5008|             false|      [0.0]|      null|   c||||[1.99681E-4]|      [0.0]|      [0.0]|  34143|      null|     null|       null|         false|   null|   null|    null|       null|      [0.0]|         false|    null|       null|[{HG00096, true, ...|  G|1.99681E-4|\n",
            "|        22|18800947|18800948|[rs576358730]|              C|             [T]|100.0| [PASS]|                false|     null|    [4]|      null|   2504|    [0.003]|  [SNP]|   5008|             false|      [0.0]|      null|   c||||[7.98722E-4]|      [0.0]|      [0.0]|  31765|      null|     null|       null|         false|   null|   null|    null|       null|      [0.0]|         false|    null|       null|[{HG00096, true, ...|  T|7.98722E-4|\n",
            "|        22|18801153|18801154|[rs542117310]|              G|             [A]|100.0| [PASS]|                false|     null|    [1]|      null|   2504|      [0.0]|  [SNP]|   5008|             false|    [0.001]|      null|   g||||[1.99681E-4]|      [0.0]|      [0.0]|  34054|      null|     null|       null|         false|   null|   null|    null|       null|      [0.0]|         false|    null|       null|[{HG00096, true, ...|  A|1.99681E-4|\n",
            "|        22|18801213|18801214|[rs555242065]|              G|             [A]|100.0| [PASS]|                false|     null|    [1]|      null|   2504|   [8.0E-4]|  [SNP]|   5008|             false|      [0.0]|      null|   g||||[1.99681E-4]|      [0.0]|      [0.0]|  28715|      null|     null|       null|         false|   null|   null|    null|       null|      [0.0]|         false|    null|       null|[{HG00096, true, ...|  A|1.99681E-4|\n",
            "|        22|18801231|18801232|[rs572184336]|              T|             [C]|100.0| [PASS]|                false|     null|   [60]|      null|   2504|   [0.0431]|  [SNP]|   5008|             false|      [0.0]|      null|   t|||| [0.0119808]|      [0.0]|   [0.0043]|  26403|      null|     null|       null|         false|   null|   null|    null|       null|      [0.0]|         false|    null|       null|[{HG00096, true, ...|  C| 0.0119808|\n",
            "|        22|18801232|18801233|[rs540901189]|              C|             [T]|100.0| [PASS]|                false|     null|    [3]|      null|   2504|      [0.0]|  [SNP]|   5008|             false|      [0.0]|      null|   c||||[5.99042E-4]|      [0.0]|   [0.0014]|  26335|      null|     null|       null|         false|   null|   null|    null|       null|    [0.002]|         false|    null|       null|[{HG00096, true, ...|  T|5.99042E-4|\n",
            "|        22|18801384|18801385|[rs543362580]|              C|             [T]|100.0| [PASS]|                false|     null|    [3]|      null|   2504|      [0.0]|  [SNP]|   5008|             false|      [0.0]|      null|   c||||[5.99042E-4]|    [0.003]|      [0.0]|  35115|      null|     null|       null|         false|   null|   null|    null|       null|      [0.0]|         false|    null|       null|[{HG00096, true, ...|  T|5.99042E-4|\n",
            "|        22|18801400|18801401|[rs563350201]|              G|             [A]|100.0| [PASS]|                false|     null|    [1]|      null|   2504|      [0.0]|  [SNP]|   5008|             false|      [0.0]|      null|   g||||[1.99681E-4]|    [0.001]|      [0.0]|  34952|      null|     null|       null|         false|   null|   null|    null|       null|      [0.0]|         false|    null|       null|[{HG00096, true, ...|  A|1.99681E-4|\n",
            "|        22|18801442|18801443|[rs529524366]|              G|             [A]|100.0| [PASS]|                false|     null|    [2]|      null|   2504|   [0.0015]|  [SNP]|   5008|             false|      [0.0]|      null|   g||||[3.99361E-4]|      [0.0]|      [0.0]|  30272|      null|     null|       null|         false|   null|   null|    null|       null|      [0.0]|         false|    null|       null|[{HG00096, true, ...|  A|3.99361E-4|\n",
            "|        22|18801474|18801475|[rs549674945]|              T|             [C]|100.0| [PASS]|                false|     null|    [1]|      null|   2504|      [0.0]|  [SNP]|   5008|             false|    [0.001]|      null|   t||||[1.99681E-4]|      [0.0]|      [0.0]|  20534|      null|     null|       null|         false|   null|   null|    null|       null|      [0.0]|         false|    null|       null|[{HG00096, true, ...|  C|1.99681E-4|\n",
            "+----------+--------+--------+-------------+---------------+----------------+-----+-------+---------------------+---------+-------+----------+-------+-----------+-------+-------+------------------+-----------+----------+-------+------------+-----------+-----------+-------+----------+---------+-----------+--------------+-------+-------+--------+-----------+-----------+--------------+--------+-----------+--------------------+---+----------+\n",
            "only showing top 10 rows\n",
            "\n"
          ]
        }
      ],
      "source": [
        "# Filter the DataFrame to obtain only rare variants (allele frequency < 0.05).\n",
        "# This is important because rare variants often have a higher impact on genetic diseases.\n",
        "rare_variants_df = df_22q11_annotated.filter(df_22q11_annotated[\"AlleleFreq\"] < 0.05)\n",
        "\n",
        "# Show the first 10 rows of the filtered DataFrame to verify that the filter was applied correctly.\n",
        "rare_variants_df.show(10)"
      ]
    },
    {
      "cell_type": "code",
      "execution_count": 27,
      "metadata": {
        "colab": {
          "base_uri": "https://localhost:8080/"
        },
        "id": "e1m8SQ25tdzP",
        "outputId": "1336b5df-92e1-4186-ba06-d3feab506cbf"
      },
      "outputs": [
        {
          "name": "stdout",
          "output_type": "stream",
          "text": [
            "+----------+-----+\n",
            "|   INFO_CS|count|\n",
            "+----------+-----+\n",
            "|      null|71985|\n",
            "| DUP_uwash|   22|\n",
            "| DEL_union|   30|\n",
            "|    DUP_gs|   67|\n",
            "|  L1_umary|    1|\n",
            "| ALU_umary|    2|\n",
            "| SVA_umary|    1|\n",
            "|NUMT_umich|    1|\n",
            "+----------+-----+\n",
            "\n"
          ]
        }
      ],
      "source": [
        "# Check if the consequence type column exists and group by it\n",
        "rare_variants_df.groupBy(\"INFO_CS\").count().show()"
      ]
    },
    {
      "cell_type": "code",
      "execution_count": 28,
      "metadata": {
        "colab": {
          "base_uri": "https://localhost:8080/",
          "height": 701
        },
        "id": "LcouydJ8tfqz",
        "outputId": "ad33cad6-3202-4657-9d7f-81b1cf7295f8"
      },
      "outputs": [
        {
          "data": {
            "image/png": "[encoded data removed]",
            "text/plain": [
              "<Figure size 1200x700 with 1 Axes>"
            ]
          },
          "metadata": {},
          "output_type": "display_data"
        }
      ],
      "source": [
        "if \"INFO_CS\" in rare_variants_df.columns:\n",
        "    consequence_counts = rare_variants_df.groupBy(\"INFO_CS\").count().orderBy(\"count\", ascending=False)\n",
        "    # Drop rows with missing consequence types before extracting labels\n",
        "    consequence_counts = consequence_counts.dropna(subset=[\"INFO_CS\"])  # Add this line to drop rows with missing values\n",
        "    labels, values = zip(*consequence_counts.collect())\n",
        "\n",
        "    plt.figure(figsize=(12, 7))\n",
        "    plt.bar(labels, values, color='green')\n",
        "    plt.title('Distribution of Consequence Types for Rare Variants in DiGeorge Syndrome Region')\n",
        "    plt.xlabel('Consequence Type')\n",
        "    plt.ylabel('Count')\n",
        "    plt.xticks(rotation=45, ha=\"right\")\n",
        "    plt.show()\n",
        "\n",
        "    #Free memory\n",
        "    consequence_counts = None\n",
        "    labels = None\n",
        "    values = None"
      ]
    },
    {
      "cell_type": "code",
      "execution_count": 31,
      "metadata": {
        "colab": {
          "base_uri": "https://localhost:8080/",
          "height": 564
        },
        "id": "m-RXqX5VUvdD",
        "outputId": "670f8efe-2901-4b2e-8659-2a470561650e"
      },
      "outputs": [
        {
          "data": {
            "image/png": "[encoded data removed]",
            "text/plain": [
              "<Figure size 1200x600 with 1 Axes>"
            ]
          },
          "metadata": {},
          "output_type": "display_data"
        }
      ],
      "source": [
        "pos, allele_freqs = zip(*rare_variants_df.select(\"start\", \"AlleleFreq\").sample(False, 0.01).collect())\n",
        "\n",
        "plt.figure(figsize=(12, 6))\n",
        "plt.scatter(pos, allele_freqs, alpha=0.5)\n",
        "plt.title('Scatter Plot of Variants along Chromosome 22')\n",
        "plt.xlabel('Position on Chromosome 22')\n",
        "plt.ylabel('Allele Frequency')\n",
        "plt.show()"
      ]
    }
  ],
  "metadata": {
    "colab": {
      "collapsed_sections": [
        "mPWsqBA03IpF",
        "2dVBZN0l3OT7",
        "DExQvZV7t8LR",
        "_2sdIG_Rxd7_",
        "Pca0S7OJr5ou",
        "c9lSd6IgtX8z"
      ],
      "provenance": []
    },
    "kernelspec": {
      "display_name": "Python 3",
      "name": "python3"
    },
    "language_info": {
      "name": "python"
    }
  },
  "nbformat": 4,
  "nbformat_minor": 0
}
