{
  "cells": [
    {
      "cell_type": "markdown",
      "metadata": {
        "id": "nD2Lc6L8HYBC"
      },
      "source": [
        "\n",
        "# Analysis of the DiGeorge Syndrome Region in Chromosome 22\n",
        "\n",
        "This notebook focuses on the analysis of genomic variants within the DiGeorge Syndrome region of chromosome 22.\n",
        "We will first annotate the VCF file using VEP (Variant Effect Predictor) to enrich our data with functional annotations.\n",
        "Then, we'll filter the variants to focus on the region of interest and perform various analyses to understand the impact of these variants."
      ]
    },
    {
      "cell_type": "markdown",
      "metadata": {
        "id": "EyHD9xZbv0PC"
      },
      "source": [
        "\n",
        "## Step 1: Setup the Environment\n",
        "\n",
        "We will begin by setting up the necessary environment for Spark and other tools, and then load the VCF file that contains the genomic data.\n"
      ]
    },
    {
      "cell_type": "markdown",
      "metadata": {
        "id": "mPWsqBA03IpF"
      },
      "source": [
        "### Step 1.1: Install Dependencies\n"
      ]
    },
    {
      "cell_type": "code",
      "execution_count": 53,
      "metadata": {
        "collapsed": true,
        "id": "EffGOKiYpTUM"
      },
      "outputs": [],
      "source": [
        "#!pip install colorama executing beautifulsoup4 requests"
      ]
    },
    {
      "cell_type": "code",
      "execution_count": 54,
      "metadata": {
        "colab": {
          "base_uri": "https://localhost:8080/"
        },
        "collapsed": true,
        "id": "Z8z3YERJv7G6",
        "outputId": "810b0275-4ad2-4e15-e07c-cb851f200673"
      },
      "outputs": [
        {
          "output_type": "stream",
          "name": "stdout",
          "text": [
            "Requirement already satisfied: pyspark==3.3.2 in /usr/local/lib/python3.10/dist-packages (3.3.2)\n",
            "Requirement already satisfied: py4j==0.10.9.5 in /usr/local/lib/python3.10/dist-packages (from pyspark==3.3.2) (0.10.9.5)\n"
          ]
        }
      ],
      "source": [
        "# Import necessary libraries\n",
        "import os\n",
        "import matplotlib.pyplot as plt\n",
        "\n",
        "# Install pyspark 3.3.2\n",
        "!pip install pyspark==3.3.2\n",
        "from pyspark.sql.functions import explode, col\n",
        "\n",
        "# Set up the environment for Spark and other necessary tools\n",
        "# Install Java 11 (compatible with Spark 3.3.2)\n",
        "!apt-get install openjdk-11-jdk-headless -qq > /dev/null\n",
        "\n",
        "# Configure Spark environment variables\n",
        "os.environ[\"JAVA_HOME\"] = \"/usr/lib/jvm/java-11-openjdk-amd64\"\n",
        "os.environ[\"SPARK_HOME\"] = \"/usr/local/lib/python3.10/dist-packages/pyspark\"\n"
      ]
    },
    {
      "cell_type": "code",
      "source": [
        "# Download libraries from Hadoop and AWS\n",
        "!wget -q https://repo1.maven.org/maven2/org/apache/hadoop/hadoop-aws/3.3.1/hadoop-aws-3.3.1.jar\n",
        "!wget -q https://repo1.maven.org/maven2/com/amazonaws/aws-java-sdk-bundle/1.12.374/aws-java-sdk-bundle-1.12.374.jar\n",
        "\n",
        "# Move libraries to Spark directory\n",
        "!mv hadoop-aws-3.3.1.jar $SPARK_HOME/jars/\n",
        "!mv aws-java-sdk-bundle-1.12.374.jar $SPARK_HOME/jars/\n"
      ],
      "metadata": {
        "id": "ndqsB9U5UNB5"
      },
      "execution_count": 55,
      "outputs": []
    },
    {
      "cell_type": "markdown",
      "source": [
        "#### BioPerl: Tools for Bioinformatics in Perl\n",
        "\n",
        "**BioPerl** is a collection of Perl modules designed to facilitate the development of bioinformatics applications. These modules provide tools for common tasks in biological data processing, such as:\n",
        "\n",
        "- **Sequence Manipulation**: Reading, writing, and converting between different sequence formats (FASTA, GenBank, EMBL, etc.).\n",
        "- **Sequence Analysis**: Performing alignments, pattern searches, and handling annotations.\n",
        "- **Access to Biological Databases**: Interacting with public databases like GenBank, SwissProt, and PDB, making it easier to download and process biological data.\n",
        "- **Structure Handling**: Support for handling protein and nucleic acid structures."
      ],
      "metadata": {
        "id": "Vhrpw9k1W6vn"
      }
    },
    {
      "cell_type": "code",
      "source": [
        "# Install Perl and necessary dependencies\n",
        "!apt-get update\n",
        "!apt-get install -y libxml2-dev libexpat1-dev libssl-dev libgd-dev libncurses5-dev zlib1g-dev libbz2-dev \\\n",
        "liblzma-dev libmysqlclient-dev libcurl4-openssl-dev build-essential\n",
        "\n",
        "# Install cpanminus and BioPerl\n",
        "!apt-get install -y cpanminus\n",
        "!cpanm Bio::Perl"
      ],
      "metadata": {
        "colab": {
          "base_uri": "https://localhost:8080/"
        },
        "collapsed": true,
        "id": "1nMhBqOiUP2-",
        "outputId": "9ab88f8d-948e-4132-a966-2a83058c5416"
      },
      "execution_count": 56,
      "outputs": [
        {
          "output_type": "stream",
          "name": "stdout",
          "text": [
            "Hit:1 http://security.ubuntu.com/ubuntu jammy-security InRelease\n",
            "Hit:2 http://archive.ubuntu.com/ubuntu jammy InRelease\n",
            "Hit:3 http://archive.ubuntu.com/ubuntu jammy-updates InRelease\n",
            "Hit:4 http://archive.ubuntu.com/ubuntu jammy-backports InRelease\n",
            "Hit:5 https://cloud.r-project.org/bin/linux/ubuntu jammy-cran40/ InRelease\n",
            "Hit:6 https://developer.download.nvidia.com/compute/cuda/repos/ubuntu2204/x86_64  InRelease\n",
            "Ign:7 https://r2u.stat.illinois.edu/ubuntu jammy InRelease\n",
            "Hit:8 https://ppa.launchpadcontent.net/deadsnakes/ppa/ubuntu jammy InRelease\n",
            "Hit:9 https://ppa.launchpadcontent.net/graphics-drivers/ppa/ubuntu jammy InRelease\n",
            "Hit:10 https://ppa.launchpadcontent.net/ubuntugis/ppa/ubuntu jammy InRelease\n",
            "Hit:11 https://r2u.stat.illinois.edu/ubuntu jammy Release\n",
            "Reading package lists... Done\n",
            "W: Skipping acquire of configured file 'main/source/Sources' as repository 'https://r2u.stat.illinois.edu/ubuntu jammy InRelease' does not seem to provide it (sources.list entry misspelt?)\n",
            "Reading package lists... Done\n",
            "Building dependency tree... Done\n",
            "Reading state information... Done\n",
            "build-essential is already the newest version (12.9ubuntu3).\n",
            "libbz2-dev is already the newest version (1.0.8-5build1).\n",
            "libgd-dev is already the newest version (2.3.0-2ubuntu2).\n",
            "liblzma-dev is already the newest version (5.2.5-2ubuntu1).\n",
            "libcurl4-openssl-dev is already the newest version (7.81.0-1ubuntu1.17).\n",
            "libexpat1-dev is already the newest version (2.4.7-1ubuntu0.3).\n",
            "libmysqlclient-dev is already the newest version (8.0.39-0ubuntu0.22.04.1).\n",
            "libncurses5-dev is already the newest version (6.3-2ubuntu0.1).\n",
            "libssl-dev is already the newest version (3.0.2-0ubuntu1.17).\n",
            "libxml2-dev is already the newest version (2.9.13+dfsg-1ubuntu0.4).\n",
            "zlib1g-dev is already the newest version (1:1.2.11.dfsg-2ubuntu9.2).\n",
            "0 upgraded, 0 newly installed, 0 to remove and 51 not upgraded.\n",
            "Reading package lists... Done\n",
            "Building dependency tree... Done\n",
            "Reading state information... Done\n",
            "cpanminus is already the newest version (1.7045-1).\n",
            "0 upgraded, 0 newly installed, 0 to remove and 51 not upgraded.\n",
            "Bio::Perl is up to date. (1.7.4)\n"
          ]
        }
      ]
    },
    {
      "cell_type": "markdown",
      "metadata": {
        "id": "2dVBZN0l3OT7"
      },
      "source": [
        "### Step 1.2: Configure Spark\n"
      ]
    },
    {
      "cell_type": "code",
      "execution_count": 57,
      "metadata": {
        "colab": {
          "base_uri": "https://localhost:8080/"
        },
        "id": "2NQjnMai3QKx",
        "outputId": "9c15c61c-2192-4b8e-d538-dfbd3381dc23"
      },
      "outputs": [
        {
          "output_type": "stream",
          "name": "stdout",
          "text": [
            "Spark Session created: <pyspark.sql.session.SparkSession object at 0x7d0c7c3dc6d0>\n",
            "Spark Version: 3.3.2\n",
            "Spark App Name: 1000Genomes\n",
            "Spark Master: local[*]\n"
          ]
        }
      ],
      "source": [
        "from pyspark.sql import SparkSession\n",
        "# Initiate Spark Session with detailed configuration\n",
        "spark = SparkSession.builder \\\n",
        "    .appName(\"1000Genomes\") \\\n",
        "    .config(\"spark.jars.packages\",\n",
        "            \"org.apache.hadoop:hadoop-aws:3.3.6,\"\n",
        "            \"com.amazonaws:aws-java-sdk-bundle:1.12.565,\"\n",
        "            \"io.projectglow:glow-spark3_2.12:1.1.1\") \\\n",
        "    .config(\"spark.driver.memory\", \"16g\") \\\n",
        "    .config(\"spark.executor.memory\", \"16g\") \\\n",
        "    .getOrCreate()\n",
        "\n",
        "# Verify Spark session\n",
        "print(\"Spark Session created:\", spark)\n",
        "print(\"Spark Version:\", spark.version)\n",
        "print(\"Spark App Name:\", spark.sparkContext.appName)\n",
        "print(\"Spark Master:\", spark.sparkContext.master)"
      ]
    },
    {
      "cell_type": "markdown",
      "source": [
        "\n",
        "The Variant Effect Predictor (VEP) is a powerful tool provided by Ensembl that allows users to analyze the effects of genetic variants on genes, transcripts, and protein sequences. It is commonly used in bioinformatics to annotate genetic variants, predicting their impact on the function of genes."
      ],
      "metadata": {
        "id": "ajl0mjKmSsMS"
      }
    },
    {
      "cell_type": "markdown",
      "metadata": {
        "id": "JhM_csxaoY31"
      },
      "source": [
        "\n",
        "## Step 2: Load the VCF Data\n",
        "\n",
        "We will load the VCF file that contains genomic variants and filter it to focus on the DiGeorge Syndrome region in chromosome 22.\n"
      ]
    },
    {
      "cell_type": "code",
      "execution_count": 63,
      "metadata": {
        "id": "Xi0cI2qUCcm_",
        "colab": {
          "base_uri": "https://localhost:8080/"
        },
        "outputId": "cfae14d0-df90-4886-dc9a-22cfdb6d4ebe"
      },
      "outputs": [
        {
          "output_type": "stream",
          "name": "stdout",
          "text": [
            "VCF file already exists, skipping download and extraction.\n"
          ]
        }
      ],
      "source": [
        "# Define the file paths\n",
        "vcf_url = \"https://ftp-trace.ncbi.nih.gov/1000genomes/ftp/release/20130502/ALL.chr22.phase3_shapeit2_mvncall_integrated_v5a.20130502.genotypes.vcf.gz\"\n",
        "vcf_gz_path = \"/content/output.vcf.gz\"\n",
        "vcf_path = \"/content/output.vcf\"\n",
        "\n",
        "try:\n",
        "    # Check if the VCF file has already been downloaded\n",
        "    if not os.path.exists(vcf_path):\n",
        "        print(\"VCF file not found, downloading...\")\n",
        "        !wget -q -O {vcf_gz_path} {vcf_url}\n",
        "\n",
        "        # Unzip VCF file if the download was successful\n",
        "        if os.path.exists(vcf_gz_path):\n",
        "            print(\"Unzipping VCF file...\")\n",
        "            !gunzip {vcf_gz_path}\n",
        "        else:\n",
        "            raise FileNotFoundError(f\"Downloaded file {vcf_gz_path} was not found.\")\n",
        "\n",
        "    else:\n",
        "        print(\"VCF file already exists, skipping download and extraction.\")\n",
        "\n",
        "except Exception as e:\n",
        "    print(f\"An error occurred: {e}\")"
      ]
    },
    {
      "cell_type": "code",
      "execution_count": 89,
      "metadata": {
        "id": "9bL29Ind8mhZ",
        "colab": {
          "base_uri": "https://localhost:8080/"
        },
        "outputId": "2fd36a07-0f3a-499f-c450-4d9c76688b75"
      },
      "outputs": [
        {
          "output_type": "stream",
          "name": "stdout",
          "text": [
            "+----------+--------+--------+--------------------+---------------+--------------------+-----+-------+---------------------+---------+----------------+----------+-------+--------------------+-------+-------+------------------+--------------------+----------+-------+--------------------+--------------------+--------------------+-------+----------+---------+-----------+--------------+-------+-------+--------+-----------+--------------------+--------------+--------+-----------+--------------------+\n",
            "|contigName|   start|     end|               names|referenceAllele|    alternateAlleles| qual|filters|splitFromMultiAllelic|INFO_MEND|         INFO_AC|INFO_CIEND|INFO_NS|         INFO_AFR_AF|INFO_VT|INFO_AN|INFO_MULTI_ALLELIC|         INFO_SAS_AF|INFO_CIPOS|INFO_AA|             INFO_AF|         INFO_EAS_AF|         INFO_AMR_AF|INFO_DP|INFO_SVLEN|INFO_MLEN|INFO_MEINFO|INFO_IMPRECISE|INFO_CS|INFO_MC|INFO_END|INFO_MSTART|         INFO_EUR_AF|INFO_EX_TARGET|INFO_TSD|INFO_SVTYPE|           genotypes|\n",
            "+----------+--------+--------+--------------------+---------------+--------------------+-----+-------+---------------------+---------+----------------+----------+-------+--------------------+-------+-------+------------------+--------------------+----------+-------+--------------------+--------------------+--------------------+-------+----------+---------+-----------+--------------+-------+-------+--------+-----------+--------------------+--------------+--------+-----------+--------------------+\n",
            "|        22|16050074|16050075|       [rs587697622]|              A|                 [G]|100.0| [PASS]|                false|     null|             [1]|      null|   2504|               [0.0]|  [SNP]|   5008|             false|             [0.001]|      null|   .||||        [1.99681E-4]|               [0.0]|               [0.0]|   8012|      null|     null|       null|         false|   null|   null|    null|       null|               [0.0]|         false|    null|       null|[{HG00096, true, ...|\n",
            "|        22|16050114|16050115|       [rs587755077]|              G|                 [A]|100.0| [PASS]|                false|     null|            [32]|      null|   2504|            [0.0234]|  [SNP]|   5008|             false|               [0.0]|      null|   .||||        [0.00638978]|               [0.0]|            [0.0014]|  11468|      null|     null|       null|         false|   null|   null|    null|       null|               [0.0]|         false|    null|       null|[{HG00096, true, ...|\n",
            "|        22|16050212|16050213|       [rs587654921]|              C|                 [T]|100.0| [PASS]|                false|     null|            [38]|      null|   2504|            [0.0272]|  [SNP]|   5008|             false|               [0.0]|      null|   .||||        [0.00758786]|               [0.0]|            [0.0014]|  15092|      null|     null|       null|         false|   null|   null|    null|       null|             [0.001]|         false|    null|       null|[{HG00096, true, ...|\n",
            "|        22|16050318|16050319|       [rs587712275]|              C|                 [T]|100.0| [PASS]|                false|     null|             [1]|      null|   2504|               [0.0]|  [SNP]|   5008|             false|               [0.0]|      null|   .||||        [1.99681E-4]|               [0.0]|            [0.0014]|  22609|      null|     null|       null|         false|   null|   null|    null|       null|               [0.0]|         false|    null|       null|[{HG00096, true, ...|\n",
            "|        22|16050526|16050527|       [rs587769434]|              C|                 [A]|100.0| [PASS]|                false|     null|             [1]|      null|   2504|               [0.0]|  [SNP]|   5008|             false|               [0.0]|      null|   .||||        [1.99681E-4]|               [0.0]|               [0.0]|  23591|      null|     null|       null|         false|   null|   null|    null|       null|             [0.001]|         false|    null|       null|[{HG00096, true, ...|\n",
            "|        22|16050567|16050568|       [rs587638893]|              C|                 [A]|100.0| [PASS]|                false|     null|             [2]|      null|   2504|               [0.0]|  [SNP]|   5008|             false|               [0.0]|      null|   .||||        [3.99361E-4]|             [0.002]|               [0.0]|  21258|      null|     null|       null|         false|   null|   null|    null|       null|               [0.0]|         false|    null|       null|[{HG00096, true, ...|\n",
            "|        22|16050606|16050607|       [rs587720402]|              G|                 [A]|100.0| [PASS]|                false|     null|             [5]|      null|   2504|               [0.0]|  [SNP]|   5008|             false|               [0.0]|      null|   .||||        [9.98403E-4]|               [0.0]|            [0.0014]|  20274|      null|     null|       null|         false|   null|   null|    null|       null|             [0.004]|         false|    null|       null|[{HG00096, true, ...|\n",
            "|        22|16050626|16050627|       [rs587593704]|              G|                 [T]|100.0| [PASS]|                false|     null|             [2]|      null|   2504|               [0.0]|  [SNP]|   5008|             false|             [0.001]|      null|   .||||        [3.99361E-4]|               [0.0]|            [0.0014]|  21022|      null|     null|       null|         false|   null|   null|    null|       null|               [0.0]|         false|    null|       null|[{HG00096, true, ...|\n",
            "|        22|16050645|16050646|       [rs587670191]|              G|                 [T]|100.0| [PASS]|                false|     null|             [1]|      null|   2504|               [0.0]|  [SNP]|   5008|             false|             [0.001]|      null|   .||||        [1.99681E-4]|               [0.0]|               [0.0]|  22073|      null|     null|       null|         false|   null|   null|    null|       null|               [0.0]|         false|    null|       null|[{HG00096, true, ...|\n",
            "|        22|16050653|16063474|[esv3647175;esv36...|              A|[<CN0>, <CN2>, <C...|100.0| [PASS]|                false|     null|[9, 87, 599, 20]|      null|   2504|[0.0061, 0.0363, ...|   [SV]|   5008|             false|[0.0, 0.0082, 0.1...|      null|   null|[0.00179712, 0.01...|[0.001, 0.0169, 0...|[0.0, 0.0101, 0.2...|  22545|      null|     null|       null|         false| DUP_gs|   null|    null|       null|[0.0, 0.007, 0.09...|         false|    null|        CNV|[{HG00096, true, ...|\n",
            "+----------+--------+--------+--------------------+---------------+--------------------+-----+-------+---------------------+---------+----------------+----------+-------+--------------------+-------+-------+------------------+--------------------+----------+-------+--------------------+--------------------+--------------------+-------+----------+---------+-----------+--------------+-------+-------+--------+-----------+--------------------+--------------+--------+-----------+--------------------+\n",
            "only showing top 10 rows\n",
            "\n"
          ]
        }
      ],
      "source": [
        "vcf_path = \"/content/output.vcf\"\n",
        "vcf_df = spark.read.format(\"vcf\").load(vcf_path)\n",
        "\n",
        "vcf_df.show(10)"
      ]
    },
    {
      "cell_type": "code",
      "execution_count": 65,
      "metadata": {
        "collapsed": true,
        "id": "EW0ol9DiF2cM",
        "colab": {
          "base_uri": "https://localhost:8080/"
        },
        "outputId": "3de0922f-fa1e-43fd-dc01-f64ffdf643a5"
      },
      "outputs": [
        {
          "output_type": "stream",
          "name": "stdout",
          "text": [
            "root\n",
            " |-- contigName: string (nullable = true)\n",
            " |-- start: long (nullable = true)\n",
            " |-- end: long (nullable = true)\n",
            " |-- names: array (nullable = true)\n",
            " |    |-- element: string (containsNull = true)\n",
            " |-- referenceAllele: string (nullable = true)\n",
            " |-- alternateAlleles: array (nullable = true)\n",
            " |    |-- element: string (containsNull = true)\n",
            " |-- qual: double (nullable = true)\n",
            " |-- filters: array (nullable = true)\n",
            " |    |-- element: string (containsNull = true)\n",
            " |-- splitFromMultiAllelic: boolean (nullable = true)\n",
            " |-- INFO_MEND: integer (nullable = true)\n",
            " |-- INFO_AC: array (nullable = true)\n",
            " |    |-- element: integer (containsNull = true)\n",
            " |-- INFO_CIEND: array (nullable = true)\n",
            " |    |-- element: integer (containsNull = true)\n",
            " |-- INFO_NS: integer (nullable = true)\n",
            " |-- INFO_AFR_AF: array (nullable = true)\n",
            " |    |-- element: double (containsNull = true)\n",
            " |-- INFO_VT: array (nullable = true)\n",
            " |    |-- element: string (containsNull = true)\n",
            " |-- INFO_AN: integer (nullable = true)\n",
            " |-- INFO_MULTI_ALLELIC: boolean (nullable = true)\n",
            " |-- INFO_SAS_AF: array (nullable = true)\n",
            " |    |-- element: double (containsNull = true)\n",
            " |-- INFO_CIPOS: array (nullable = true)\n",
            " |    |-- element: integer (containsNull = true)\n",
            " |-- INFO_AA: string (nullable = true)\n",
            " |-- INFO_AF: array (nullable = true)\n",
            " |    |-- element: double (containsNull = true)\n",
            " |-- INFO_EAS_AF: array (nullable = true)\n",
            " |    |-- element: double (containsNull = true)\n",
            " |-- INFO_AMR_AF: array (nullable = true)\n",
            " |    |-- element: double (containsNull = true)\n",
            " |-- INFO_DP: integer (nullable = true)\n",
            " |-- INFO_SVLEN: array (nullable = true)\n",
            " |    |-- element: integer (containsNull = true)\n",
            " |-- INFO_MLEN: integer (nullable = true)\n",
            " |-- INFO_MEINFO: array (nullable = true)\n",
            " |    |-- element: string (containsNull = true)\n",
            " |-- INFO_IMPRECISE: boolean (nullable = true)\n",
            " |-- INFO_CS: string (nullable = true)\n",
            " |-- INFO_MC: array (nullable = true)\n",
            " |    |-- element: string (containsNull = true)\n",
            " |-- INFO_END: integer (nullable = true)\n",
            " |-- INFO_MSTART: integer (nullable = true)\n",
            " |-- INFO_EUR_AF: array (nullable = true)\n",
            " |    |-- element: double (containsNull = true)\n",
            " |-- INFO_EX_TARGET: boolean (nullable = true)\n",
            " |-- INFO_TSD: string (nullable = true)\n",
            " |-- INFO_SVTYPE: string (nullable = true)\n",
            " |-- genotypes: array (nullable = true)\n",
            " |    |-- element: struct (containsNull = true)\n",
            " |    |    |-- sampleId: string (nullable = true)\n",
            " |    |    |-- phased: boolean (nullable = true)\n",
            " |    |    |-- calls: array (nullable = true)\n",
            " |    |    |    |-- element: integer (containsNull = true)\n",
            "\n"
          ]
        }
      ],
      "source": [
        "#Understand the dataset schema\n",
        "vcf_df.printSchema()"
      ]
    },
    {
      "cell_type": "code",
      "execution_count": 66,
      "metadata": {
        "colab": {
          "base_uri": "https://localhost:8080/"
        },
        "id": "8H2OTFbTF0UV",
        "outputId": "c149d68f-4c48-4d56-8bde-a27cbdcb21ef"
      },
      "outputs": [
        {
          "output_type": "execute_result",
          "data": {
            "text/plain": [
              "1103547"
            ]
          },
          "metadata": {},
          "execution_count": 66
        }
      ],
      "source": [
        "#Count rows to know the number of variants\n",
        "vcf_df.count()"
      ]
    },
    {
      "cell_type": "code",
      "execution_count": 67,
      "metadata": {
        "colab": {
          "base_uri": "https://localhost:8080/"
        },
        "id": "1YBv41A3ohq2",
        "outputId": "ba29cd4c-bd6d-4c90-e9c2-50b19f2042d3"
      },
      "outputs": [
        {
          "output_type": "stream",
          "name": "stdout",
          "text": [
            "+------------+-------+\n",
            "|     INFO_VT|  count|\n",
            "+------------+-------+\n",
            "|[SNP, INDEL]|    871|\n",
            "|       [SNP]|1059517|\n",
            "|        [SV]|    782|\n",
            "|     [INDEL]|  42377|\n",
            "+------------+-------+\n",
            "\n"
          ]
        }
      ],
      "source": [
        "# Count the number of variants by type\n",
        "variant_counts = vcf_df.groupBy(\"INFO_VT\").count()\n",
        "variant_counts.show()"
      ]
    },
    {
      "cell_type": "markdown",
      "metadata": {
        "id": "iCy7gHc7p2Io"
      },
      "source": [
        "[SNP]: 1,059,517 variants are Single Nucleotide Polymorphisms.\n",
        "\n",
        "[INDEL]: 42,377 variants are insertions or deletions.\n",
        "\n",
        "[SV]: 782 are Structural Variants.\n",
        "\n",
        "[SNP, INDEL]: 871 variants are identified as both SNPs and INDELs, which may indicate a complex variant or multiple annotations."
      ]
    },
    {
      "cell_type": "code",
      "source": [
        "#Remove compressed files to free memory\n",
        "vcf_gz_path = '/content/output.vcf.gz'\n",
        "if os.path.exists(vcf_gz_path):\n",
        "    os.remove(vcf_gz_path)\n",
        "    print(f\"Deleted {vcf_gz_path} to free up space.\")\n",
        "else:\n",
        "    print(f\"{vcf_gz_path} does not exist.\")"
      ],
      "metadata": {
        "colab": {
          "base_uri": "https://localhost:8080/"
        },
        "id": "crw6sLEMXEOU",
        "outputId": "1079e0e9-6432-42dd-bd45-9e4bb6905fbf"
      },
      "execution_count": 70,
      "outputs": [
        {
          "output_type": "stream",
          "name": "stdout",
          "text": [
            "Deleted ensembl-vep.zip to free up space.\n"
          ]
        }
      ]
    },
    {
      "cell_type": "markdown",
      "metadata": {
        "id": "_2sdIG_Rxd7_"
      },
      "source": [
        "\n",
        "## Step 3: Filter the Data and Perform Analysis\n",
        "\n",
        "Now that we have the annotated data, we will filter it again for the region of interest and then proceed with various analyses, such as counting variant types and analyzing allele frequencies.\n"
      ]
    },
    {
      "cell_type": "code",
      "execution_count": 71,
      "metadata": {
        "colab": {
          "base_uri": "https://localhost:8080/"
        },
        "id": "OUaCIHXqyejt",
        "outputId": "29b6e588-2fcd-49d6-ef75-61bd0d4a681c"
      },
      "outputs": [
        {
          "output_type": "stream",
          "name": "stdout",
          "text": [
            "+----------+--------+--------+-------------+---------------+----------------+-----+-------+---------------------+---------+-------+----------+-------+-----------+-------+-------+------------------+-----------+----------+-------+------------+-----------+-----------+-------+----------+---------+-----------+--------------+-------+-------+--------+-----------+-----------+--------------+--------+-----------+--------------------+\n",
            "|contigName|   start|     end|        names|referenceAllele|alternateAlleles| qual|filters|splitFromMultiAllelic|INFO_MEND|INFO_AC|INFO_CIEND|INFO_NS|INFO_AFR_AF|INFO_VT|INFO_AN|INFO_MULTI_ALLELIC|INFO_SAS_AF|INFO_CIPOS|INFO_AA|     INFO_AF|INFO_EAS_AF|INFO_AMR_AF|INFO_DP|INFO_SVLEN|INFO_MLEN|INFO_MEINFO|INFO_IMPRECISE|INFO_CS|INFO_MC|INFO_END|INFO_MSTART|INFO_EUR_AF|INFO_EX_TARGET|INFO_TSD|INFO_SVTYPE|           genotypes|\n",
            "+----------+--------+--------+-------------+---------------+----------------+-----+-------+---------------------+---------+-------+----------+-------+-----------+-------+-------+------------------+-----------+----------+-------+------------+-----------+-----------+-------+----------+---------+-----------+--------------+-------+-------+--------+-----------+-----------+--------------+--------+-----------+--------------------+\n",
            "|        22|18800588|18800589|[rs556242841]|              C|             [G]|100.0| [PASS]|                false|     null|    [1]|      null|   2504|   [8.0E-4]|  [SNP]|   5008|             false|      [0.0]|      null|   c||||[1.99681E-4]|      [0.0]|      [0.0]|  34143|      null|     null|       null|         false|   null|   null|    null|       null|      [0.0]|         false|    null|       null|[{HG00096, true, ...|\n",
            "|        22|18800947|18800948|[rs576358730]|              C|             [T]|100.0| [PASS]|                false|     null|    [4]|      null|   2504|    [0.003]|  [SNP]|   5008|             false|      [0.0]|      null|   c||||[7.98722E-4]|      [0.0]|      [0.0]|  31765|      null|     null|       null|         false|   null|   null|    null|       null|      [0.0]|         false|    null|       null|[{HG00096, true, ...|\n",
            "|        22|18801153|18801154|[rs542117310]|              G|             [A]|100.0| [PASS]|                false|     null|    [1]|      null|   2504|      [0.0]|  [SNP]|   5008|             false|    [0.001]|      null|   g||||[1.99681E-4]|      [0.0]|      [0.0]|  34054|      null|     null|       null|         false|   null|   null|    null|       null|      [0.0]|         false|    null|       null|[{HG00096, true, ...|\n",
            "|        22|18801213|18801214|[rs555242065]|              G|             [A]|100.0| [PASS]|                false|     null|    [1]|      null|   2504|   [8.0E-4]|  [SNP]|   5008|             false|      [0.0]|      null|   g||||[1.99681E-4]|      [0.0]|      [0.0]|  28715|      null|     null|       null|         false|   null|   null|    null|       null|      [0.0]|         false|    null|       null|[{HG00096, true, ...|\n",
            "|        22|18801231|18801232|[rs572184336]|              T|             [C]|100.0| [PASS]|                false|     null|   [60]|      null|   2504|   [0.0431]|  [SNP]|   5008|             false|      [0.0]|      null|   t|||| [0.0119808]|      [0.0]|   [0.0043]|  26403|      null|     null|       null|         false|   null|   null|    null|       null|      [0.0]|         false|    null|       null|[{HG00096, true, ...|\n",
            "|        22|18801232|18801233|[rs540901189]|              C|             [T]|100.0| [PASS]|                false|     null|    [3]|      null|   2504|      [0.0]|  [SNP]|   5008|             false|      [0.0]|      null|   c||||[5.99042E-4]|      [0.0]|   [0.0014]|  26335|      null|     null|       null|         false|   null|   null|    null|       null|    [0.002]|         false|    null|       null|[{HG00096, true, ...|\n",
            "|        22|18801252|18801253| [rs77348455]|              G|             [A]|100.0| [PASS]|                false|     null| [2075]|      null|   2504|   [0.5628]|  [SNP]|   5008|             false|   [0.4039]|      null|   g||||  [0.414337]|   [0.1488]|   [0.3963]|  23062|      null|     null|       null|         false|   null|   null|    null|       null|    [0.508]|         false|    null|       null|[{HG00096, true, ...|\n",
            "|        22|18801268|18801269|  [rs3984232]|              A|             [G]|100.0| [PASS]|                false|     null|  [786]|      null|   2504|   [0.1483]|  [SNP]|   5008|             false|   [0.1268]|      null|   N||||  [0.156949]|   [0.1042]|   [0.2017]|  19955|      null|     null|       null|         false|   null|   null|    null|       null|   [0.2197]|         false|    null|       null|[{HG00096, true, ...|\n",
            "|        22|18801384|18801385|[rs543362580]|              C|             [T]|100.0| [PASS]|                false|     null|    [3]|      null|   2504|      [0.0]|  [SNP]|   5008|             false|      [0.0]|      null|   c||||[5.99042E-4]|    [0.003]|      [0.0]|  35115|      null|     null|       null|         false|   null|   null|    null|       null|      [0.0]|         false|    null|       null|[{HG00096, true, ...|\n",
            "|        22|18801400|18801401|[rs563350201]|              G|             [A]|100.0| [PASS]|                false|     null|    [1]|      null|   2504|      [0.0]|  [SNP]|   5008|             false|      [0.0]|      null|   g||||[1.99681E-4]|    [0.001]|      [0.0]|  34952|      null|     null|       null|         false|   null|   null|    null|       null|      [0.0]|         false|    null|       null|[{HG00096, true, ...|\n",
            "+----------+--------+--------+-------------+---------------+----------------+-----+-------+---------------------+---------+-------+----------+-------+-----------+-------+-------+------------------+-----------+----------+-------+------------+-----------+-----------+-------+----------+---------+-----------+--------------+-------+-------+--------+-----------+-----------+--------------+--------+-----------+--------------------+\n",
            "only showing top 10 rows\n",
            "\n"
          ]
        }
      ],
      "source": [
        "# Filter the annotated DataFrame for variants within the DiGeorge Syndrome region on chromosome 22\n",
        "df_22q11 = vcf_df.filter(\n",
        "    (vcf_df.start >= 18800000) &\n",
        "    (vcf_df.start <= 21400000)\n",
        ")\n",
        "\n",
        "# Show the first few rows of the filtered annotated DataFrame\n",
        "df_22q11.show(10)\n"
      ]
    },
    {
      "cell_type": "code",
      "execution_count": 73,
      "metadata": {
        "colab": {
          "base_uri": "https://localhost:8080/"
        },
        "id": "eX04etmB175u",
        "outputId": "526ec248-21bc-476b-b93d-ad547ba70d2d"
      },
      "outputs": [
        {
          "output_type": "stream",
          "name": "stdout",
          "text": [
            "+------------+-----+\n",
            "|     INFO_VT|count|\n",
            "+------------+-----+\n",
            "|[SNP, INDEL]|   52|\n",
            "|       [SNP]|70262|\n",
            "|        [SV]|   53|\n",
            "|     [INDEL]| 2766|\n",
            "+------------+-----+\n",
            "\n",
            "+-------+-------------------+\n",
            "|summary|         AlleleFreq|\n",
            "+-------+-------------------+\n",
            "|  count|              74493|\n",
            "|   mean|0.03754631860549758|\n",
            "| stddev|0.13305905668754203|\n",
            "|    min|                0.0|\n",
            "|    max|                1.0|\n",
            "+-------+-------------------+\n",
            "\n"
          ]
        }
      ],
      "source": [
        "# Group by variant type and count the occurrences\n",
        "df_22q11.groupBy(\"INFO_VT\").count().show()\n",
        "\n",
        "# Explode the 'alternateAlleles' column to create a row for each alternate allele\n",
        "df_22q11 = df_22q11.withColumn(\"alt\", explode(col(\"alternateAlleles\")))\n",
        "\n",
        "# Explode the 'INFO_AF' column and rename the exploded column to 'AlleleFreq'\n",
        "df_22q11 = df_22q11.withColumn(\"AlleleFreq\", explode(col(\"INFO_AF\")))\n",
        "\n",
        "# Describe allele frequencies\n",
        "df_22q11.select(\"AlleleFreq\").describe().show()"
      ]
    },
    {
      "cell_type": "markdown",
      "metadata": {
        "id": "Pca0S7OJr5ou"
      },
      "source": [
        "\n",
        "## Step 4: Visualize the Allele Frequency Distribution\n",
        "\n",
        "We will visualize the distribution of allele frequencies within the DiGeorge Syndrome region using a histogram.\n"
      ]
    },
    {
      "cell_type": "code",
      "execution_count": 74,
      "metadata": {
        "colab": {
          "base_uri": "https://localhost:8080/"
        },
        "id": "KRMuM3rZqwbL",
        "outputId": "575e55a8-1dd4-424b-d416-763f298d8ede"
      },
      "outputs": [
        {
          "output_type": "stream",
          "name": "stdout",
          "text": [
            "+------------+-----+\n",
            "|     INFO_VT|count|\n",
            "+------------+-----+\n",
            "|[SNP, INDEL]|  213|\n",
            "|       [SNP]|71081|\n",
            "|        [SV]|   68|\n",
            "|     [INDEL]| 3131|\n",
            "+------------+-----+\n",
            "\n"
          ]
        }
      ],
      "source": [
        "# Group by variant type and count the occurrences\n",
        "df_22q11.groupBy(\"INFO_VT\").count().show()"
      ]
    },
    {
      "cell_type": "code",
      "execution_count": 75,
      "metadata": {
        "id": "n2bEBj4HaHgB"
      },
      "outputs": [],
      "source": [
        "from pyspark.sql.functions import explode, col\n",
        "\n",
        "# Explode the 'alternateAlleles' column to create a row for each alternate allele\n",
        "df_22q11 = df_22q11.withColumn(\"alt\", explode(col(\"alternateAlleles\")))"
      ]
    },
    {
      "cell_type": "code",
      "execution_count": 76,
      "metadata": {
        "colab": {
          "base_uri": "https://localhost:8080/"
        },
        "id": "r-E6g3v0YrFf",
        "outputId": "449c07b8-b54c-4cc1-8848-903d07f20082"
      },
      "outputs": [
        {
          "output_type": "stream",
          "name": "stdout",
          "text": [
            "+-------+--------------------+\n",
            "|summary|          AlleleFreq|\n",
            "+-------+--------------------+\n",
            "|  count|               81993|\n",
            "|   mean|0.041034968677512815|\n",
            "| stddev| 0.13676641935893077|\n",
            "|    min|                 0.0|\n",
            "|    max|                 1.0|\n",
            "+-------+--------------------+\n",
            "\n"
          ]
        }
      ],
      "source": [
        "# Describe allele frequencies\n",
        "# Explode the 'INFO_AF' column and rename the exploded column to 'AlleleFreq'\n",
        "df_22q11 = df_22q11.withColumn(\"AlleleFreq\", explode(col(\"INFO_AF\")))\n",
        "\n",
        "#Lets describe the allele frequency\n",
        "df_22q11.select(\"AlleleFreq\").describe().show()"
      ]
    },
    {
      "cell_type": "markdown",
      "metadata": {
        "id": "fJHMfkGx25eH"
      },
      "source": [
        "- **Variant Distribution**: The majority of variants in the DiGeorge Syndrome region are SNPs."
      ]
    },
    {
      "cell_type": "code",
      "execution_count": 77,
      "metadata": {
        "colab": {
          "base_uri": "https://localhost:8080/",
          "height": 564
        },
        "id": "4Oz5_jQ5rhLx",
        "outputId": "d9f363a7-7056-44b4-95c2-6b8222341824"
      },
      "outputs": [
        {
          "output_type": "display_data",
          "data": {
            "text/plain": [
              "<Figure size 1000x600 with 1 Axes>"
            ],
            "image/png": "[encoded data removed]"
          },
          "metadata": {}
        }
      ],
      "source": [
        "# Convert the DataFrame to a Pandas DataFrame for easier plotting\n",
        "allele_freqs = df_22q11.select(\"AlleleFreq\").toPandas()\n",
        "\n",
        "# Plot a histogram of allele frequencies\n",
        "plt.figure(figsize=(10, 6))\n",
        "plt.hist(allele_freqs, bins=30, density=True, alpha=0.5, color='blue')\n",
        "plt.title('Histogram of Allele Frequencies for Rare Variants')\n",
        "plt.xlabel('Allele Frequency')\n",
        "plt.ylabel('Density')\n",
        "plt.show()"
      ]
    },
    {
      "cell_type": "markdown",
      "metadata": {
        "id": "LrSdaKu_saKG"
      },
      "source": [
        "High Peak at Low Frequencies: The tall peak near 0 indicates that the majority of variants have very low allele frequencies. These could represent rare variants that might have more significant impacts on individuals.\n",
        "\n",
        "Sparse High-Frequency Variants: There are very few variants with higher allele frequencies, suggesting that most of the genetic variation in this region consists of rare variants."
      ]
    },
    {
      "cell_type": "markdown",
      "metadata": {
        "id": "c9lSd6IgtX8z"
      },
      "source": [
        "## Step 5: Focus on Rare Variants"
      ]
    },
    {
      "cell_type": "code",
      "execution_count": 78,
      "metadata": {
        "colab": {
          "base_uri": "https://localhost:8080/"
        },
        "id": "81NHRrlFtZTQ",
        "outputId": "4f259d42-e04f-41c3-e323-40da7c91c495"
      },
      "outputs": [
        {
          "output_type": "stream",
          "name": "stdout",
          "text": [
            "+----------+--------+--------+-------------+---------------+----------------+-----+-------+---------------------+---------+-------+----------+-------+-----------+-------+-------+------------------+-----------+----------+-------+------------+-----------+-----------+-------+----------+---------+-----------+--------------+-------+-------+--------+-----------+-----------+--------------+--------+-----------+--------------------+---+----------+\n",
            "|contigName|   start|     end|        names|referenceAllele|alternateAlleles| qual|filters|splitFromMultiAllelic|INFO_MEND|INFO_AC|INFO_CIEND|INFO_NS|INFO_AFR_AF|INFO_VT|INFO_AN|INFO_MULTI_ALLELIC|INFO_SAS_AF|INFO_CIPOS|INFO_AA|     INFO_AF|INFO_EAS_AF|INFO_AMR_AF|INFO_DP|INFO_SVLEN|INFO_MLEN|INFO_MEINFO|INFO_IMPRECISE|INFO_CS|INFO_MC|INFO_END|INFO_MSTART|INFO_EUR_AF|INFO_EX_TARGET|INFO_TSD|INFO_SVTYPE|           genotypes|alt|AlleleFreq|\n",
            "+----------+--------+--------+-------------+---------------+----------------+-----+-------+---------------------+---------+-------+----------+-------+-----------+-------+-------+------------------+-----------+----------+-------+------------+-----------+-----------+-------+----------+---------+-----------+--------------+-------+-------+--------+-----------+-----------+--------------+--------+-----------+--------------------+---+----------+\n",
            "|        22|18800588|18800589|[rs556242841]|              C|             [G]|100.0| [PASS]|                false|     null|    [1]|      null|   2504|   [8.0E-4]|  [SNP]|   5008|             false|      [0.0]|      null|   c||||[1.99681E-4]|      [0.0]|      [0.0]|  34143|      null|     null|       null|         false|   null|   null|    null|       null|      [0.0]|         false|    null|       null|[{HG00096, true, ...|  G|1.99681E-4|\n",
            "|        22|18800947|18800948|[rs576358730]|              C|             [T]|100.0| [PASS]|                false|     null|    [4]|      null|   2504|    [0.003]|  [SNP]|   5008|             false|      [0.0]|      null|   c||||[7.98722E-4]|      [0.0]|      [0.0]|  31765|      null|     null|       null|         false|   null|   null|    null|       null|      [0.0]|         false|    null|       null|[{HG00096, true, ...|  T|7.98722E-4|\n",
            "|        22|18801153|18801154|[rs542117310]|              G|             [A]|100.0| [PASS]|                false|     null|    [1]|      null|   2504|      [0.0]|  [SNP]|   5008|             false|    [0.001]|      null|   g||||[1.99681E-4]|      [0.0]|      [0.0]|  34054|      null|     null|       null|         false|   null|   null|    null|       null|      [0.0]|         false|    null|       null|[{HG00096, true, ...|  A|1.99681E-4|\n",
            "|        22|18801213|18801214|[rs555242065]|              G|             [A]|100.0| [PASS]|                false|     null|    [1]|      null|   2504|   [8.0E-4]|  [SNP]|   5008|             false|      [0.0]|      null|   g||||[1.99681E-4]|      [0.0]|      [0.0]|  28715|      null|     null|       null|         false|   null|   null|    null|       null|      [0.0]|         false|    null|       null|[{HG00096, true, ...|  A|1.99681E-4|\n",
            "|        22|18801231|18801232|[rs572184336]|              T|             [C]|100.0| [PASS]|                false|     null|   [60]|      null|   2504|   [0.0431]|  [SNP]|   5008|             false|      [0.0]|      null|   t|||| [0.0119808]|      [0.0]|   [0.0043]|  26403|      null|     null|       null|         false|   null|   null|    null|       null|      [0.0]|         false|    null|       null|[{HG00096, true, ...|  C| 0.0119808|\n",
            "|        22|18801232|18801233|[rs540901189]|              C|             [T]|100.0| [PASS]|                false|     null|    [3]|      null|   2504|      [0.0]|  [SNP]|   5008|             false|      [0.0]|      null|   c||||[5.99042E-4]|      [0.0]|   [0.0014]|  26335|      null|     null|       null|         false|   null|   null|    null|       null|    [0.002]|         false|    null|       null|[{HG00096, true, ...|  T|5.99042E-4|\n",
            "|        22|18801384|18801385|[rs543362580]|              C|             [T]|100.0| [PASS]|                false|     null|    [3]|      null|   2504|      [0.0]|  [SNP]|   5008|             false|      [0.0]|      null|   c||||[5.99042E-4]|    [0.003]|      [0.0]|  35115|      null|     null|       null|         false|   null|   null|    null|       null|      [0.0]|         false|    null|       null|[{HG00096, true, ...|  T|5.99042E-4|\n",
            "|        22|18801400|18801401|[rs563350201]|              G|             [A]|100.0| [PASS]|                false|     null|    [1]|      null|   2504|      [0.0]|  [SNP]|   5008|             false|      [0.0]|      null|   g||||[1.99681E-4]|    [0.001]|      [0.0]|  34952|      null|     null|       null|         false|   null|   null|    null|       null|      [0.0]|         false|    null|       null|[{HG00096, true, ...|  A|1.99681E-4|\n",
            "|        22|18801442|18801443|[rs529524366]|              G|             [A]|100.0| [PASS]|                false|     null|    [2]|      null|   2504|   [0.0015]|  [SNP]|   5008|             false|      [0.0]|      null|   g||||[3.99361E-4]|      [0.0]|      [0.0]|  30272|      null|     null|       null|         false|   null|   null|    null|       null|      [0.0]|         false|    null|       null|[{HG00096, true, ...|  A|3.99361E-4|\n",
            "|        22|18801474|18801475|[rs549674945]|              T|             [C]|100.0| [PASS]|                false|     null|    [1]|      null|   2504|      [0.0]|  [SNP]|   5008|             false|    [0.001]|      null|   t||||[1.99681E-4]|      [0.0]|      [0.0]|  20534|      null|     null|       null|         false|   null|   null|    null|       null|      [0.0]|         false|    null|       null|[{HG00096, true, ...|  C|1.99681E-4|\n",
            "+----------+--------+--------+-------------+---------------+----------------+-----+-------+---------------------+---------+-------+----------+-------+-----------+-------+-------+------------------+-----------+----------+-------+------------+-----------+-----------+-------+----------+---------+-----------+--------------+-------+-------+--------+-----------+-----------+--------------+--------+-----------+--------------------+---+----------+\n",
            "only showing top 10 rows\n",
            "\n"
          ]
        }
      ],
      "source": [
        "# Filter the DataFrame to obtain only rare variants (allele frequency < 0.05).\n",
        "# This is important because rare variants often have a higher impact on genetic diseases.\n",
        "rare_variants_df = df_22q11.filter(df_22q11[\"AlleleFreq\"] < 0.05)\n",
        "\n",
        "# Show the first 10 rows of the filtered DataFrame to verify that the filter was applied correctly.\n",
        "rare_variants_df.show(10)"
      ]
    },
    {
      "cell_type": "code",
      "execution_count": 79,
      "metadata": {
        "colab": {
          "base_uri": "https://localhost:8080/"
        },
        "id": "e1m8SQ25tdzP",
        "outputId": "6322e2b7-52ad-43ea-a385-1bcdc4f916b0"
      },
      "outputs": [
        {
          "output_type": "stream",
          "name": "stdout",
          "text": [
            "+----------+-----+\n",
            "|   INFO_CS|count|\n",
            "+----------+-----+\n",
            "|      null|71985|\n",
            "| DUP_uwash|   22|\n",
            "| DEL_union|   30|\n",
            "|    DUP_gs|   67|\n",
            "|  L1_umary|    1|\n",
            "| ALU_umary|    2|\n",
            "| SVA_umary|    1|\n",
            "|NUMT_umich|    1|\n",
            "+----------+-----+\n",
            "\n"
          ]
        }
      ],
      "source": [
        "# Check if the consequence type column exists and group by it\n",
        "rare_variants_df.groupBy(\"INFO_CS\").count().show()"
      ]
    },
    {
      "cell_type": "code",
      "execution_count": null,
      "metadata": {
        "id": "LcouydJ8tfqz"
      },
      "outputs": [],
      "source": [
        "consequence_counts = rare_variants_df.groupBy(\"INFO_CS\").count().orderBy(\"count\", ascending=False)\n",
        "consequence_counts = consequence_counts.dropna(subset=[\"INFO_CS\"])  # Add this line to drop rows with missing values\n",
        "labels, values = zip(*consequence_counts.collect())\n",
        "\n",
        "plt.figure(figsize=(12, 7))\n",
        "plt.bar(labels, values, color='green')\n",
        "plt.title('Distribution of Consequence Types for Rare Variants in DiGeorge Syndrome Region')\n",
        "plt.xlabel('Consequence Type')\n",
        "plt.ylabel('Count')\n",
        "plt.xticks(rotation=45, ha=\"right\")\n",
        "plt.show()\n",
        "\n",
        "#Free memory\n",
        "consequence_counts = None\n",
        "labels = None\n",
        "values = None"
      ]
    },
    {
      "cell_type": "code",
      "source": [
        "pos, allele_freqs = zip(*rare_variants_df.select(\"start\", \"AlleleFreq\").sample(False, 0.01).collect())\n",
        "\n",
        "plt.figure(figsize=(12, 6))\n",
        "plt.scatter(pos, allele_freqs, alpha=0.5)\n",
        "plt.title('Scatter Plot of Variants along Chromosome 22')\n",
        "plt.xlabel('Position on Chromosome 22')\n",
        "plt.ylabel('Allele Frequency')\n",
        "plt.show()"
      ],
      "metadata": {
        "colab": {
          "base_uri": "https://localhost:8080/",
          "height": 564
        },
        "id": "m-RXqX5VUvdD",
        "outputId": "2f7866d6-a494-41eb-c99b-9495ac6bddff"
      },
      "execution_count": 80,
      "outputs": [
        {
          "output_type": "display_data",
          "data": {
            "text/plain": [
              "<Figure size 1200x600 with 1 Axes>"
            ],
            "image/png": "[encoded data removed]"
          },
          "metadata": {}
        }
      ]
    }
  ],
  "metadata": {
    "colab": {
      "collapsed_sections": [
        "mPWsqBA03IpF",
        "2dVBZN0l3OT7",
        "DExQvZV7t8LR",
        "_2sdIG_Rxd7_",
        "Pca0S7OJr5ou",
        "c9lSd6IgtX8z"
      ],
      "provenance": []
    },
    "kernelspec": {
      "display_name": "Python 3",
      "name": "python3"
    },
    "language_info": {
      "name": "python"
    }
  },
  "nbformat": 4,
  "nbformat_minor": 0
}